{
 "cells": [
  {
   "cell_type": "markdown",
   "id": "13cfb685",
   "metadata": {
    "deletable": false,
    "editable": false,
    "id": "c81daeeb"
   },
   "source": [
    "# Исследование надежности заемщиков\n"
   ]
  },
  {
   "cell_type": "markdown",
   "id": "5a696c7f",
   "metadata": {
    "deletable": false,
    "editable": false,
    "id": "744d7639"
   },
   "source": [
    "## Откройте таблицу и изучите общую информацию о данных"
   ]
  },
  {
   "cell_type": "markdown",
   "id": "154d2d74",
   "metadata": {
    "deletable": false,
    "editable": false,
    "id": "e7a14c31"
   },
   "source": [
    "**Задание 1. Импортируйте библиотеку pandas. Считайте данные из csv-файла в датафрейм и сохраните в переменную `data`. Путь к файлу:**\n",
    "\n",
    "`/datasets/data.csv`"
   ]
  },
  {
   "cell_type": "code",
   "execution_count": 2,
   "id": "e1c79827",
   "metadata": {
    "deletable": false,
    "id": "7bcf75c9"
   },
   "outputs": [],
   "source": [
    "import pandas as pd\n",
    "\n",
    "try:\n",
    "    data = pd.read_csv('/datasets/data.csv')\n",
    "except:\n",
    "    data = pd.read_csv('https://code.s3.yandex.net/datasets/data.csv')"
   ]
  },
  {
   "cell_type": "markdown",
   "id": "32b6e4e9",
   "metadata": {
    "deletable": false,
    "editable": false,
    "id": "b8038fe3"
   },
   "source": [
    "**Задание 2. Выведите первые 20 строчек датафрейма `data` на экран.**"
   ]
  },
  {
   "cell_type": "code",
   "execution_count": 3,
   "id": "f709b362",
   "metadata": {
    "deletable": false,
    "id": "2a7cab99",
    "outputId": "1a8f3ef2-d323-4ec2-ddf7-89670b5944c4"
   },
   "outputs": [
    {
     "data": {
      "text/html": [
       "<div>\n",
       "<style scoped>\n",
       "    .dataframe tbody tr th:only-of-type {\n",
       "        vertical-align: middle;\n",
       "    }\n",
       "\n",
       "    .dataframe tbody tr th {\n",
       "        vertical-align: top;\n",
       "    }\n",
       "\n",
       "    .dataframe thead th {\n",
       "        text-align: right;\n",
       "    }\n",
       "</style>\n",
       "<table border=\"1\" class=\"dataframe\">\n",
       "  <thead>\n",
       "    <tr style=\"text-align: right;\">\n",
       "      <th></th>\n",
       "      <th>children</th>\n",
       "      <th>days_employed</th>\n",
       "      <th>dob_years</th>\n",
       "      <th>education</th>\n",
       "      <th>education_id</th>\n",
       "      <th>family_status</th>\n",
       "      <th>family_status_id</th>\n",
       "      <th>gender</th>\n",
       "      <th>income_type</th>\n",
       "      <th>debt</th>\n",
       "      <th>total_income</th>\n",
       "      <th>purpose</th>\n",
       "    </tr>\n",
       "  </thead>\n",
       "  <tbody>\n",
       "    <tr>\n",
       "      <th>0</th>\n",
       "      <td>1</td>\n",
       "      <td>-8437.673028</td>\n",
       "      <td>42</td>\n",
       "      <td>высшее</td>\n",
       "      <td>0</td>\n",
       "      <td>женат / замужем</td>\n",
       "      <td>0</td>\n",
       "      <td>F</td>\n",
       "      <td>сотрудник</td>\n",
       "      <td>0</td>\n",
       "      <td>253875.639453</td>\n",
       "      <td>покупка жилья</td>\n",
       "    </tr>\n",
       "    <tr>\n",
       "      <th>1</th>\n",
       "      <td>1</td>\n",
       "      <td>-4024.803754</td>\n",
       "      <td>36</td>\n",
       "      <td>среднее</td>\n",
       "      <td>1</td>\n",
       "      <td>женат / замужем</td>\n",
       "      <td>0</td>\n",
       "      <td>F</td>\n",
       "      <td>сотрудник</td>\n",
       "      <td>0</td>\n",
       "      <td>112080.014102</td>\n",
       "      <td>приобретение автомобиля</td>\n",
       "    </tr>\n",
       "    <tr>\n",
       "      <th>2</th>\n",
       "      <td>0</td>\n",
       "      <td>-5623.422610</td>\n",
       "      <td>33</td>\n",
       "      <td>Среднее</td>\n",
       "      <td>1</td>\n",
       "      <td>женат / замужем</td>\n",
       "      <td>0</td>\n",
       "      <td>M</td>\n",
       "      <td>сотрудник</td>\n",
       "      <td>0</td>\n",
       "      <td>145885.952297</td>\n",
       "      <td>покупка жилья</td>\n",
       "    </tr>\n",
       "    <tr>\n",
       "      <th>3</th>\n",
       "      <td>3</td>\n",
       "      <td>-4124.747207</td>\n",
       "      <td>32</td>\n",
       "      <td>среднее</td>\n",
       "      <td>1</td>\n",
       "      <td>женат / замужем</td>\n",
       "      <td>0</td>\n",
       "      <td>M</td>\n",
       "      <td>сотрудник</td>\n",
       "      <td>0</td>\n",
       "      <td>267628.550329</td>\n",
       "      <td>дополнительное образование</td>\n",
       "    </tr>\n",
       "    <tr>\n",
       "      <th>4</th>\n",
       "      <td>0</td>\n",
       "      <td>340266.072047</td>\n",
       "      <td>53</td>\n",
       "      <td>среднее</td>\n",
       "      <td>1</td>\n",
       "      <td>гражданский брак</td>\n",
       "      <td>1</td>\n",
       "      <td>F</td>\n",
       "      <td>пенсионер</td>\n",
       "      <td>0</td>\n",
       "      <td>158616.077870</td>\n",
       "      <td>сыграть свадьбу</td>\n",
       "    </tr>\n",
       "    <tr>\n",
       "      <th>5</th>\n",
       "      <td>0</td>\n",
       "      <td>-926.185831</td>\n",
       "      <td>27</td>\n",
       "      <td>высшее</td>\n",
       "      <td>0</td>\n",
       "      <td>гражданский брак</td>\n",
       "      <td>1</td>\n",
       "      <td>M</td>\n",
       "      <td>компаньон</td>\n",
       "      <td>0</td>\n",
       "      <td>255763.565419</td>\n",
       "      <td>покупка жилья</td>\n",
       "    </tr>\n",
       "    <tr>\n",
       "      <th>6</th>\n",
       "      <td>0</td>\n",
       "      <td>-2879.202052</td>\n",
       "      <td>43</td>\n",
       "      <td>высшее</td>\n",
       "      <td>0</td>\n",
       "      <td>женат / замужем</td>\n",
       "      <td>0</td>\n",
       "      <td>F</td>\n",
       "      <td>компаньон</td>\n",
       "      <td>0</td>\n",
       "      <td>240525.971920</td>\n",
       "      <td>операции с жильем</td>\n",
       "    </tr>\n",
       "    <tr>\n",
       "      <th>7</th>\n",
       "      <td>0</td>\n",
       "      <td>-152.779569</td>\n",
       "      <td>50</td>\n",
       "      <td>СРЕДНЕЕ</td>\n",
       "      <td>1</td>\n",
       "      <td>женат / замужем</td>\n",
       "      <td>0</td>\n",
       "      <td>M</td>\n",
       "      <td>сотрудник</td>\n",
       "      <td>0</td>\n",
       "      <td>135823.934197</td>\n",
       "      <td>образование</td>\n",
       "    </tr>\n",
       "    <tr>\n",
       "      <th>8</th>\n",
       "      <td>2</td>\n",
       "      <td>-6929.865299</td>\n",
       "      <td>35</td>\n",
       "      <td>ВЫСШЕЕ</td>\n",
       "      <td>0</td>\n",
       "      <td>гражданский брак</td>\n",
       "      <td>1</td>\n",
       "      <td>F</td>\n",
       "      <td>сотрудник</td>\n",
       "      <td>0</td>\n",
       "      <td>95856.832424</td>\n",
       "      <td>на проведение свадьбы</td>\n",
       "    </tr>\n",
       "    <tr>\n",
       "      <th>9</th>\n",
       "      <td>0</td>\n",
       "      <td>-2188.756445</td>\n",
       "      <td>41</td>\n",
       "      <td>среднее</td>\n",
       "      <td>1</td>\n",
       "      <td>женат / замужем</td>\n",
       "      <td>0</td>\n",
       "      <td>M</td>\n",
       "      <td>сотрудник</td>\n",
       "      <td>0</td>\n",
       "      <td>144425.938277</td>\n",
       "      <td>покупка жилья для семьи</td>\n",
       "    </tr>\n",
       "    <tr>\n",
       "      <th>10</th>\n",
       "      <td>2</td>\n",
       "      <td>-4171.483647</td>\n",
       "      <td>36</td>\n",
       "      <td>высшее</td>\n",
       "      <td>0</td>\n",
       "      <td>женат / замужем</td>\n",
       "      <td>0</td>\n",
       "      <td>M</td>\n",
       "      <td>компаньон</td>\n",
       "      <td>0</td>\n",
       "      <td>113943.491460</td>\n",
       "      <td>покупка недвижимости</td>\n",
       "    </tr>\n",
       "    <tr>\n",
       "      <th>11</th>\n",
       "      <td>0</td>\n",
       "      <td>-792.701887</td>\n",
       "      <td>40</td>\n",
       "      <td>среднее</td>\n",
       "      <td>1</td>\n",
       "      <td>женат / замужем</td>\n",
       "      <td>0</td>\n",
       "      <td>F</td>\n",
       "      <td>сотрудник</td>\n",
       "      <td>0</td>\n",
       "      <td>77069.234271</td>\n",
       "      <td>покупка коммерческой недвижимости</td>\n",
       "    </tr>\n",
       "    <tr>\n",
       "      <th>12</th>\n",
       "      <td>0</td>\n",
       "      <td>NaN</td>\n",
       "      <td>65</td>\n",
       "      <td>среднее</td>\n",
       "      <td>1</td>\n",
       "      <td>гражданский брак</td>\n",
       "      <td>1</td>\n",
       "      <td>M</td>\n",
       "      <td>пенсионер</td>\n",
       "      <td>0</td>\n",
       "      <td>NaN</td>\n",
       "      <td>сыграть свадьбу</td>\n",
       "    </tr>\n",
       "    <tr>\n",
       "      <th>13</th>\n",
       "      <td>0</td>\n",
       "      <td>-1846.641941</td>\n",
       "      <td>54</td>\n",
       "      <td>неоконченное высшее</td>\n",
       "      <td>2</td>\n",
       "      <td>женат / замужем</td>\n",
       "      <td>0</td>\n",
       "      <td>F</td>\n",
       "      <td>сотрудник</td>\n",
       "      <td>0</td>\n",
       "      <td>130458.228857</td>\n",
       "      <td>приобретение автомобиля</td>\n",
       "    </tr>\n",
       "    <tr>\n",
       "      <th>14</th>\n",
       "      <td>0</td>\n",
       "      <td>-1844.956182</td>\n",
       "      <td>56</td>\n",
       "      <td>высшее</td>\n",
       "      <td>0</td>\n",
       "      <td>гражданский брак</td>\n",
       "      <td>1</td>\n",
       "      <td>F</td>\n",
       "      <td>компаньон</td>\n",
       "      <td>1</td>\n",
       "      <td>165127.911772</td>\n",
       "      <td>покупка жилой недвижимости</td>\n",
       "    </tr>\n",
       "    <tr>\n",
       "      <th>15</th>\n",
       "      <td>1</td>\n",
       "      <td>-972.364419</td>\n",
       "      <td>26</td>\n",
       "      <td>среднее</td>\n",
       "      <td>1</td>\n",
       "      <td>женат / замужем</td>\n",
       "      <td>0</td>\n",
       "      <td>F</td>\n",
       "      <td>сотрудник</td>\n",
       "      <td>0</td>\n",
       "      <td>116820.904450</td>\n",
       "      <td>строительство собственной недвижимости</td>\n",
       "    </tr>\n",
       "    <tr>\n",
       "      <th>16</th>\n",
       "      <td>0</td>\n",
       "      <td>-1719.934226</td>\n",
       "      <td>35</td>\n",
       "      <td>среднее</td>\n",
       "      <td>1</td>\n",
       "      <td>женат / замужем</td>\n",
       "      <td>0</td>\n",
       "      <td>F</td>\n",
       "      <td>сотрудник</td>\n",
       "      <td>0</td>\n",
       "      <td>289202.704229</td>\n",
       "      <td>недвижимость</td>\n",
       "    </tr>\n",
       "    <tr>\n",
       "      <th>17</th>\n",
       "      <td>0</td>\n",
       "      <td>-2369.999720</td>\n",
       "      <td>33</td>\n",
       "      <td>высшее</td>\n",
       "      <td>0</td>\n",
       "      <td>гражданский брак</td>\n",
       "      <td>1</td>\n",
       "      <td>M</td>\n",
       "      <td>сотрудник</td>\n",
       "      <td>0</td>\n",
       "      <td>90410.586745</td>\n",
       "      <td>строительство недвижимости</td>\n",
       "    </tr>\n",
       "    <tr>\n",
       "      <th>18</th>\n",
       "      <td>0</td>\n",
       "      <td>400281.136913</td>\n",
       "      <td>53</td>\n",
       "      <td>среднее</td>\n",
       "      <td>1</td>\n",
       "      <td>вдовец / вдова</td>\n",
       "      <td>2</td>\n",
       "      <td>F</td>\n",
       "      <td>пенсионер</td>\n",
       "      <td>0</td>\n",
       "      <td>56823.777243</td>\n",
       "      <td>на покупку подержанного автомобиля</td>\n",
       "    </tr>\n",
       "    <tr>\n",
       "      <th>19</th>\n",
       "      <td>0</td>\n",
       "      <td>-10038.818549</td>\n",
       "      <td>48</td>\n",
       "      <td>СРЕДНЕЕ</td>\n",
       "      <td>1</td>\n",
       "      <td>в разводе</td>\n",
       "      <td>3</td>\n",
       "      <td>F</td>\n",
       "      <td>сотрудник</td>\n",
       "      <td>0</td>\n",
       "      <td>242831.107982</td>\n",
       "      <td>на покупку своего автомобиля</td>\n",
       "    </tr>\n",
       "  </tbody>\n",
       "</table>\n",
       "</div>"
      ],
      "text/plain": [
       "    children  days_employed  dob_years            education  education_id  \\\n",
       "0          1   -8437.673028         42               высшее             0   \n",
       "1          1   -4024.803754         36              среднее             1   \n",
       "2          0   -5623.422610         33              Среднее             1   \n",
       "3          3   -4124.747207         32              среднее             1   \n",
       "4          0  340266.072047         53              среднее             1   \n",
       "5          0    -926.185831         27               высшее             0   \n",
       "6          0   -2879.202052         43               высшее             0   \n",
       "7          0    -152.779569         50              СРЕДНЕЕ             1   \n",
       "8          2   -6929.865299         35               ВЫСШЕЕ             0   \n",
       "9          0   -2188.756445         41              среднее             1   \n",
       "10         2   -4171.483647         36               высшее             0   \n",
       "11         0    -792.701887         40              среднее             1   \n",
       "12         0            NaN         65              среднее             1   \n",
       "13         0   -1846.641941         54  неоконченное высшее             2   \n",
       "14         0   -1844.956182         56               высшее             0   \n",
       "15         1    -972.364419         26              среднее             1   \n",
       "16         0   -1719.934226         35              среднее             1   \n",
       "17         0   -2369.999720         33               высшее             0   \n",
       "18         0  400281.136913         53              среднее             1   \n",
       "19         0  -10038.818549         48              СРЕДНЕЕ             1   \n",
       "\n",
       "       family_status  family_status_id gender income_type  debt  \\\n",
       "0    женат / замужем                 0      F   сотрудник     0   \n",
       "1    женат / замужем                 0      F   сотрудник     0   \n",
       "2    женат / замужем                 0      M   сотрудник     0   \n",
       "3    женат / замужем                 0      M   сотрудник     0   \n",
       "4   гражданский брак                 1      F   пенсионер     0   \n",
       "5   гражданский брак                 1      M   компаньон     0   \n",
       "6    женат / замужем                 0      F   компаньон     0   \n",
       "7    женат / замужем                 0      M   сотрудник     0   \n",
       "8   гражданский брак                 1      F   сотрудник     0   \n",
       "9    женат / замужем                 0      M   сотрудник     0   \n",
       "10   женат / замужем                 0      M   компаньон     0   \n",
       "11   женат / замужем                 0      F   сотрудник     0   \n",
       "12  гражданский брак                 1      M   пенсионер     0   \n",
       "13   женат / замужем                 0      F   сотрудник     0   \n",
       "14  гражданский брак                 1      F   компаньон     1   \n",
       "15   женат / замужем                 0      F   сотрудник     0   \n",
       "16   женат / замужем                 0      F   сотрудник     0   \n",
       "17  гражданский брак                 1      M   сотрудник     0   \n",
       "18    вдовец / вдова                 2      F   пенсионер     0   \n",
       "19         в разводе                 3      F   сотрудник     0   \n",
       "\n",
       "     total_income                                 purpose  \n",
       "0   253875.639453                           покупка жилья  \n",
       "1   112080.014102                 приобретение автомобиля  \n",
       "2   145885.952297                           покупка жилья  \n",
       "3   267628.550329              дополнительное образование  \n",
       "4   158616.077870                         сыграть свадьбу  \n",
       "5   255763.565419                           покупка жилья  \n",
       "6   240525.971920                       операции с жильем  \n",
       "7   135823.934197                             образование  \n",
       "8    95856.832424                   на проведение свадьбы  \n",
       "9   144425.938277                 покупка жилья для семьи  \n",
       "10  113943.491460                    покупка недвижимости  \n",
       "11   77069.234271       покупка коммерческой недвижимости  \n",
       "12            NaN                         сыграть свадьбу  \n",
       "13  130458.228857                 приобретение автомобиля  \n",
       "14  165127.911772              покупка жилой недвижимости  \n",
       "15  116820.904450  строительство собственной недвижимости  \n",
       "16  289202.704229                            недвижимость  \n",
       "17   90410.586745              строительство недвижимости  \n",
       "18   56823.777243      на покупку подержанного автомобиля  \n",
       "19  242831.107982            на покупку своего автомобиля  "
      ]
     },
     "execution_count": 3,
     "metadata": {},
     "output_type": "execute_result"
    }
   ],
   "source": [
    "data.head(20)"
   ]
  },
  {
   "cell_type": "markdown",
   "id": "3eaa19ec",
   "metadata": {
    "deletable": false,
    "editable": false,
    "id": "1c12e233"
   },
   "source": [
    "**Задание 3. Выведите основную информацию о датафрейме с помощью метода `info()`.**"
   ]
  },
  {
   "cell_type": "code",
   "execution_count": 4,
   "id": "98336fad",
   "metadata": {
    "deletable": false,
    "id": "2b757bca",
    "outputId": "15376089-8dad-46c9-b520-c05248d43158"
   },
   "outputs": [
    {
     "name": "stdout",
     "output_type": "stream",
     "text": [
      "<class 'pandas.core.frame.DataFrame'>\n",
      "RangeIndex: 21525 entries, 0 to 21524\n",
      "Data columns (total 12 columns):\n",
      " #   Column            Non-Null Count  Dtype  \n",
      "---  ------            --------------  -----  \n",
      " 0   children          21525 non-null  int64  \n",
      " 1   days_employed     19351 non-null  float64\n",
      " 2   dob_years         21525 non-null  int64  \n",
      " 3   education         21525 non-null  object \n",
      " 4   education_id      21525 non-null  int64  \n",
      " 5   family_status     21525 non-null  object \n",
      " 6   family_status_id  21525 non-null  int64  \n",
      " 7   gender            21525 non-null  object \n",
      " 8   income_type       21525 non-null  object \n",
      " 9   debt              21525 non-null  int64  \n",
      " 10  total_income      19351 non-null  float64\n",
      " 11  purpose           21525 non-null  object \n",
      "dtypes: float64(2), int64(5), object(5)\n",
      "memory usage: 2.0+ MB\n"
     ]
    }
   ],
   "source": [
    "data.info()"
   ]
  },
  {
   "cell_type": "markdown",
   "id": "a0c9a016",
   "metadata": {
    "deletable": false,
    "editable": false,
    "id": "333ec665"
   },
   "source": [
    "## Предобработка данных"
   ]
  },
  {
   "cell_type": "markdown",
   "id": "d3c4da75",
   "metadata": {
    "deletable": false,
    "editable": false,
    "id": "02d92d53"
   },
   "source": [
    "### Удаление пропусков"
   ]
  },
  {
   "cell_type": "markdown",
   "id": "e7dd2644",
   "metadata": {
    "deletable": false,
    "editable": false,
    "id": "cd84967c"
   },
   "source": [
    "**Задание 4. Выведите количество пропущенных значений для каждого столбца. Используйте комбинацию двух методов.**"
   ]
  },
  {
   "cell_type": "code",
   "execution_count": 5,
   "id": "b4a6fd17",
   "metadata": {
    "deletable": false,
    "id": "7f9b2309",
    "outputId": "81f4d817-781c-465c-ed15-91ce4446810d"
   },
   "outputs": [
    {
     "data": {
      "text/plain": [
       "children               0\n",
       "days_employed       2174\n",
       "dob_years              0\n",
       "education              0\n",
       "education_id           0\n",
       "family_status          0\n",
       "family_status_id       0\n",
       "gender                 0\n",
       "income_type            0\n",
       "debt                   0\n",
       "total_income        2174\n",
       "purpose                0\n",
       "dtype: int64"
      ]
     },
     "execution_count": 5,
     "metadata": {},
     "output_type": "execute_result"
    }
   ],
   "source": [
    "data.isna().sum()"
   ]
  },
  {
   "cell_type": "markdown",
   "id": "99c50a1c",
   "metadata": {
    "deletable": false,
    "editable": false,
    "id": "db86e27b"
   },
   "source": [
    "**Задание 5. В двух столбцах есть пропущенные значения. Один из них — `days_employed`. Пропуски в этом столбце вы обработаете на следующем этапе. Другой столбец с пропущенными значениями — `total_income` — хранит данные о доходах. На сумму дохода сильнее всего влияет тип занятости, поэтому заполнить пропуски в этом столбце нужно медианным значением по каждому типу из столбца `income_type`. Например, у человека с типом занятости `сотрудник` пропуск в столбце `total_income` должен быть заполнен медианным доходом среди всех записей с тем же типом.**"
   ]
  },
  {
   "cell_type": "code",
   "execution_count": 6,
   "id": "e15d5464",
   "metadata": {
    "deletable": false,
    "id": "42006a93"
   },
   "outputs": [],
   "source": [
    "for t in data['income_type'].unique():\n",
    "    data.loc[(data['income_type'] == t) & (data['total_income'].isna()), 'total_income'] = \\\n",
    "    data.loc[(data['income_type'] == t), 'total_income'].median()"
   ]
  },
  {
   "cell_type": "markdown",
   "id": "51fb278f",
   "metadata": {
    "deletable": false,
    "editable": false,
    "id": "89da5ece"
   },
   "source": [
    "### Обработка аномальных значений"
   ]
  },
  {
   "cell_type": "markdown",
   "id": "95acba0d",
   "metadata": {
    "deletable": false,
    "editable": false,
    "id": "57964554"
   },
   "source": [
    "**Задание 6. В данных могут встречаться артефакты (аномалии) — значения, которые не отражают действительность и появились по какой-то ошибке. таким артефактом будет отрицательное количество дней трудового стажа в столбце `days_employed`. Для реальных данных это нормально. Обработайте значения в этом столбце: замените все отрицательные значения положительными с помощью метода `abs()`.**"
   ]
  },
  {
   "cell_type": "code",
   "execution_count": 7,
   "id": "7bcb55d4",
   "metadata": {
    "deletable": false,
    "id": "f6f055bf"
   },
   "outputs": [],
   "source": [
    "data['days_employed'] = data['days_employed'].abs()"
   ]
  },
  {
   "cell_type": "markdown",
   "id": "3e8fabc2",
   "metadata": {
    "deletable": false,
    "editable": false,
    "id": "6107dd2f"
   },
   "source": [
    "**Задание 7. Для каждого типа занятости выведите медианное значение трудового стажа `days_employed` в днях.**"
   ]
  },
  {
   "cell_type": "code",
   "execution_count": 8,
   "id": "08af5bbd",
   "metadata": {
    "deletable": false,
    "id": "85a5faf6",
    "outputId": "801ef80e-522b-4668-f34e-565af7432bcf"
   },
   "outputs": [
    {
     "data": {
      "text/plain": [
       "income_type\n",
       "безработный        366413.652744\n",
       "в декрете            3296.759962\n",
       "госслужащий          2689.368353\n",
       "компаньон            1547.382223\n",
       "пенсионер          365213.306266\n",
       "предприниматель       520.848083\n",
       "сотрудник            1574.202821\n",
       "студент               578.751554\n",
       "Name: days_employed, dtype: float64"
      ]
     },
     "execution_count": 8,
     "metadata": {},
     "output_type": "execute_result"
    }
   ],
   "source": [
    "data.groupby('income_type')['days_employed'].agg('median')"
   ]
  },
  {
   "cell_type": "markdown",
   "id": "04fab145",
   "metadata": {
    "deletable": false,
    "editable": false,
    "id": "38d1a030"
   },
   "source": [
    "У двух типов (безработные и пенсионеры) получатся аномально большие значения. Исправить такие значения сложно, поэтому оставьте их как есть. Тем более этот столбец не понадобится вам для исследования."
   ]
  },
  {
   "cell_type": "markdown",
   "id": "070c96d3",
   "metadata": {
    "deletable": false,
    "editable": false,
    "id": "d8a9f147"
   },
   "source": [
    "**Задание 8. Выведите перечень уникальных значений столбца `children`.**"
   ]
  },
  {
   "cell_type": "code",
   "execution_count": 9,
   "id": "e75fd0eb",
   "metadata": {
    "deletable": false,
    "id": "ef5056eb",
    "outputId": "6975b15c-7f95-4697-d16d-a0c79b657b03"
   },
   "outputs": [
    {
     "data": {
      "text/plain": [
       "array([ 1,  0,  3,  2, -1,  4, 20,  5])"
      ]
     },
     "execution_count": 9,
     "metadata": {},
     "output_type": "execute_result"
    }
   ],
   "source": [
    "data['children'].unique()"
   ]
  },
  {
   "cell_type": "markdown",
   "id": "77db0463",
   "metadata": {
    "deletable": false,
    "editable": false,
    "id": "40b9ebf2"
   },
   "source": [
    "**Задание 9. В столбце `children` есть два аномальных значения. Удалите строки, в которых встречаются такие аномальные значения из датафрейма `data`.**"
   ]
  },
  {
   "cell_type": "code",
   "execution_count": 10,
   "id": "5b043218",
   "metadata": {
    "deletable": false,
    "id": "3ff9801d"
   },
   "outputs": [],
   "source": [
    "data = data[(data['children'] != -1) & (data['children'] != 20)]"
   ]
  },
  {
   "cell_type": "markdown",
   "id": "3cd1c49a",
   "metadata": {
    "deletable": false,
    "editable": false,
    "id": "bbc4d0ce"
   },
   "source": [
    "**Задание 10. Ещё раз выведите перечень уникальных значений столбца `children`, чтобы убедиться, что артефакты удалены.**"
   ]
  },
  {
   "cell_type": "code",
   "execution_count": 11,
   "id": "c1c28df1",
   "metadata": {
    "deletable": false,
    "id": "ad4fa8b7",
    "outputId": "b2097101-d49d-44d9-901b-32a65c9463d1"
   },
   "outputs": [
    {
     "data": {
      "text/plain": [
       "array([1, 0, 3, 2, 4, 5])"
      ]
     },
     "execution_count": 11,
     "metadata": {},
     "output_type": "execute_result"
    }
   ],
   "source": [
    "data['children'].unique()"
   ]
  },
  {
   "cell_type": "markdown",
   "id": "67045e8a",
   "metadata": {
    "deletable": false,
    "editable": false,
    "id": "75440b63"
   },
   "source": [
    "### Удаление пропусков (продолжение)"
   ]
  },
  {
   "cell_type": "markdown",
   "id": "7a205257",
   "metadata": {
    "deletable": false,
    "editable": false,
    "id": "f4ea573f"
   },
   "source": [
    "**Задание 11. Заполните пропуски в столбце `days_employed` медианными значениями по каждого типа занятости `income_type`.**"
   ]
  },
  {
   "cell_type": "code",
   "execution_count": 12,
   "id": "542107b6",
   "metadata": {
    "deletable": false,
    "id": "af6b1a7e"
   },
   "outputs": [],
   "source": [
    "for t in data['income_type'].unique():\n",
    "    data.loc[(data['income_type'] == t) & (data['days_employed'].isna()), 'days_employed'] = \\\n",
    "    data.loc[(data['income_type'] == t), 'days_employed'].median()"
   ]
  },
  {
   "cell_type": "markdown",
   "id": "74999024",
   "metadata": {
    "deletable": false,
    "editable": false,
    "id": "2753f40d"
   },
   "source": [
    "**Задание 12. Убедитесь, что все пропуски заполнены. Проверьте себя и ещё раз выведите количество пропущенных значений для каждого столбца с помощью двух методов.**"
   ]
  },
  {
   "cell_type": "code",
   "execution_count": 12,
   "id": "ec161843",
   "metadata": {
    "deletable": false,
    "id": "55f78bc2",
    "outputId": "8da1e4e1-358e-4e87-98c9-f261bce0a7b2"
   },
   "outputs": [
    {
     "data": {
      "text/plain": [
       "children            0\n",
       "days_employed       0\n",
       "dob_years           0\n",
       "education           0\n",
       "education_id        0\n",
       "family_status       0\n",
       "family_status_id    0\n",
       "gender              0\n",
       "income_type         0\n",
       "debt                0\n",
       "total_income        0\n",
       "purpose             0\n",
       "dtype: int64"
      ]
     },
     "execution_count": 12,
     "metadata": {},
     "output_type": "execute_result"
    }
   ],
   "source": [
    "data.isna().sum()"
   ]
  },
  {
   "cell_type": "markdown",
   "id": "f61ae308",
   "metadata": {
    "deletable": false,
    "editable": false,
    "id": "ddc81e43"
   },
   "source": [
    "### Изменение типов данных"
   ]
  },
  {
   "cell_type": "markdown",
   "id": "5ad52bf3",
   "metadata": {
    "deletable": false,
    "editable": false,
    "id": "42d19d24"
   },
   "source": [
    "**Задание 13. Замените вещественный тип данных в столбце `total_income` на целочисленный с помощью метода `astype()`.**"
   ]
  },
  {
   "cell_type": "code",
   "execution_count": 13,
   "id": "5f9a49a8",
   "metadata": {
    "deletable": false,
    "id": "920b65ad"
   },
   "outputs": [],
   "source": [
    "data['total_income'] = data['total_income'].astype(int)"
   ]
  },
  {
   "cell_type": "markdown",
   "id": "e1f6918a",
   "metadata": {
    "deletable": false,
    "editable": false,
    "id": "80c420ba"
   },
   "source": [
    "### Обработка дубликатов"
   ]
  },
  {
   "cell_type": "markdown",
   "id": "64764c13",
   "metadata": {
    "deletable": false,
    "editable": false
   },
   "source": [
    "**Задание 14. Обработайте неявные дубликаты в столбце `education`. В этом столбце есть одни и те же значения, но записанные по-разному: с использованием заглавных и строчных букв. Приведите их к нижнему регистру. Проверьте остальные столбцы.**"
   ]
  },
  {
   "cell_type": "code",
   "execution_count": 14,
   "id": "c65cb591",
   "metadata": {
    "deletable": false
   },
   "outputs": [],
   "source": [
    "data['education'] = data['education'].str.lower()"
   ]
  },
  {
   "cell_type": "markdown",
   "id": "f98c1609",
   "metadata": {
    "deletable": false,
    "editable": false,
    "id": "dc587695"
   },
   "source": [
    "**Задание 15. Выведите на экран количество строк-дубликатов в данных. Если такие строки присутствуют, удалите их.**"
   ]
  },
  {
   "cell_type": "code",
   "execution_count": 15,
   "id": "98b99a3d",
   "metadata": {
    "deletable": false,
    "id": "3ee445e4",
    "outputId": "9684deba-1934-42d1-99e1-cda61740f822"
   },
   "outputs": [
    {
     "data": {
      "text/plain": [
       "71"
      ]
     },
     "execution_count": 15,
     "metadata": {},
     "output_type": "execute_result"
    }
   ],
   "source": [
    "data.duplicated().sum()"
   ]
  },
  {
   "cell_type": "code",
   "execution_count": 16,
   "id": "202ebad5",
   "metadata": {
    "deletable": false,
    "id": "8575fe05"
   },
   "outputs": [],
   "source": [
    "data = data.drop_duplicates()"
   ]
  },
  {
   "cell_type": "markdown",
   "id": "53f2476a",
   "metadata": {
    "deletable": false,
    "editable": false,
    "id": "9904cf55"
   },
   "source": [
    "### Категоризация данных"
   ]
  },
  {
   "cell_type": "markdown",
   "id": "8a8037d8",
   "metadata": {
    "deletable": false,
    "editable": false,
    "id": "72fcc8a2"
   },
   "source": [
    "**Задание 16. На основании диапазонов, указанных ниже, создайте в датафрейме `data` столбец `total_income_category` с категориями:**\n",
    "\n",
    "- 0–30000 — `'E'`;\n",
    "- 30001–50000 — `'D'`;\n",
    "- 50001–200000 — `'C'`;\n",
    "- 200001–1000000 — `'B'`;\n",
    "- 1000001 и выше — `'A'`.\n",
    "\n",
    "\n",
    "**Например, кредитополучателю с доходом 25000 нужно назначить категорию `'E'`, а клиенту, получающему 235000, — `'B'`. Используйте собственную функцию с именем `categorize_income()` и метод `apply()`.**"
   ]
  },
  {
   "cell_type": "code",
   "execution_count": 17,
   "id": "7857a9f6",
   "metadata": {
    "deletable": false,
    "id": "e1771346"
   },
   "outputs": [],
   "source": [
    "def categorize_income(income):\n",
    "    try:\n",
    "        if 0 <= income <= 30000:\n",
    "            return 'E'\n",
    "        elif 30001 <= income <= 50000:\n",
    "            return 'D'\n",
    "        elif 50001 <= income <= 200000:\n",
    "            return 'C'\n",
    "        elif 200001 <= income <= 1000000:\n",
    "            return 'B'\n",
    "        elif income >= 1000001:\n",
    "            return 'A'\n",
    "    except:\n",
    "        pass"
   ]
  },
  {
   "cell_type": "code",
   "execution_count": 18,
   "id": "7644a6dd",
   "metadata": {
    "deletable": false,
    "id": "d5f3586d"
   },
   "outputs": [],
   "source": [
    "data['total_income_category'] = data['total_income'].apply(categorize_income)"
   ]
  },
  {
   "cell_type": "markdown",
   "id": "3a3df4d9",
   "metadata": {
    "deletable": false,
    "editable": false,
    "id": "dde49b5c"
   },
   "source": [
    "**Задание 17. Выведите на экран перечень уникальных целей взятия кредита из столбца `purpose`.**"
   ]
  },
  {
   "cell_type": "code",
   "execution_count": 19,
   "id": "408a8cb5",
   "metadata": {
    "deletable": false,
    "id": "f67ce9b3",
    "outputId": "673c12d9-7d7e-4ae0-9812-c622c89dd244"
   },
   "outputs": [
    {
     "data": {
      "text/plain": [
       "array(['покупка жилья', 'приобретение автомобиля',\n",
       "       'дополнительное образование', 'сыграть свадьбу',\n",
       "       'операции с жильем', 'образование', 'на проведение свадьбы',\n",
       "       'покупка жилья для семьи', 'покупка недвижимости',\n",
       "       'покупка коммерческой недвижимости', 'покупка жилой недвижимости',\n",
       "       'строительство собственной недвижимости', 'недвижимость',\n",
       "       'строительство недвижимости', 'на покупку подержанного автомобиля',\n",
       "       'на покупку своего автомобиля',\n",
       "       'операции с коммерческой недвижимостью',\n",
       "       'строительство жилой недвижимости', 'жилье',\n",
       "       'операции со своей недвижимостью', 'автомобили',\n",
       "       'заняться образованием', 'сделка с подержанным автомобилем',\n",
       "       'получение образования', 'автомобиль', 'свадьба',\n",
       "       'получение дополнительного образования', 'покупка своего жилья',\n",
       "       'операции с недвижимостью', 'получение высшего образования',\n",
       "       'свой автомобиль', 'сделка с автомобилем',\n",
       "       'профильное образование', 'высшее образование',\n",
       "       'покупка жилья для сдачи', 'на покупку автомобиля', 'ремонт жилью',\n",
       "       'заняться высшим образованием'], dtype=object)"
      ]
     },
     "execution_count": 19,
     "metadata": {},
     "output_type": "execute_result"
    }
   ],
   "source": [
    "data['purpose'].unique()"
   ]
  },
  {
   "cell_type": "markdown",
   "id": "12133354",
   "metadata": {
    "deletable": false,
    "editable": false,
    "id": "85d0aef0"
   },
   "source": [
    "**Задание 18. Создайте функцию, которая на основании данных из столбца `purpose` сформирует новый столбец `purpose_category`, в который войдут следующие категории:**\n",
    "\n",
    "- `'операции с автомобилем'`,\n",
    "- `'операции с недвижимостью'`,\n",
    "- `'проведение свадьбы'`,\n",
    "- `'получение образования'`.\n",
    "\n",
    "**Например, если в столбце `purpose` находится подстрока `'на покупку автомобиля'`, то в столбце `purpose_category` должна появиться строка `'операции с автомобилем'`.**\n",
    "\n",
    "**Используйте собственную функцию с именем `categorize_purpose()` и метод `apply()`. Изучите данные в столбце `purpose` и определите, какие подстроки помогут вам правильно определить категорию.**"
   ]
  },
  {
   "cell_type": "code",
   "execution_count": 20,
   "id": "d9f7346e",
   "metadata": {
    "deletable": false,
    "id": "e149fab4"
   },
   "outputs": [],
   "source": [
    "def categorize_purpose(row):\n",
    "    try:\n",
    "        if 'автом' in row:\n",
    "            return 'операции с автомобилем'\n",
    "        elif 'жил' in row or 'недвиж' in row:\n",
    "            return 'операции с недвижимостью'\n",
    "        elif 'свад' in row:\n",
    "            return 'проведение свадьбы'\n",
    "        elif 'образов' in row:\n",
    "            return 'получение образования'\n",
    "    except:\n",
    "        return 'нет категории'"
   ]
  },
  {
   "cell_type": "code",
   "execution_count": 21,
   "id": "3adc404a",
   "metadata": {
    "deletable": false,
    "id": "bf36e69b"
   },
   "outputs": [],
   "source": [
    "data['purpose_category'] = data['purpose'].apply(categorize_purpose)"
   ]
  },
  {
   "cell_type": "markdown",
   "id": "85fa4180",
   "metadata": {
    "deletable": false,
    "editable": false,
    "id": "09b242bf"
   },
   "source": [
    "### Шаг 3. Исследуйте данные и ответьте на вопросы"
   ]
  },
  {
   "cell_type": "markdown",
   "id": "e70ddead",
   "metadata": {
    "deletable": false,
    "editable": false,
    "id": "c5d66278"
   },
   "source": [
    "#### 3.1 Есть ли зависимость между количеством детей и возвратом кредита в срок?"
   ]
  },
  {
   "cell_type": "markdown",
   "id": "de2e177a",
   "metadata": {},
   "source": [
    "Проверка уникальных значений столбца debt"
   ]
  },
  {
   "cell_type": "code",
   "execution_count": 22,
   "id": "18bc1cb9",
   "metadata": {
    "deletable": false,
    "id": "2cacfc4a"
   },
   "outputs": [
    {
     "data": {
      "text/plain": [
       "array([0, 1])"
      ]
     },
     "execution_count": 22,
     "metadata": {},
     "output_type": "execute_result"
    }
   ],
   "source": [
    "data['debt'].unique()"
   ]
  },
  {
   "cell_type": "markdown",
   "id": "7e86222a",
   "metadata": {},
   "source": [
    "Подсчёт среднего значения вероятности невозврата кредита от количества детей"
   ]
  },
  {
   "cell_type": "code",
   "execution_count": 23,
   "id": "0a913e19",
   "metadata": {
    "scrolled": false
   },
   "outputs": [
    {
     "data": {
      "text/html": [
       "<div>\n",
       "<style scoped>\n",
       "    .dataframe tbody tr th:only-of-type {\n",
       "        vertical-align: middle;\n",
       "    }\n",
       "\n",
       "    .dataframe tbody tr th {\n",
       "        vertical-align: top;\n",
       "    }\n",
       "\n",
       "    .dataframe thead th {\n",
       "        text-align: right;\n",
       "    }\n",
       "</style>\n",
       "<table border=\"1\" class=\"dataframe\">\n",
       "  <thead>\n",
       "    <tr style=\"text-align: right;\">\n",
       "      <th></th>\n",
       "      <th>count</th>\n",
       "      <th>mean</th>\n",
       "    </tr>\n",
       "    <tr>\n",
       "      <th>children</th>\n",
       "      <th></th>\n",
       "      <th></th>\n",
       "    </tr>\n",
       "  </thead>\n",
       "  <tbody>\n",
       "    <tr>\n",
       "      <th>0</th>\n",
       "      <td>14091</td>\n",
       "      <td>0.075438</td>\n",
       "    </tr>\n",
       "    <tr>\n",
       "      <th>1</th>\n",
       "      <td>4808</td>\n",
       "      <td>0.092346</td>\n",
       "    </tr>\n",
       "    <tr>\n",
       "      <th>2</th>\n",
       "      <td>2052</td>\n",
       "      <td>0.094542</td>\n",
       "    </tr>\n",
       "    <tr>\n",
       "      <th>3</th>\n",
       "      <td>330</td>\n",
       "      <td>0.081818</td>\n",
       "    </tr>\n",
       "    <tr>\n",
       "      <th>4</th>\n",
       "      <td>41</td>\n",
       "      <td>0.097561</td>\n",
       "    </tr>\n",
       "    <tr>\n",
       "      <th>5</th>\n",
       "      <td>9</td>\n",
       "      <td>0.000000</td>\n",
       "    </tr>\n",
       "  </tbody>\n",
       "</table>\n",
       "</div>"
      ],
      "text/plain": [
       "          count      mean\n",
       "children                 \n",
       "0         14091  0.075438\n",
       "1          4808  0.092346\n",
       "2          2052  0.094542\n",
       "3           330  0.081818\n",
       "4            41  0.097561\n",
       "5             9  0.000000"
      ]
     },
     "execution_count": 23,
     "metadata": {},
     "output_type": "execute_result"
    }
   ],
   "source": [
    "data.groupby('children')['debt'].agg(['count','mean'])"
   ]
  },
  {
   "cell_type": "markdown",
   "id": "5d73a4de",
   "metadata": {},
   "source": [
    "График"
   ]
  },
  {
   "cell_type": "code",
   "execution_count": 24,
   "id": "df435e6d",
   "metadata": {
    "scrolled": true
   },
   "outputs": [
    {
     "data": {
      "text/plain": [
       "<AxesSubplot:xlabel='children'>"
      ]
     },
     "execution_count": 24,
     "metadata": {},
     "output_type": "execute_result"
    },
    {
     "data": {
      "image/png": "[encoded data removed]",
      "text/plain": [
       "<Figure size 432x288 with 1 Axes>"
      ]
     },
     "metadata": {
      "needs_background": "light"
     },
     "output_type": "display_data"
    }
   ],
   "source": [
    "data.groupby('children')['debt'].mean().plot(ylim=0)"
   ]
  },
  {
   "cell_type": "markdown",
   "id": "cad3633e",
   "metadata": {},
   "source": [
    "Количество клиентов с 4 и 5 детьми недостаточно для репрезентативной выборки. Имеет смысл объединить их в одну категорию с теми, у кого 3 ребенка:"
   ]
  },
  {
   "cell_type": "code",
   "execution_count": 25,
   "id": "cbe2a5d4",
   "metadata": {},
   "outputs": [],
   "source": [
    "def categored_children(children):\n",
    "    if children < 3:\n",
    "        return str(children)\n",
    "    else:\n",
    "        return '3 и больше'"
   ]
  },
  {
   "cell_type": "code",
   "execution_count": 26,
   "id": "1509bd18",
   "metadata": {},
   "outputs": [],
   "source": [
    "data['children_cat'] = data['children'].apply(categored_children)"
   ]
  },
  {
   "cell_type": "code",
   "execution_count": 27,
   "id": "9d2ea250",
   "metadata": {},
   "outputs": [
    {
     "data": {
      "text/html": [
       "<div>\n",
       "<style scoped>\n",
       "    .dataframe tbody tr th:only-of-type {\n",
       "        vertical-align: middle;\n",
       "    }\n",
       "\n",
       "    .dataframe tbody tr th {\n",
       "        vertical-align: top;\n",
       "    }\n",
       "\n",
       "    .dataframe thead th {\n",
       "        text-align: right;\n",
       "    }\n",
       "</style>\n",
       "<table border=\"1\" class=\"dataframe\">\n",
       "  <thead>\n",
       "    <tr style=\"text-align: right;\">\n",
       "      <th></th>\n",
       "      <th>count</th>\n",
       "      <th>mean</th>\n",
       "    </tr>\n",
       "    <tr>\n",
       "      <th>children_cat</th>\n",
       "      <th></th>\n",
       "      <th></th>\n",
       "    </tr>\n",
       "  </thead>\n",
       "  <tbody>\n",
       "    <tr>\n",
       "      <th>0</th>\n",
       "      <td>14091</td>\n",
       "      <td>0.075438</td>\n",
       "    </tr>\n",
       "    <tr>\n",
       "      <th>1</th>\n",
       "      <td>4808</td>\n",
       "      <td>0.092346</td>\n",
       "    </tr>\n",
       "    <tr>\n",
       "      <th>2</th>\n",
       "      <td>2052</td>\n",
       "      <td>0.094542</td>\n",
       "    </tr>\n",
       "    <tr>\n",
       "      <th>3 и больше</th>\n",
       "      <td>380</td>\n",
       "      <td>0.081579</td>\n",
       "    </tr>\n",
       "  </tbody>\n",
       "</table>\n",
       "</div>"
      ],
      "text/plain": [
       "              count      mean\n",
       "children_cat                 \n",
       "0             14091  0.075438\n",
       "1              4808  0.092346\n",
       "2              2052  0.094542\n",
       "3 и больше      380  0.081579"
      ]
     },
     "execution_count": 27,
     "metadata": {},
     "output_type": "execute_result"
    }
   ],
   "source": [
    "data.groupby('children_cat')['debt'].agg(['count','mean'])"
   ]
  },
  {
   "cell_type": "code",
   "execution_count": 28,
   "id": "c9a57756",
   "metadata": {},
   "outputs": [
    {
     "data": {
      "text/plain": [
       "<AxesSubplot:xlabel='Количество детей'>"
      ]
     },
     "execution_count": 28,
     "metadata": {},
     "output_type": "execute_result"
    },
    {
     "data": {
      "image/png": "[encoded data removed]",
      "text/plain": [
       "<Figure size 432x288 with 1 Axes>"
      ]
     },
     "metadata": {
      "needs_background": "light"
     },
     "output_type": "display_data"
    }
   ],
   "source": [
    "data.groupby('children_cat')['debt'].mean().plot(kind='bar',xlabel='Количество детей', rot=0)"
   ]
  },
  {
   "cell_type": "markdown",
   "id": "55b8cfdb",
   "metadata": {},
   "source": [
    "Возьмем за 100% минимальное среднее значение среди категорий:"
   ]
  },
  {
   "cell_type": "code",
   "execution_count": 29,
   "id": "12696582",
   "metadata": {
    "scrolled": true
   },
   "outputs": [
    {
     "data": {
      "text/plain": [
       "children_cat\n",
       "0             100.000000\n",
       "1             122.412865\n",
       "2             125.323618\n",
       "3 и больше    108.140070\n",
       "Name: norm, dtype: float64"
      ]
     },
     "execution_count": 29,
     "metadata": {},
     "output_type": "execute_result"
    }
   ],
   "source": [
    "data_normal = data.groupby('children_cat')['debt'].agg(['count','mean'])\n",
    "data_normal['norm'] = data_normal['mean']/data_normal['mean'].min()*100\n",
    "data_normal['norm']"
   ]
  },
  {
   "cell_type": "code",
   "execution_count": 30,
   "id": "e7d4a7fb",
   "metadata": {},
   "outputs": [
    {
     "data": {
      "text/plain": [
       "<AxesSubplot:xlabel='Количество детей'>"
      ]
     },
     "execution_count": 30,
     "metadata": {},
     "output_type": "execute_result"
    },
    {
     "data": {
      "image/png": "[encoded data removed]",
      "text/plain": [
       "<Figure size 432x288 with 1 Axes>"
      ]
     },
     "metadata": {
      "needs_background": "light"
     },
     "output_type": "display_data"
    }
   ],
   "source": [
    "data_normal['norm'].plot(kind='bar',xlabel='Количество детей', rot=0)"
   ]
  },
  {
   "cell_type": "markdown",
   "id": "46622c4e",
   "metadata": {
    "deletable": false,
    "id": "3a6b99ec"
   },
   "source": [
    "**Выводы:** \n",
    "1. Зависимость между количеством детей и возвратом кредита в срок существует.\n",
    "2. Самая \"безопасная\" категория заёмщиков - без детей. \n",
    "2. Заёмщики с одним ребенком не возвращают в срок кредит на 22.4% чаще, с двумя - на 25,3%\n",
    "3. Заёмщики с 3 и более детьми уже более ответственны - превыщение максимума всего на 8.1%"
   ]
  },
  {
   "cell_type": "markdown",
   "id": "9c4ff5f8",
   "metadata": {
    "deletable": false,
    "editable": false,
    "id": "97be82ca"
   },
   "source": [
    "#### 3.2 Есть ли зависимость между семейным положением и возвратом кредита в срок?"
   ]
  },
  {
   "cell_type": "markdown",
   "id": "75d5cd77",
   "metadata": {},
   "source": [
    "Проверка уникальных значений столбца family_status:\n"
   ]
  },
  {
   "cell_type": "code",
   "execution_count": 31,
   "id": "dbda05ba",
   "metadata": {
    "deletable": false,
    "id": "dc3f7ee8"
   },
   "outputs": [
    {
     "data": {
      "text/plain": [
       "array(['женат / замужем', 'гражданский брак', 'вдовец / вдова',\n",
       "       'в разводе', 'Не женат / не замужем'], dtype=object)"
      ]
     },
     "execution_count": 31,
     "metadata": {},
     "output_type": "execute_result"
    }
   ],
   "source": [
    "data['family_status'].unique()"
   ]
  },
  {
   "cell_type": "markdown",
   "id": "c02f3be2",
   "metadata": {},
   "source": [
    "Подсчёт среднего значения вероятности невозврата кредита от семейного положения заёмщика:"
   ]
  },
  {
   "cell_type": "code",
   "execution_count": 32,
   "id": "c9051307",
   "metadata": {},
   "outputs": [
    {
     "data": {
      "text/html": [
       "<div>\n",
       "<style scoped>\n",
       "    .dataframe tbody tr th:only-of-type {\n",
       "        vertical-align: middle;\n",
       "    }\n",
       "\n",
       "    .dataframe tbody tr th {\n",
       "        vertical-align: top;\n",
       "    }\n",
       "\n",
       "    .dataframe thead th {\n",
       "        text-align: right;\n",
       "    }\n",
       "</style>\n",
       "<table border=\"1\" class=\"dataframe\">\n",
       "  <thead>\n",
       "    <tr style=\"text-align: right;\">\n",
       "      <th></th>\n",
       "      <th>count</th>\n",
       "      <th>mean</th>\n",
       "    </tr>\n",
       "    <tr>\n",
       "      <th>family_status</th>\n",
       "      <th></th>\n",
       "      <th></th>\n",
       "    </tr>\n",
       "  </thead>\n",
       "  <tbody>\n",
       "    <tr>\n",
       "      <th>Не женат / не замужем</th>\n",
       "      <td>2796</td>\n",
       "      <td>0.097639</td>\n",
       "    </tr>\n",
       "    <tr>\n",
       "      <th>в разводе</th>\n",
       "      <td>1189</td>\n",
       "      <td>0.070648</td>\n",
       "    </tr>\n",
       "    <tr>\n",
       "      <th>вдовец / вдова</th>\n",
       "      <td>951</td>\n",
       "      <td>0.066246</td>\n",
       "    </tr>\n",
       "    <tr>\n",
       "      <th>гражданский брак</th>\n",
       "      <td>4134</td>\n",
       "      <td>0.093130</td>\n",
       "    </tr>\n",
       "    <tr>\n",
       "      <th>женат / замужем</th>\n",
       "      <td>12261</td>\n",
       "      <td>0.075606</td>\n",
       "    </tr>\n",
       "  </tbody>\n",
       "</table>\n",
       "</div>"
      ],
      "text/plain": [
       "                       count      mean\n",
       "family_status                         \n",
       "Не женат / не замужем   2796  0.097639\n",
       "в разводе               1189  0.070648\n",
       "вдовец / вдова           951  0.066246\n",
       "гражданский брак        4134  0.093130\n",
       "женат / замужем        12261  0.075606"
      ]
     },
     "execution_count": 32,
     "metadata": {},
     "output_type": "execute_result"
    }
   ],
   "source": [
    "data.groupby('family_status')['debt'].agg(['count','mean'])"
   ]
  },
  {
   "cell_type": "code",
   "execution_count": 33,
   "id": "d6784bd1",
   "metadata": {},
   "outputs": [
    {
     "data": {
      "text/plain": [
       "<AxesSubplot:xlabel='Семейное положение'>"
      ]
     },
     "execution_count": 33,
     "metadata": {},
     "output_type": "execute_result"
    },
    {
     "data": {
      "image/png": "[encoded data removed]",
      "text/plain": [
       "<Figure size 432x288 with 1 Axes>"
      ]
     },
     "metadata": {
      "needs_background": "light"
     },
     "output_type": "display_data"
    }
   ],
   "source": [
    "data.groupby('family_status')['debt'].mean().plot(kind='bar',xlabel='Семейное положение', rot=90)"
   ]
  },
  {
   "cell_type": "markdown",
   "id": "d621f605",
   "metadata": {},
   "source": [
    "Выборка вполне репрезентативная. Нормализуем ее:"
   ]
  },
  {
   "cell_type": "code",
   "execution_count": 34,
   "id": "53dafdbe",
   "metadata": {},
   "outputs": [
    {
     "data": {
      "text/plain": [
       "family_status\n",
       "Не женат / не замужем    147.389127\n",
       "в разводе                106.644239\n",
       "вдовец / вдова           100.000000\n",
       "гражданский брак         140.582164\n",
       "женат / замужем          114.128421\n",
       "Name: norm, dtype: float64"
      ]
     },
     "execution_count": 34,
     "metadata": {},
     "output_type": "execute_result"
    }
   ],
   "source": [
    "data_normal = data.groupby('family_status')['debt'].agg(['count','mean'])\n",
    "data_normal['norm'] = data_normal['mean']/data_normal['mean'].min()*100\n",
    "data_normal['norm']"
   ]
  },
  {
   "cell_type": "code",
   "execution_count": 35,
   "id": "7f812918",
   "metadata": {},
   "outputs": [
    {
     "data": {
      "text/plain": [
       "<AxesSubplot:xlabel='Семейное положение'>"
      ]
     },
     "execution_count": 35,
     "metadata": {},
     "output_type": "execute_result"
    },
    {
     "data": {
      "image/png": "[encoded data removed]",
      "text/plain": [
       "<Figure size 432x288 with 1 Axes>"
      ]
     },
     "metadata": {
      "needs_background": "light"
     },
     "output_type": "display_data"
    }
   ],
   "source": [
    "data_normal['norm'].plot(kind='bar',xlabel='Семейное положение', rot=90)"
   ]
  },
  {
   "cell_type": "markdown",
   "id": "f9cb1386",
   "metadata": {},
   "source": [
    "Попробуем категоризировать данные:"
   ]
  },
  {
   "cell_type": "code",
   "execution_count": 36,
   "id": "263e9355",
   "metadata": {},
   "outputs": [],
   "source": [
    "def categored_family(family):\n",
    "    if family in ['Не женат / не замужем', 'гражданский брак']:\n",
    "        return 'Не был(а) женат/замужем'\n",
    "    if family in ['в разводе', 'вдовец / вдова']:\n",
    "        return 'Был(а) женат/замужем'\n",
    "    else:\n",
    "        return 'Сейчас женат/замужем'"
   ]
  },
  {
   "cell_type": "code",
   "execution_count": 37,
   "id": "4556073e",
   "metadata": {},
   "outputs": [
    {
     "data": {
      "text/html": [
       "<div>\n",
       "<style scoped>\n",
       "    .dataframe tbody tr th:only-of-type {\n",
       "        vertical-align: middle;\n",
       "    }\n",
       "\n",
       "    .dataframe tbody tr th {\n",
       "        vertical-align: top;\n",
       "    }\n",
       "\n",
       "    .dataframe thead th {\n",
       "        text-align: right;\n",
       "    }\n",
       "</style>\n",
       "<table border=\"1\" class=\"dataframe\">\n",
       "  <thead>\n",
       "    <tr style=\"text-align: right;\">\n",
       "      <th></th>\n",
       "      <th>count</th>\n",
       "      <th>mean</th>\n",
       "    </tr>\n",
       "    <tr>\n",
       "      <th>family_cat</th>\n",
       "      <th></th>\n",
       "      <th></th>\n",
       "    </tr>\n",
       "  </thead>\n",
       "  <tbody>\n",
       "    <tr>\n",
       "      <th>Был(а) женат/замужем</th>\n",
       "      <td>2140</td>\n",
       "      <td>0.068692</td>\n",
       "    </tr>\n",
       "    <tr>\n",
       "      <th>Не был(а) женат/замужем</th>\n",
       "      <td>6930</td>\n",
       "      <td>0.094949</td>\n",
       "    </tr>\n",
       "    <tr>\n",
       "      <th>Сейчас женат/замужем</th>\n",
       "      <td>12261</td>\n",
       "      <td>0.075606</td>\n",
       "    </tr>\n",
       "  </tbody>\n",
       "</table>\n",
       "</div>"
      ],
      "text/plain": [
       "                         count      mean\n",
       "family_cat                              \n",
       "Был(а) женат/замужем      2140  0.068692\n",
       "Не был(а) женат/замужем   6930  0.094949\n",
       "Сейчас женат/замужем     12261  0.075606"
      ]
     },
     "execution_count": 37,
     "metadata": {},
     "output_type": "execute_result"
    }
   ],
   "source": [
    "data['family_cat'] = data['family_status'].apply(categored_family)\n",
    "data.groupby('family_cat')['debt'].agg(['count','mean'])"
   ]
  },
  {
   "cell_type": "markdown",
   "id": "a3a311fb",
   "metadata": {},
   "source": [
    "Нормализуем по минимальному значению:"
   ]
  },
  {
   "cell_type": "code",
   "execution_count": 38,
   "id": "40d74c7d",
   "metadata": {},
   "outputs": [
    {
     "data": {
      "text/plain": [
       "family_cat\n",
       "Был(а) женат/замужем       100.000000\n",
       "Не был(а) женат/замужем    138.225795\n",
       "Сейчас женат/замужем       110.065264\n",
       "Name: norm, dtype: float64"
      ]
     },
     "execution_count": 38,
     "metadata": {},
     "output_type": "execute_result"
    }
   ],
   "source": [
    "data_normal = data.groupby('family_cat')['debt'].agg(['count','mean'])\n",
    "data_normal['norm'] = data_normal['mean']/data_normal['mean'].min()*100\n",
    "data_normal['norm']"
   ]
  },
  {
   "cell_type": "code",
   "execution_count": 39,
   "id": "38fdb22d",
   "metadata": {},
   "outputs": [
    {
     "data": {
      "text/plain": [
       "<AxesSubplot:xlabel='Семейное положение'>"
      ]
     },
     "execution_count": 39,
     "metadata": {},
     "output_type": "execute_result"
    },
    {
     "data": {
      "image/png": "[encoded data removed]",
      "text/plain": [
       "<Figure size 432x288 with 1 Axes>"
      ]
     },
     "metadata": {
      "needs_background": "light"
     },
     "output_type": "display_data"
    }
   ],
   "source": [
    "data_normal['norm'].plot(kind='bar',xlabel='Семейное положение', rot=45)"
   ]
  },
  {
   "cell_type": "markdown",
   "id": "838a05bb",
   "metadata": {
    "deletable": false,
    "id": "1cef7837"
   },
   "source": [
    "**Выводы:** \n",
    "1. Зависимость между семейным положением и возвратом кредита в срок существует\n",
    "2. Наиболее часто не возвращают вовремя кредит люди, никогда не бывшие в официальном браке. Причём гражданский брак повышает надежность этой категории всего на несколько процентов.\n",
    "3. Лица, находящиеся в официальном браке, значительно надежнее - приблизительно на 25%. Видимо, брак прививает ответственность.\n",
    "4. Наиболее надежные заёмщики - те кто брак \"пережил\". А самые-самые надежные из них - те, кто пережил и своего партнера."
   ]
  },
  {
   "cell_type": "markdown",
   "id": "0b03d32d",
   "metadata": {
    "deletable": false,
    "editable": false,
    "id": "1e8b2fca"
   },
   "source": [
    "#### 3.3 Есть ли зависимость между уровнем дохода и возвратом кредита в срок?"
   ]
  },
  {
   "cell_type": "markdown",
   "id": "5b8773e9",
   "metadata": {},
   "source": [
    "В задании 16 была проведена категоризация доходов:\n",
    "- 0–30000 — `'E'`;\n",
    "- 30001–50000 — `'D'`;\n",
    "- 50001–200000 — `'C'`;\n",
    "- 200001–1000000 — `'B'`;\n",
    "- 1000001 и выше — `'A'`."
   ]
  },
  {
   "cell_type": "markdown",
   "id": "b3b90466",
   "metadata": {},
   "source": [
    "Подсчёт среднего значения вероятности невозврата кредита от дохода заёмщика:"
   ]
  },
  {
   "cell_type": "code",
   "execution_count": 40,
   "id": "a8c63f35",
   "metadata": {
    "deletable": false,
    "id": "cd7e3720"
   },
   "outputs": [
    {
     "data": {
      "text/html": [
       "<div>\n",
       "<style scoped>\n",
       "    .dataframe tbody tr th:only-of-type {\n",
       "        vertical-align: middle;\n",
       "    }\n",
       "\n",
       "    .dataframe tbody tr th {\n",
       "        vertical-align: top;\n",
       "    }\n",
       "\n",
       "    .dataframe thead th {\n",
       "        text-align: right;\n",
       "    }\n",
       "</style>\n",
       "<table border=\"1\" class=\"dataframe\">\n",
       "  <thead>\n",
       "    <tr style=\"text-align: right;\">\n",
       "      <th></th>\n",
       "      <th>count</th>\n",
       "      <th>mean</th>\n",
       "    </tr>\n",
       "    <tr>\n",
       "      <th>total_income_category</th>\n",
       "      <th></th>\n",
       "      <th></th>\n",
       "    </tr>\n",
       "  </thead>\n",
       "  <tbody>\n",
       "    <tr>\n",
       "      <th>A</th>\n",
       "      <td>25</td>\n",
       "      <td>0.080000</td>\n",
       "    </tr>\n",
       "    <tr>\n",
       "      <th>B</th>\n",
       "      <td>5014</td>\n",
       "      <td>0.070602</td>\n",
       "    </tr>\n",
       "    <tr>\n",
       "      <th>C</th>\n",
       "      <td>15921</td>\n",
       "      <td>0.084982</td>\n",
       "    </tr>\n",
       "    <tr>\n",
       "      <th>D</th>\n",
       "      <td>349</td>\n",
       "      <td>0.060172</td>\n",
       "    </tr>\n",
       "    <tr>\n",
       "      <th>E</th>\n",
       "      <td>22</td>\n",
       "      <td>0.090909</td>\n",
       "    </tr>\n",
       "  </tbody>\n",
       "</table>\n",
       "</div>"
      ],
      "text/plain": [
       "                       count      mean\n",
       "total_income_category                 \n",
       "A                         25  0.080000\n",
       "B                       5014  0.070602\n",
       "C                      15921  0.084982\n",
       "D                        349  0.060172\n",
       "E                         22  0.090909"
      ]
     },
     "execution_count": 40,
     "metadata": {},
     "output_type": "execute_result"
    }
   ],
   "source": [
    "data.groupby('total_income_category')['debt'].agg(['count','mean'])"
   ]
  },
  {
   "cell_type": "markdown",
   "id": "e63a0265",
   "metadata": {},
   "source": [
    "Категории A и Е не репрентативны. Имеет смысл сгруппировать их с соседними категориями"
   ]
  },
  {
   "cell_type": "code",
   "execution_count": 41,
   "id": "9f2eded7",
   "metadata": {},
   "outputs": [],
   "source": [
    "def categored_income(income):\n",
    "    if income in ['A', 'B']:\n",
    "        return 'До 50 тыс.'\n",
    "    if income in ['D', 'E']:\n",
    "        return 'Свыше 200 тыс.'\n",
    "    else:\n",
    "        return 'От 50 до 200 тыс.'"
   ]
  },
  {
   "cell_type": "code",
   "execution_count": 42,
   "id": "2bccd3c5",
   "metadata": {},
   "outputs": [
    {
     "data": {
      "text/html": [
       "<div>\n",
       "<style scoped>\n",
       "    .dataframe tbody tr th:only-of-type {\n",
       "        vertical-align: middle;\n",
       "    }\n",
       "\n",
       "    .dataframe tbody tr th {\n",
       "        vertical-align: top;\n",
       "    }\n",
       "\n",
       "    .dataframe thead th {\n",
       "        text-align: right;\n",
       "    }\n",
       "</style>\n",
       "<table border=\"1\" class=\"dataframe\">\n",
       "  <thead>\n",
       "    <tr style=\"text-align: right;\">\n",
       "      <th></th>\n",
       "      <th>count</th>\n",
       "      <th>mean</th>\n",
       "    </tr>\n",
       "    <tr>\n",
       "      <th>income_cat</th>\n",
       "      <th></th>\n",
       "      <th></th>\n",
       "    </tr>\n",
       "  </thead>\n",
       "  <tbody>\n",
       "    <tr>\n",
       "      <th>До 50 тыс.</th>\n",
       "      <td>5039</td>\n",
       "      <td>0.070649</td>\n",
       "    </tr>\n",
       "    <tr>\n",
       "      <th>От 50 до 200 тыс.</th>\n",
       "      <td>15921</td>\n",
       "      <td>0.084982</td>\n",
       "    </tr>\n",
       "    <tr>\n",
       "      <th>Свыше 200 тыс.</th>\n",
       "      <td>371</td>\n",
       "      <td>0.061995</td>\n",
       "    </tr>\n",
       "  </tbody>\n",
       "</table>\n",
       "</div>"
      ],
      "text/plain": [
       "                   count      mean\n",
       "income_cat                        \n",
       "До 50 тыс.          5039  0.070649\n",
       "От 50 до 200 тыс.  15921  0.084982\n",
       "Свыше 200 тыс.       371  0.061995"
      ]
     },
     "execution_count": 42,
     "metadata": {},
     "output_type": "execute_result"
    }
   ],
   "source": [
    "data['income_cat'] = data['total_income_category'].apply(categored_income)\n",
    "data.groupby('income_cat')['debt'].agg(['count','mean'])"
   ]
  },
  {
   "cell_type": "markdown",
   "id": "a6acfa77",
   "metadata": {},
   "source": [
    "Нормализуем и отобразим на графике"
   ]
  },
  {
   "cell_type": "code",
   "execution_count": 43,
   "id": "8d47c3af",
   "metadata": {},
   "outputs": [
    {
     "data": {
      "text/plain": [
       "income_cat\n",
       "До 50 тыс.           113.959809\n",
       "От 50 до 200 тыс.    137.079821\n",
       "Свыше 200 тыс.       100.000000\n",
       "Name: norm, dtype: float64"
      ]
     },
     "execution_count": 43,
     "metadata": {},
     "output_type": "execute_result"
    }
   ],
   "source": [
    "data_normal = data.groupby('income_cat')['debt'].agg(['count','mean'])\n",
    "data_normal['norm'] = data_normal['mean']/data_normal['mean'].min()*100\n",
    "data_normal['norm']"
   ]
  },
  {
   "cell_type": "code",
   "execution_count": 44,
   "id": "84448f9e",
   "metadata": {},
   "outputs": [
    {
     "data": {
      "text/plain": [
       "<AxesSubplot:xlabel='Доход'>"
      ]
     },
     "execution_count": 44,
     "metadata": {},
     "output_type": "execute_result"
    },
    {
     "data": {
      "image/png": "[encoded data removed]",
      "text/plain": [
       "<Figure size 432x288 with 1 Axes>"
      ]
     },
     "metadata": {
      "needs_background": "light"
     },
     "output_type": "display_data"
    }
   ],
   "source": [
    "data_normal['norm'].plot(kind='bar',xlabel='Доход', rot=0)"
   ]
  },
  {
   "cell_type": "markdown",
   "id": "1d0f5af1",
   "metadata": {},
   "source": [
    "Возможно, надежность заёмщиков растет с их доходами.\n",
    "Попробуем по-другому категоризировать данные, разбив на более равномерные группы"
   ]
  },
  {
   "cell_type": "code",
   "execution_count": 45,
   "id": "dd07c639",
   "metadata": {},
   "outputs": [],
   "source": [
    "data['income_cut']=pd.qcut(data['total_income'],25)"
   ]
  },
  {
   "cell_type": "code",
   "execution_count": 46,
   "id": "399c21f9",
   "metadata": {},
   "outputs": [
    {
     "data": {
      "text/html": [
       "<div>\n",
       "<style scoped>\n",
       "    .dataframe tbody tr th:only-of-type {\n",
       "        vertical-align: middle;\n",
       "    }\n",
       "\n",
       "    .dataframe tbody tr th {\n",
       "        vertical-align: top;\n",
       "    }\n",
       "\n",
       "    .dataframe thead th {\n",
       "        text-align: right;\n",
       "    }\n",
       "</style>\n",
       "<table border=\"1\" class=\"dataframe\">\n",
       "  <thead>\n",
       "    <tr style=\"text-align: right;\">\n",
       "      <th></th>\n",
       "      <th>count</th>\n",
       "      <th>mean</th>\n",
       "    </tr>\n",
       "    <tr>\n",
       "      <th>income_cut</th>\n",
       "      <th></th>\n",
       "      <th></th>\n",
       "    </tr>\n",
       "  </thead>\n",
       "  <tbody>\n",
       "    <tr>\n",
       "      <th>(20666.999, 61239.2]</th>\n",
       "      <td>854</td>\n",
       "      <td>0.059719</td>\n",
       "    </tr>\n",
       "    <tr>\n",
       "      <th>(61239.2, 73243.2]</th>\n",
       "      <td>853</td>\n",
       "      <td>0.079719</td>\n",
       "    </tr>\n",
       "    <tr>\n",
       "      <th>(73243.2, 82849.2]</th>\n",
       "      <td>853</td>\n",
       "      <td>0.091442</td>\n",
       "    </tr>\n",
       "    <tr>\n",
       "      <th>(82849.2, 90814.2]</th>\n",
       "      <td>853</td>\n",
       "      <td>0.085580</td>\n",
       "    </tr>\n",
       "    <tr>\n",
       "      <th>(90814.2, 98514.0]</th>\n",
       "      <td>854</td>\n",
       "      <td>0.086651</td>\n",
       "    </tr>\n",
       "    <tr>\n",
       "      <th>(98514.0, 105617.6]</th>\n",
       "      <td>853</td>\n",
       "      <td>0.070340</td>\n",
       "    </tr>\n",
       "    <tr>\n",
       "      <th>(105617.6, 112556.4]</th>\n",
       "      <td>853</td>\n",
       "      <td>0.087925</td>\n",
       "    </tr>\n",
       "    <tr>\n",
       "      <th>(112556.4, 118514.0]</th>\n",
       "      <td>1088</td>\n",
       "      <td>0.090993</td>\n",
       "    </tr>\n",
       "    <tr>\n",
       "      <th>(118514.0, 124655.6]</th>\n",
       "      <td>618</td>\n",
       "      <td>0.095469</td>\n",
       "    </tr>\n",
       "    <tr>\n",
       "      <th>(124655.6, 132113.0]</th>\n",
       "      <td>854</td>\n",
       "      <td>0.076112</td>\n",
       "    </tr>\n",
       "    <tr>\n",
       "      <th>(132113.0, 139465.6]</th>\n",
       "      <td>853</td>\n",
       "      <td>0.086753</td>\n",
       "    </tr>\n",
       "    <tr>\n",
       "      <th>(139465.6, 142594.0]</th>\n",
       "      <td>1397</td>\n",
       "      <td>0.093772</td>\n",
       "    </tr>\n",
       "    <tr>\n",
       "      <th>(142594.0, 145193.6]</th>\n",
       "      <td>309</td>\n",
       "      <td>0.084142</td>\n",
       "    </tr>\n",
       "    <tr>\n",
       "      <th>(145193.6, 152752.0]</th>\n",
       "      <td>853</td>\n",
       "      <td>0.085580</td>\n",
       "    </tr>\n",
       "    <tr>\n",
       "      <th>(152752.0, 161380.0]</th>\n",
       "      <td>854</td>\n",
       "      <td>0.080796</td>\n",
       "    </tr>\n",
       "    <tr>\n",
       "      <th>(161380.0, 169971.0]</th>\n",
       "      <td>853</td>\n",
       "      <td>0.097304</td>\n",
       "    </tr>\n",
       "    <tr>\n",
       "      <th>(169971.0, 174091.2]</th>\n",
       "      <td>853</td>\n",
       "      <td>0.073857</td>\n",
       "    </tr>\n",
       "    <tr>\n",
       "      <th>(174091.2, 186298.4]</th>\n",
       "      <td>853</td>\n",
       "      <td>0.082063</td>\n",
       "    </tr>\n",
       "    <tr>\n",
       "      <th>(186298.4, 198632.0]</th>\n",
       "      <td>854</td>\n",
       "      <td>0.093677</td>\n",
       "    </tr>\n",
       "    <tr>\n",
       "      <th>(198632.0, 214604.0]</th>\n",
       "      <td>853</td>\n",
       "      <td>0.072685</td>\n",
       "    </tr>\n",
       "    <tr>\n",
       "      <th>(214604.0, 231760.4]</th>\n",
       "      <td>853</td>\n",
       "      <td>0.072685</td>\n",
       "    </tr>\n",
       "    <tr>\n",
       "      <th>(231760.4, 256824.8]</th>\n",
       "      <td>853</td>\n",
       "      <td>0.069168</td>\n",
       "    </tr>\n",
       "    <tr>\n",
       "      <th>(256824.8, 287071.8]</th>\n",
       "      <td>853</td>\n",
       "      <td>0.067995</td>\n",
       "    </tr>\n",
       "    <tr>\n",
       "      <th>(287071.8, 350155.6]</th>\n",
       "      <td>853</td>\n",
       "      <td>0.077374</td>\n",
       "    </tr>\n",
       "    <tr>\n",
       "      <th>(350155.6, 2265604.0]</th>\n",
       "      <td>854</td>\n",
       "      <td>0.063232</td>\n",
       "    </tr>\n",
       "  </tbody>\n",
       "</table>\n",
       "</div>"
      ],
      "text/plain": [
       "                       count      mean\n",
       "income_cut                            \n",
       "(20666.999, 61239.2]     854  0.059719\n",
       "(61239.2, 73243.2]       853  0.079719\n",
       "(73243.2, 82849.2]       853  0.091442\n",
       "(82849.2, 90814.2]       853  0.085580\n",
       "(90814.2, 98514.0]       854  0.086651\n",
       "(98514.0, 105617.6]      853  0.070340\n",
       "(105617.6, 112556.4]     853  0.087925\n",
       "(112556.4, 118514.0]    1088  0.090993\n",
       "(118514.0, 124655.6]     618  0.095469\n",
       "(124655.6, 132113.0]     854  0.076112\n",
       "(132113.0, 139465.6]     853  0.086753\n",
       "(139465.6, 142594.0]    1397  0.093772\n",
       "(142594.0, 145193.6]     309  0.084142\n",
       "(145193.6, 152752.0]     853  0.085580\n",
       "(152752.0, 161380.0]     854  0.080796\n",
       "(161380.0, 169971.0]     853  0.097304\n",
       "(169971.0, 174091.2]     853  0.073857\n",
       "(174091.2, 186298.4]     853  0.082063\n",
       "(186298.4, 198632.0]     854  0.093677\n",
       "(198632.0, 214604.0]     853  0.072685\n",
       "(214604.0, 231760.4]     853  0.072685\n",
       "(231760.4, 256824.8]     853  0.069168\n",
       "(256824.8, 287071.8]     853  0.067995\n",
       "(287071.8, 350155.6]     853  0.077374\n",
       "(350155.6, 2265604.0]    854  0.063232"
      ]
     },
     "execution_count": 46,
     "metadata": {},
     "output_type": "execute_result"
    }
   ],
   "source": [
    "data.groupby('income_cut')['debt'].agg(['count','mean'])"
   ]
  },
  {
   "cell_type": "code",
   "execution_count": 47,
   "id": "159dc003",
   "metadata": {},
   "outputs": [
    {
     "data": {
      "text/plain": [
       "<AxesSubplot:xlabel='Доход'>"
      ]
     },
     "execution_count": 47,
     "metadata": {},
     "output_type": "execute_result"
    },
    {
     "data": {
      "image/png": "[encoded data removed]",
      "text/plain": [
       "<Figure size 720x360 with 1 Axes>"
      ]
     },
     "metadata": {
      "needs_background": "light"
     },
     "output_type": "display_data"
    }
   ],
   "source": [
    "data.groupby('income_cut')['debt'].mean().plot(kind='bar',xlabel='Доход',rot=90, figsize=[10, 5])"
   ]
  },
  {
   "cell_type": "markdown",
   "id": "cbe637de",
   "metadata": {},
   "source": [
    "Нормализуем данные в зависимости от минимального значения:"
   ]
  },
  {
   "cell_type": "code",
   "execution_count": 48,
   "id": "6cab68c7",
   "metadata": {},
   "outputs": [
    {
     "data": {
      "text/html": [
       "<div>\n",
       "<style scoped>\n",
       "    .dataframe tbody tr th:only-of-type {\n",
       "        vertical-align: middle;\n",
       "    }\n",
       "\n",
       "    .dataframe tbody tr th {\n",
       "        vertical-align: top;\n",
       "    }\n",
       "\n",
       "    .dataframe thead th {\n",
       "        text-align: right;\n",
       "    }\n",
       "</style>\n",
       "<table border=\"1\" class=\"dataframe\">\n",
       "  <thead>\n",
       "    <tr style=\"text-align: right;\">\n",
       "      <th></th>\n",
       "      <th>count</th>\n",
       "      <th>mean</th>\n",
       "      <th>norm</th>\n",
       "    </tr>\n",
       "    <tr>\n",
       "      <th>income_cut</th>\n",
       "      <th></th>\n",
       "      <th></th>\n",
       "      <th></th>\n",
       "    </tr>\n",
       "  </thead>\n",
       "  <tbody>\n",
       "    <tr>\n",
       "      <th>(20666.999, 61239.2]</th>\n",
       "      <td>854</td>\n",
       "      <td>0.059719</td>\n",
       "      <td>100.000000</td>\n",
       "    </tr>\n",
       "    <tr>\n",
       "      <th>(61239.2, 73243.2]</th>\n",
       "      <td>853</td>\n",
       "      <td>0.079719</td>\n",
       "      <td>133.489644</td>\n",
       "    </tr>\n",
       "    <tr>\n",
       "      <th>(73243.2, 82849.2]</th>\n",
       "      <td>853</td>\n",
       "      <td>0.091442</td>\n",
       "      <td>153.120474</td>\n",
       "    </tr>\n",
       "    <tr>\n",
       "      <th>(82849.2, 90814.2]</th>\n",
       "      <td>853</td>\n",
       "      <td>0.085580</td>\n",
       "      <td>143.305059</td>\n",
       "    </tr>\n",
       "    <tr>\n",
       "      <th>(90814.2, 98514.0]</th>\n",
       "      <td>854</td>\n",
       "      <td>0.086651</td>\n",
       "      <td>145.098039</td>\n",
       "    </tr>\n",
       "    <tr>\n",
       "      <th>(98514.0, 105617.6]</th>\n",
       "      <td>853</td>\n",
       "      <td>0.070340</td>\n",
       "      <td>117.784980</td>\n",
       "    </tr>\n",
       "    <tr>\n",
       "      <th>(105617.6, 112556.4]</th>\n",
       "      <td>853</td>\n",
       "      <td>0.087925</td>\n",
       "      <td>147.231225</td>\n",
       "    </tr>\n",
       "    <tr>\n",
       "      <th>(112556.4, 118514.0]</th>\n",
       "      <td>1088</td>\n",
       "      <td>0.090993</td>\n",
       "      <td>152.368080</td>\n",
       "    </tr>\n",
       "    <tr>\n",
       "      <th>(118514.0, 124655.6]</th>\n",
       "      <td>618</td>\n",
       "      <td>0.095469</td>\n",
       "      <td>159.864205</td>\n",
       "    </tr>\n",
       "    <tr>\n",
       "      <th>(124655.6, 132113.0]</th>\n",
       "      <td>854</td>\n",
       "      <td>0.076112</td>\n",
       "      <td>127.450980</td>\n",
       "    </tr>\n",
       "    <tr>\n",
       "      <th>(132113.0, 139465.6]</th>\n",
       "      <td>853</td>\n",
       "      <td>0.086753</td>\n",
       "      <td>145.268142</td>\n",
       "    </tr>\n",
       "    <tr>\n",
       "      <th>(139465.6, 142594.0]</th>\n",
       "      <td>1397</td>\n",
       "      <td>0.093772</td>\n",
       "      <td>157.022752</td>\n",
       "    </tr>\n",
       "    <tr>\n",
       "      <th>(142594.0, 145193.6]</th>\n",
       "      <td>309</td>\n",
       "      <td>0.084142</td>\n",
       "      <td>140.897265</td>\n",
       "    </tr>\n",
       "    <tr>\n",
       "      <th>(145193.6, 152752.0]</th>\n",
       "      <td>853</td>\n",
       "      <td>0.085580</td>\n",
       "      <td>143.305059</td>\n",
       "    </tr>\n",
       "    <tr>\n",
       "      <th>(152752.0, 161380.0]</th>\n",
       "      <td>854</td>\n",
       "      <td>0.080796</td>\n",
       "      <td>135.294118</td>\n",
       "    </tr>\n",
       "    <tr>\n",
       "      <th>(161380.0, 169971.0]</th>\n",
       "      <td>853</td>\n",
       "      <td>0.097304</td>\n",
       "      <td>162.935889</td>\n",
       "    </tr>\n",
       "    <tr>\n",
       "      <th>(169971.0, 174091.2]</th>\n",
       "      <td>853</td>\n",
       "      <td>0.073857</td>\n",
       "      <td>123.674229</td>\n",
       "    </tr>\n",
       "    <tr>\n",
       "      <th>(174091.2, 186298.4]</th>\n",
       "      <td>853</td>\n",
       "      <td>0.082063</td>\n",
       "      <td>137.415810</td>\n",
       "    </tr>\n",
       "    <tr>\n",
       "      <th>(186298.4, 198632.0]</th>\n",
       "      <td>854</td>\n",
       "      <td>0.093677</td>\n",
       "      <td>156.862745</td>\n",
       "    </tr>\n",
       "    <tr>\n",
       "      <th>(198632.0, 214604.0]</th>\n",
       "      <td>853</td>\n",
       "      <td>0.072685</td>\n",
       "      <td>121.711146</td>\n",
       "    </tr>\n",
       "    <tr>\n",
       "      <th>(214604.0, 231760.4]</th>\n",
       "      <td>853</td>\n",
       "      <td>0.072685</td>\n",
       "      <td>121.711146</td>\n",
       "    </tr>\n",
       "    <tr>\n",
       "      <th>(231760.4, 256824.8]</th>\n",
       "      <td>853</td>\n",
       "      <td>0.069168</td>\n",
       "      <td>115.821897</td>\n",
       "    </tr>\n",
       "    <tr>\n",
       "      <th>(256824.8, 287071.8]</th>\n",
       "      <td>853</td>\n",
       "      <td>0.067995</td>\n",
       "      <td>113.858814</td>\n",
       "    </tr>\n",
       "    <tr>\n",
       "      <th>(287071.8, 350155.6]</th>\n",
       "      <td>853</td>\n",
       "      <td>0.077374</td>\n",
       "      <td>129.563478</td>\n",
       "    </tr>\n",
       "    <tr>\n",
       "      <th>(350155.6, 2265604.0]</th>\n",
       "      <td>854</td>\n",
       "      <td>0.063232</td>\n",
       "      <td>105.882353</td>\n",
       "    </tr>\n",
       "  </tbody>\n",
       "</table>\n",
       "</div>"
      ],
      "text/plain": [
       "                       count      mean        norm\n",
       "income_cut                                        \n",
       "(20666.999, 61239.2]     854  0.059719  100.000000\n",
       "(61239.2, 73243.2]       853  0.079719  133.489644\n",
       "(73243.2, 82849.2]       853  0.091442  153.120474\n",
       "(82849.2, 90814.2]       853  0.085580  143.305059\n",
       "(90814.2, 98514.0]       854  0.086651  145.098039\n",
       "(98514.0, 105617.6]      853  0.070340  117.784980\n",
       "(105617.6, 112556.4]     853  0.087925  147.231225\n",
       "(112556.4, 118514.0]    1088  0.090993  152.368080\n",
       "(118514.0, 124655.6]     618  0.095469  159.864205\n",
       "(124655.6, 132113.0]     854  0.076112  127.450980\n",
       "(132113.0, 139465.6]     853  0.086753  145.268142\n",
       "(139465.6, 142594.0]    1397  0.093772  157.022752\n",
       "(142594.0, 145193.6]     309  0.084142  140.897265\n",
       "(145193.6, 152752.0]     853  0.085580  143.305059\n",
       "(152752.0, 161380.0]     854  0.080796  135.294118\n",
       "(161380.0, 169971.0]     853  0.097304  162.935889\n",
       "(169971.0, 174091.2]     853  0.073857  123.674229\n",
       "(174091.2, 186298.4]     853  0.082063  137.415810\n",
       "(186298.4, 198632.0]     854  0.093677  156.862745\n",
       "(198632.0, 214604.0]     853  0.072685  121.711146\n",
       "(214604.0, 231760.4]     853  0.072685  121.711146\n",
       "(231760.4, 256824.8]     853  0.069168  115.821897\n",
       "(256824.8, 287071.8]     853  0.067995  113.858814\n",
       "(287071.8, 350155.6]     853  0.077374  129.563478\n",
       "(350155.6, 2265604.0]    854  0.063232  105.882353"
      ]
     },
     "execution_count": 48,
     "metadata": {},
     "output_type": "execute_result"
    }
   ],
   "source": [
    "data_normal = data.groupby('income_cut')['debt'].agg(['count','mean'])\n",
    "data_normal['norm'] = data_normal['mean']/data_normal['mean'].min()*100\n",
    "data_normal"
   ]
  },
  {
   "cell_type": "code",
   "execution_count": 49,
   "id": "bc74486e",
   "metadata": {},
   "outputs": [
    {
     "data": {
      "text/plain": [
       "<AxesSubplot:xlabel='Доход'>"
      ]
     },
     "execution_count": 49,
     "metadata": {},
     "output_type": "execute_result"
    },
    {
     "data": {
      "image/png": "[encoded data removed]",
      "text/plain": [
       "<Figure size 720x360 with 1 Axes>"
      ]
     },
     "metadata": {
      "needs_background": "light"
     },
     "output_type": "display_data"
    }
   ],
   "source": [
    "data_normal['norm'].plot(kind='bar',xlabel='Доход', rot=90, figsize=[10, 5])"
   ]
  },
  {
   "cell_type": "markdown",
   "id": "243a8a81",
   "metadata": {},
   "source": [
    "Вывод: разбитие на категории в задании 16 неудачно. Для наглядности на основании графиков разобъем данные на другие категории:"
   ]
  },
  {
   "cell_type": "code",
   "execution_count": 50,
   "id": "e4c62482",
   "metadata": {},
   "outputs": [],
   "source": [
    "def new_categorize_income(income):\n",
    "    try:\n",
    "        if 0 <= income <= 50000:\n",
    "            return 'до 050 тыс.'\n",
    "        elif 50001 <= income <= 75000:\n",
    "            return 'от 050 до 075 тыс.'\n",
    "        elif 75001 <= income <= 95000:\n",
    "            return 'от 075 до 95 тыс.'\n",
    "        elif 95001 <= income <= 105000:\n",
    "            return 'от 095 до 105 тыс.'\n",
    "        elif 105001 <= income <= 125000:\n",
    "            return 'от 105 до 125 тыс.'\n",
    "        elif 125001 <= income <= 130000:\n",
    "            return 'от 125 до 130 тыс.'\n",
    "        elif 130001 <= income <= 175000:\n",
    "            return 'от 130 до 175 тыс.'\n",
    "        elif 174001 <= income <= 300000:\n",
    "            return 'от 175 до 300 тыс.'\n",
    "        elif 300001 <= income <= 400000:\n",
    "            return 'от 300 до 400 тыс.'\n",
    "#        elif 400001 <= income <= 500000:\n",
    "#            return 'от 400 до 500 тыс.'\n",
    "        elif income >= 400001:\n",
    "            return 'свыше 400 тыс.'\n",
    "    except:\n",
    "        pass"
   ]
  },
  {
   "cell_type": "code",
   "execution_count": 51,
   "id": "518b2042",
   "metadata": {},
   "outputs": [
    {
     "data": {
      "text/html": [
       "<div>\n",
       "<style scoped>\n",
       "    .dataframe tbody tr th:only-of-type {\n",
       "        vertical-align: middle;\n",
       "    }\n",
       "\n",
       "    .dataframe tbody tr th {\n",
       "        vertical-align: top;\n",
       "    }\n",
       "\n",
       "    .dataframe thead th {\n",
       "        text-align: right;\n",
       "    }\n",
       "</style>\n",
       "<table border=\"1\" class=\"dataframe\">\n",
       "  <thead>\n",
       "    <tr style=\"text-align: right;\">\n",
       "      <th></th>\n",
       "      <th>count</th>\n",
       "      <th>mean</th>\n",
       "    </tr>\n",
       "    <tr>\n",
       "      <th>new_income_category</th>\n",
       "      <th></th>\n",
       "      <th></th>\n",
       "    </tr>\n",
       "  </thead>\n",
       "  <tbody>\n",
       "    <tr>\n",
       "      <th>до 050 тыс.</th>\n",
       "      <td>371</td>\n",
       "      <td>0.061995</td>\n",
       "    </tr>\n",
       "    <tr>\n",
       "      <th>от 050 до 075 тыс.</th>\n",
       "      <td>1483</td>\n",
       "      <td>0.076197</td>\n",
       "    </tr>\n",
       "    <tr>\n",
       "      <th>от 075 до 95 тыс.</th>\n",
       "      <td>2020</td>\n",
       "      <td>0.087129</td>\n",
       "    </tr>\n",
       "    <tr>\n",
       "      <th>от 095 до 105 тыс.</th>\n",
       "      <td>1179</td>\n",
       "      <td>0.072943</td>\n",
       "    </tr>\n",
       "    <tr>\n",
       "      <th>от 105 до 125 тыс.</th>\n",
       "      <td>2663</td>\n",
       "      <td>0.091626</td>\n",
       "    </tr>\n",
       "    <tr>\n",
       "      <th>от 125 до 130 тыс.</th>\n",
       "      <td>569</td>\n",
       "      <td>0.066784</td>\n",
       "    </tr>\n",
       "    <tr>\n",
       "      <th>от 130 до 175 тыс.</th>\n",
       "      <td>6303</td>\n",
       "      <td>0.086784</td>\n",
       "    </tr>\n",
       "    <tr>\n",
       "      <th>от 175 до 300 тыс.</th>\n",
       "      <td>5269</td>\n",
       "      <td>0.075726</td>\n",
       "    </tr>\n",
       "    <tr>\n",
       "      <th>от 300 до 400 тыс.</th>\n",
       "      <td>946</td>\n",
       "      <td>0.079281</td>\n",
       "    </tr>\n",
       "    <tr>\n",
       "      <th>свыше 400 тыс.</th>\n",
       "      <td>528</td>\n",
       "      <td>0.058712</td>\n",
       "    </tr>\n",
       "  </tbody>\n",
       "</table>\n",
       "</div>"
      ],
      "text/plain": [
       "                     count      mean\n",
       "new_income_category                 \n",
       "до 050 тыс.            371  0.061995\n",
       "от 050 до 075 тыс.    1483  0.076197\n",
       "от 075 до 95 тыс.     2020  0.087129\n",
       "от 095 до 105 тыс.    1179  0.072943\n",
       "от 105 до 125 тыс.    2663  0.091626\n",
       "от 125 до 130 тыс.     569  0.066784\n",
       "от 130 до 175 тыс.    6303  0.086784\n",
       "от 175 до 300 тыс.    5269  0.075726\n",
       "от 300 до 400 тыс.     946  0.079281\n",
       "свыше 400 тыс.         528  0.058712"
      ]
     },
     "execution_count": 51,
     "metadata": {},
     "output_type": "execute_result"
    }
   ],
   "source": [
    "data['new_income_category'] = data['total_income'].apply(new_categorize_income)\n",
    "data_income = data.groupby('new_income_category')['debt'].agg(['count','mean'])\n",
    "data_income"
   ]
  },
  {
   "cell_type": "code",
   "execution_count": 52,
   "id": "3b71d2d0",
   "metadata": {},
   "outputs": [
    {
     "data": {
      "text/plain": [
       "<AxesSubplot:xlabel='Доход'>"
      ]
     },
     "execution_count": 52,
     "metadata": {},
     "output_type": "execute_result"
    },
    {
     "data": {
      "image/png": "[encoded data removed]",
      "text/plain": [
       "<Figure size 432x288 with 1 Axes>"
      ]
     },
     "metadata": {
      "needs_background": "light"
     },
     "output_type": "display_data"
    }
   ],
   "source": [
    "data_income['mean'].plot(kind='bar',xlabel='Доход', rot=90)"
   ]
  },
  {
   "cell_type": "markdown",
   "id": "62dc2d3c",
   "metadata": {},
   "source": [
    "Нормализуем результат по минимальному значению"
   ]
  },
  {
   "cell_type": "code",
   "execution_count": 53,
   "id": "7c1b8334",
   "metadata": {},
   "outputs": [
    {
     "data": {
      "text/html": [
       "<div>\n",
       "<style scoped>\n",
       "    .dataframe tbody tr th:only-of-type {\n",
       "        vertical-align: middle;\n",
       "    }\n",
       "\n",
       "    .dataframe tbody tr th {\n",
       "        vertical-align: top;\n",
       "    }\n",
       "\n",
       "    .dataframe thead th {\n",
       "        text-align: right;\n",
       "    }\n",
       "</style>\n",
       "<table border=\"1\" class=\"dataframe\">\n",
       "  <thead>\n",
       "    <tr style=\"text-align: right;\">\n",
       "      <th></th>\n",
       "      <th>count</th>\n",
       "      <th>mean</th>\n",
       "      <th>norm</th>\n",
       "    </tr>\n",
       "    <tr>\n",
       "      <th>new_income_category</th>\n",
       "      <th></th>\n",
       "      <th></th>\n",
       "      <th></th>\n",
       "    </tr>\n",
       "  </thead>\n",
       "  <tbody>\n",
       "    <tr>\n",
       "      <th>до 050 тыс.</th>\n",
       "      <td>371</td>\n",
       "      <td>0.061995</td>\n",
       "      <td>105.590818</td>\n",
       "    </tr>\n",
       "    <tr>\n",
       "      <th>от 050 до 075 тыс.</th>\n",
       "      <td>1483</td>\n",
       "      <td>0.076197</td>\n",
       "      <td>129.780523</td>\n",
       "    </tr>\n",
       "    <tr>\n",
       "      <th>от 075 до 95 тыс.</th>\n",
       "      <td>2020</td>\n",
       "      <td>0.087129</td>\n",
       "      <td>148.399872</td>\n",
       "    </tr>\n",
       "    <tr>\n",
       "      <th>от 095 до 105 тыс.</th>\n",
       "      <td>1179</td>\n",
       "      <td>0.072943</td>\n",
       "      <td>124.238693</td>\n",
       "    </tr>\n",
       "    <tr>\n",
       "      <th>от 105 до 125 тыс.</th>\n",
       "      <td>2663</td>\n",
       "      <td>0.091626</td>\n",
       "      <td>156.059743</td>\n",
       "    </tr>\n",
       "    <tr>\n",
       "      <th>от 125 до 130 тыс.</th>\n",
       "      <td>569</td>\n",
       "      <td>0.066784</td>\n",
       "      <td>113.747945</td>\n",
       "    </tr>\n",
       "    <tr>\n",
       "      <th>от 130 до 175 тыс.</th>\n",
       "      <td>6303</td>\n",
       "      <td>0.086784</td>\n",
       "      <td>147.812869</td>\n",
       "    </tr>\n",
       "    <tr>\n",
       "      <th>от 175 до 300 тыс.</th>\n",
       "      <td>5269</td>\n",
       "      <td>0.075726</td>\n",
       "      <td>128.978382</td>\n",
       "    </tr>\n",
       "    <tr>\n",
       "      <th>от 300 до 400 тыс.</th>\n",
       "      <td>946</td>\n",
       "      <td>0.079281</td>\n",
       "      <td>135.033758</td>\n",
       "    </tr>\n",
       "    <tr>\n",
       "      <th>свыше 400 тыс.</th>\n",
       "      <td>528</td>\n",
       "      <td>0.058712</td>\n",
       "      <td>100.000000</td>\n",
       "    </tr>\n",
       "  </tbody>\n",
       "</table>\n",
       "</div>"
      ],
      "text/plain": [
       "                     count      mean        norm\n",
       "new_income_category                             \n",
       "до 050 тыс.            371  0.061995  105.590818\n",
       "от 050 до 075 тыс.    1483  0.076197  129.780523\n",
       "от 075 до 95 тыс.     2020  0.087129  148.399872\n",
       "от 095 до 105 тыс.    1179  0.072943  124.238693\n",
       "от 105 до 125 тыс.    2663  0.091626  156.059743\n",
       "от 125 до 130 тыс.     569  0.066784  113.747945\n",
       "от 130 до 175 тыс.    6303  0.086784  147.812869\n",
       "от 175 до 300 тыс.    5269  0.075726  128.978382\n",
       "от 300 до 400 тыс.     946  0.079281  135.033758\n",
       "свыше 400 тыс.         528  0.058712  100.000000"
      ]
     },
     "execution_count": 53,
     "metadata": {},
     "output_type": "execute_result"
    }
   ],
   "source": [
    "data_income['norm'] = data_income['mean']/data_income['mean'].min()*100\n",
    "data_income"
   ]
  },
  {
   "cell_type": "code",
   "execution_count": 54,
   "id": "c0085999",
   "metadata": {
    "scrolled": false
   },
   "outputs": [
    {
     "data": {
      "text/plain": [
       "<AxesSubplot:xlabel='Доход'>"
      ]
     },
     "execution_count": 54,
     "metadata": {},
     "output_type": "execute_result"
    },
    {
     "data": {
      "image/png": "[encoded data removed]",
      "text/plain": [
       "<Figure size 432x288 with 1 Axes>"
      ]
     },
     "metadata": {
      "needs_background": "light"
     },
     "output_type": "display_data"
    }
   ],
   "source": [
    "data_income['norm'].plot(kind='bar',xlabel='Доход', rot=90)"
   ]
  },
  {
   "cell_type": "markdown",
   "id": "3ac592e1",
   "metadata": {
    "deletable": false,
    "id": "e8593def"
   },
   "source": [
    "**Выводы:** \n",
    "1. Зависимость между уровнем дохода и возвратом кредита в срок существует, но она скорее дискретна: на разных диапазонах разные значения надежности, соседние диапазоны не имеют плавных переходов. В очень грубом приближении можно говорить о том, что пик невозвращаемых кредитов приходится на заёмщиков, имеющих доходы от 75000 до 400000 рублей.\n",
    "2. Наиболее ответственные заёмщики имеют доход до 50000 рублей и свыше 400000\n",
    "3. Наиболее ненадежные заёмщики имеют доход от 75000 до 200000 рублей и от 300000 до 400000 рублей\n",
    "4. Заемщики в \"узких\" диапазонах доходов:от 95000 до 105000 и от 125000 до 130000 рублей также имеют высокую надежность. "
   ]
  },
  {
   "cell_type": "markdown",
   "id": "e4bbefeb",
   "metadata": {
    "deletable": false,
    "editable": false,
    "id": "99ecbd1f"
   },
   "source": [
    "#### 3.4 Как разные цели кредита влияют на его возврат в срок?"
   ]
  },
  {
   "cell_type": "markdown",
   "id": "968ccb25",
   "metadata": {},
   "source": [
    "Рассмотрим данные по группам категорий"
   ]
  },
  {
   "cell_type": "code",
   "execution_count": 55,
   "id": "1fdf38b6",
   "metadata": {
    "deletable": false,
    "id": "2b687290",
    "scrolled": true
   },
   "outputs": [
    {
     "data": {
      "text/plain": [
       "array(['операции с недвижимостью', 'операции с автомобилем',\n",
       "       'получение образования', 'проведение свадьбы'], dtype=object)"
      ]
     },
     "execution_count": 55,
     "metadata": {},
     "output_type": "execute_result"
    }
   ],
   "source": [
    "data['purpose_category'].unique()"
   ]
  },
  {
   "cell_type": "markdown",
   "id": "0a5fe12d",
   "metadata": {},
   "source": [
    "Подсчёт среднего значения вероятности невозврата кредита от цели кредита:"
   ]
  },
  {
   "cell_type": "code",
   "execution_count": 56,
   "id": "17531bbd",
   "metadata": {},
   "outputs": [
    {
     "data": {
      "text/html": [
       "<div>\n",
       "<style scoped>\n",
       "    .dataframe tbody tr th:only-of-type {\n",
       "        vertical-align: middle;\n",
       "    }\n",
       "\n",
       "    .dataframe tbody tr th {\n",
       "        vertical-align: top;\n",
       "    }\n",
       "\n",
       "    .dataframe thead th {\n",
       "        text-align: right;\n",
       "    }\n",
       "</style>\n",
       "<table border=\"1\" class=\"dataframe\">\n",
       "  <thead>\n",
       "    <tr style=\"text-align: right;\">\n",
       "      <th></th>\n",
       "      <th>count</th>\n",
       "      <th>mean</th>\n",
       "    </tr>\n",
       "    <tr>\n",
       "      <th>purpose_category</th>\n",
       "      <th></th>\n",
       "      <th></th>\n",
       "    </tr>\n",
       "  </thead>\n",
       "  <tbody>\n",
       "    <tr>\n",
       "      <th>операции с автомобилем</th>\n",
       "      <td>4279</td>\n",
       "      <td>0.093480</td>\n",
       "    </tr>\n",
       "    <tr>\n",
       "      <th>операции с недвижимостью</th>\n",
       "      <td>10751</td>\n",
       "      <td>0.072551</td>\n",
       "    </tr>\n",
       "    <tr>\n",
       "      <th>получение образования</th>\n",
       "      <td>3988</td>\n",
       "      <td>0.092528</td>\n",
       "    </tr>\n",
       "    <tr>\n",
       "      <th>проведение свадьбы</th>\n",
       "      <td>2313</td>\n",
       "      <td>0.079118</td>\n",
       "    </tr>\n",
       "  </tbody>\n",
       "</table>\n",
       "</div>"
      ],
      "text/plain": [
       "                          count      mean\n",
       "purpose_category                         \n",
       "операции с автомобилем     4279  0.093480\n",
       "операции с недвижимостью  10751  0.072551\n",
       "получение образования      3988  0.092528\n",
       "проведение свадьбы         2313  0.079118"
      ]
     },
     "execution_count": 56,
     "metadata": {},
     "output_type": "execute_result"
    }
   ],
   "source": [
    "data.groupby('purpose_category')['debt'].agg(['count','mean'])"
   ]
  },
  {
   "cell_type": "code",
   "execution_count": 60,
   "id": "6a7d61fc",
   "metadata": {},
   "outputs": [
    {
     "data": {
      "text/html": [
       "<div>\n",
       "<style scoped>\n",
       "    .dataframe tbody tr th:only-of-type {\n",
       "        vertical-align: middle;\n",
       "    }\n",
       "\n",
       "    .dataframe tbody tr th {\n",
       "        vertical-align: top;\n",
       "    }\n",
       "\n",
       "    .dataframe thead th {\n",
       "        text-align: right;\n",
       "    }\n",
       "</style>\n",
       "<table border=\"1\" class=\"dataframe\">\n",
       "  <thead>\n",
       "    <tr style=\"text-align: right;\">\n",
       "      <th></th>\n",
       "      <th>children</th>\n",
       "      <th>days_employed</th>\n",
       "      <th>dob_years</th>\n",
       "      <th>education</th>\n",
       "      <th>education_id</th>\n",
       "      <th>family_status</th>\n",
       "      <th>family_status_id</th>\n",
       "      <th>gender</th>\n",
       "      <th>income_type</th>\n",
       "      <th>debt</th>\n",
       "      <th>total_income</th>\n",
       "      <th>purpose</th>\n",
       "      <th>total_income_category</th>\n",
       "      <th>purpose_category</th>\n",
       "      <th>children_cat</th>\n",
       "      <th>family_cat</th>\n",
       "      <th>income_cat</th>\n",
       "      <th>income_cut</th>\n",
       "      <th>new_income_category</th>\n",
       "    </tr>\n",
       "  </thead>\n",
       "  <tbody>\n",
       "    <tr>\n",
       "      <th>0</th>\n",
       "      <td>1</td>\n",
       "      <td>8437.673028</td>\n",
       "      <td>42</td>\n",
       "      <td>высшее</td>\n",
       "      <td>0</td>\n",
       "      <td>женат / замужем</td>\n",
       "      <td>0</td>\n",
       "      <td>F</td>\n",
       "      <td>сотрудник</td>\n",
       "      <td>0</td>\n",
       "      <td>253875</td>\n",
       "      <td>покупка жилья</td>\n",
       "      <td>B</td>\n",
       "      <td>операции с недвижимостью</td>\n",
       "      <td>1</td>\n",
       "      <td>Сейчас женат/замужем</td>\n",
       "      <td>До 50 тыс.</td>\n",
       "      <td>(231760.4, 256824.8]</td>\n",
       "      <td>от 175 до 300 тыс.</td>\n",
       "    </tr>\n",
       "    <tr>\n",
       "      <th>1</th>\n",
       "      <td>1</td>\n",
       "      <td>4024.803754</td>\n",
       "      <td>36</td>\n",
       "      <td>среднее</td>\n",
       "      <td>1</td>\n",
       "      <td>женат / замужем</td>\n",
       "      <td>0</td>\n",
       "      <td>F</td>\n",
       "      <td>сотрудник</td>\n",
       "      <td>0</td>\n",
       "      <td>112080</td>\n",
       "      <td>приобретение автомобиля</td>\n",
       "      <td>C</td>\n",
       "      <td>операции с автомобилем</td>\n",
       "      <td>1</td>\n",
       "      <td>Сейчас женат/замужем</td>\n",
       "      <td>От 50 до 200 тыс.</td>\n",
       "      <td>(105617.6, 112556.4]</td>\n",
       "      <td>от 105 до 125 тыс.</td>\n",
       "    </tr>\n",
       "    <tr>\n",
       "      <th>2</th>\n",
       "      <td>0</td>\n",
       "      <td>5623.422610</td>\n",
       "      <td>33</td>\n",
       "      <td>среднее</td>\n",
       "      <td>1</td>\n",
       "      <td>женат / замужем</td>\n",
       "      <td>0</td>\n",
       "      <td>M</td>\n",
       "      <td>сотрудник</td>\n",
       "      <td>0</td>\n",
       "      <td>145885</td>\n",
       "      <td>покупка жилья</td>\n",
       "      <td>C</td>\n",
       "      <td>операции с недвижимостью</td>\n",
       "      <td>0</td>\n",
       "      <td>Сейчас женат/замужем</td>\n",
       "      <td>От 50 до 200 тыс.</td>\n",
       "      <td>(145193.6, 152752.0]</td>\n",
       "      <td>от 130 до 175 тыс.</td>\n",
       "    </tr>\n",
       "    <tr>\n",
       "      <th>3</th>\n",
       "      <td>3</td>\n",
       "      <td>4124.747207</td>\n",
       "      <td>32</td>\n",
       "      <td>среднее</td>\n",
       "      <td>1</td>\n",
       "      <td>женат / замужем</td>\n",
       "      <td>0</td>\n",
       "      <td>M</td>\n",
       "      <td>сотрудник</td>\n",
       "      <td>0</td>\n",
       "      <td>267628</td>\n",
       "      <td>дополнительное образование</td>\n",
       "      <td>B</td>\n",
       "      <td>получение образования</td>\n",
       "      <td>3 и больше</td>\n",
       "      <td>Сейчас женат/замужем</td>\n",
       "      <td>До 50 тыс.</td>\n",
       "      <td>(256824.8, 287071.8]</td>\n",
       "      <td>от 175 до 300 тыс.</td>\n",
       "    </tr>\n",
       "    <tr>\n",
       "      <th>4</th>\n",
       "      <td>0</td>\n",
       "      <td>340266.072047</td>\n",
       "      <td>53</td>\n",
       "      <td>среднее</td>\n",
       "      <td>1</td>\n",
       "      <td>гражданский брак</td>\n",
       "      <td>1</td>\n",
       "      <td>F</td>\n",
       "      <td>пенсионер</td>\n",
       "      <td>0</td>\n",
       "      <td>158616</td>\n",
       "      <td>сыграть свадьбу</td>\n",
       "      <td>C</td>\n",
       "      <td>проведение свадьбы</td>\n",
       "      <td>0</td>\n",
       "      <td>Не был(а) женат/замужем</td>\n",
       "      <td>От 50 до 200 тыс.</td>\n",
       "      <td>(152752.0, 161380.0]</td>\n",
       "      <td>от 130 до 175 тыс.</td>\n",
       "    </tr>\n",
       "  </tbody>\n",
       "</table>\n",
       "</div>"
      ],
      "text/plain": [
       "   children  days_employed  dob_years education  education_id  \\\n",
       "0         1    8437.673028         42    высшее             0   \n",
       "1         1    4024.803754         36   среднее             1   \n",
       "2         0    5623.422610         33   среднее             1   \n",
       "3         3    4124.747207         32   среднее             1   \n",
       "4         0  340266.072047         53   среднее             1   \n",
       "\n",
       "      family_status  family_status_id gender income_type  debt  total_income  \\\n",
       "0   женат / замужем                 0      F   сотрудник     0        253875   \n",
       "1   женат / замужем                 0      F   сотрудник     0        112080   \n",
       "2   женат / замужем                 0      M   сотрудник     0        145885   \n",
       "3   женат / замужем                 0      M   сотрудник     0        267628   \n",
       "4  гражданский брак                 1      F   пенсионер     0        158616   \n",
       "\n",
       "                      purpose total_income_category          purpose_category  \\\n",
       "0               покупка жилья                     B  операции с недвижимостью   \n",
       "1     приобретение автомобиля                     C    операции с автомобилем   \n",
       "2               покупка жилья                     C  операции с недвижимостью   \n",
       "3  дополнительное образование                     B     получение образования   \n",
       "4             сыграть свадьбу                     C        проведение свадьбы   \n",
       "\n",
       "  children_cat               family_cat         income_cat  \\\n",
       "0            1     Сейчас женат/замужем         До 50 тыс.   \n",
       "1            1     Сейчас женат/замужем  От 50 до 200 тыс.   \n",
       "2            0     Сейчас женат/замужем  От 50 до 200 тыс.   \n",
       "3   3 и больше     Сейчас женат/замужем         До 50 тыс.   \n",
       "4            0  Не был(а) женат/замужем  От 50 до 200 тыс.   \n",
       "\n",
       "             income_cut new_income_category  \n",
       "0  (231760.4, 256824.8]  от 175 до 300 тыс.  \n",
       "1  (105617.6, 112556.4]  от 105 до 125 тыс.  \n",
       "2  (145193.6, 152752.0]  от 130 до 175 тыс.  \n",
       "3  (256824.8, 287071.8]  от 175 до 300 тыс.  \n",
       "4  (152752.0, 161380.0]  от 130 до 175 тыс.  "
      ]
     },
     "execution_count": 60,
     "metadata": {},
     "output_type": "execute_result"
    }
   ],
   "source": [
    "data.head()"
   ]
  },
  {
   "cell_type": "code",
   "execution_count": 77,
   "id": "f45b94b0",
   "metadata": {
    "scrolled": true
   },
   "outputs": [
    {
     "data": {
      "text/html": [
       "<div>\n",
       "<style scoped>\n",
       "    .dataframe tbody tr th:only-of-type {\n",
       "        vertical-align: middle;\n",
       "    }\n",
       "\n",
       "    .dataframe tbody tr th {\n",
       "        vertical-align: top;\n",
       "    }\n",
       "\n",
       "    .dataframe thead tr th {\n",
       "        text-align: left;\n",
       "    }\n",
       "\n",
       "    .dataframe thead tr:last-of-type th {\n",
       "        text-align: right;\n",
       "    }\n",
       "</style>\n",
       "<table border=\"1\" class=\"dataframe\">\n",
       "  <thead>\n",
       "    <tr>\n",
       "      <th></th>\n",
       "      <th>count</th>\n",
       "      <th>mean</th>\n",
       "    </tr>\n",
       "    <tr>\n",
       "      <th></th>\n",
       "      <th>debt</th>\n",
       "      <th>debt</th>\n",
       "    </tr>\n",
       "    <tr>\n",
       "      <th>purpose_category</th>\n",
       "      <th></th>\n",
       "      <th></th>\n",
       "    </tr>\n",
       "  </thead>\n",
       "  <tbody>\n",
       "    <tr>\n",
       "      <th>операции с автомобилем</th>\n",
       "      <td>4279</td>\n",
       "      <td>0.093480</td>\n",
       "    </tr>\n",
       "    <tr>\n",
       "      <th>операции с недвижимостью</th>\n",
       "      <td>10751</td>\n",
       "      <td>0.072551</td>\n",
       "    </tr>\n",
       "    <tr>\n",
       "      <th>получение образования</th>\n",
       "      <td>3988</td>\n",
       "      <td>0.092528</td>\n",
       "    </tr>\n",
       "    <tr>\n",
       "      <th>проведение свадьбы</th>\n",
       "      <td>2313</td>\n",
       "      <td>0.079118</td>\n",
       "    </tr>\n",
       "  </tbody>\n",
       "</table>\n",
       "</div>"
      ],
      "text/plain": [
       "                          count      mean\n",
       "                           debt      debt\n",
       "purpose_category                         \n",
       "операции с автомобилем     4279  0.093480\n",
       "операции с недвижимостью  10751  0.072551\n",
       "получение образования      3988  0.092528\n",
       "проведение свадьбы         2313  0.079118"
      ]
     },
     "execution_count": 77,
     "metadata": {},
     "output_type": "execute_result"
    }
   ],
   "source": [
    "pd.pivot_table(data,index='purpose_category',values='debt',aggfunc=['count','mean'])"
   ]
  },
  {
   "cell_type": "code",
   "execution_count": 78,
   "id": "105e4643",
   "metadata": {},
   "outputs": [
    {
     "data": {
      "text/plain": [
       "MultiIndex([('count', 'debt'),\n",
       "            ( 'mean', 'debt')],\n",
       "           )"
      ]
     },
     "execution_count": 78,
     "metadata": {},
     "output_type": "execute_result"
    }
   ],
   "source": [
    "pd.pivot_table(data,index='purpose_category',values='debt',aggfunc=['count','mean']).columns"
   ]
  },
  {
   "cell_type": "code",
   "execution_count": 83,
   "id": "2cbc2f20",
   "metadata": {},
   "outputs": [
    {
     "data": {
      "text/html": [
       "<div>\n",
       "<style scoped>\n",
       "    .dataframe tbody tr th:only-of-type {\n",
       "        vertical-align: middle;\n",
       "    }\n",
       "\n",
       "    .dataframe tbody tr th {\n",
       "        vertical-align: top;\n",
       "    }\n",
       "\n",
       "    .dataframe thead tr th {\n",
       "        text-align: left;\n",
       "    }\n",
       "\n",
       "    .dataframe thead tr:last-of-type th {\n",
       "        text-align: right;\n",
       "    }\n",
       "</style>\n",
       "<table border=\"1\" class=\"dataframe\">\n",
       "  <thead>\n",
       "    <tr>\n",
       "      <th></th>\n",
       "      <th>count</th>\n",
       "      <th>mean</th>\n",
       "    </tr>\n",
       "    <tr>\n",
       "      <th></th>\n",
       "      <th>debt</th>\n",
       "      <th>debt</th>\n",
       "    </tr>\n",
       "    <tr>\n",
       "      <th>purpose_category</th>\n",
       "      <th></th>\n",
       "      <th></th>\n",
       "    </tr>\n",
       "  </thead>\n",
       "  <tbody>\n",
       "    <tr>\n",
       "      <th>операции с недвижимостью</th>\n",
       "      <td>10751</td>\n",
       "      <td>0.072551</td>\n",
       "    </tr>\n",
       "    <tr>\n",
       "      <th>проведение свадьбы</th>\n",
       "      <td>2313</td>\n",
       "      <td>0.079118</td>\n",
       "    </tr>\n",
       "    <tr>\n",
       "      <th>получение образования</th>\n",
       "      <td>3988</td>\n",
       "      <td>0.092528</td>\n",
       "    </tr>\n",
       "    <tr>\n",
       "      <th>операции с автомобилем</th>\n",
       "      <td>4279</td>\n",
       "      <td>0.093480</td>\n",
       "    </tr>\n",
       "  </tbody>\n",
       "</table>\n",
       "</div>"
      ],
      "text/plain": [
       "                          count      mean\n",
       "                           debt      debt\n",
       "purpose_category                         \n",
       "операции с недвижимостью  10751  0.072551\n",
       "проведение свадьбы         2313  0.079118\n",
       "получение образования      3988  0.092528\n",
       "операции с автомобилем     4279  0.093480"
      ]
     },
     "execution_count": 83,
     "metadata": {},
     "output_type": "execute_result"
    }
   ],
   "source": [
    "pd.pivot_table(data,index='purpose_category',values='debt',aggfunc=['count','mean']).sort_values(([( 'mean', 'debt')]))"
   ]
  },
  {
   "cell_type": "code",
   "execution_count": null,
   "id": "a915c3f7",
   "metadata": {},
   "outputs": [],
   "source": []
  },
  {
   "cell_type": "code",
   "execution_count": 57,
   "id": "43c732cb",
   "metadata": {},
   "outputs": [
    {
     "data": {
      "text/plain": [
       "<AxesSubplot:xlabel='Цели кредита (категории)'>"
      ]
     },
     "execution_count": 57,
     "metadata": {},
     "output_type": "execute_result"
    },
    {
     "data": {
      "image/png": "[encoded data removed]",
      "text/plain": [
       "<Figure size 432x288 with 1 Axes>"
      ]
     },
     "metadata": {
      "needs_background": "light"
     },
     "output_type": "display_data"
    }
   ],
   "source": [
    "data.groupby('purpose_category')['debt'].mean().plot(kind='bar',xlabel='Цели кредита (категории)', rot=90)"
   ]
  },
  {
   "cell_type": "markdown",
   "id": "534cf448",
   "metadata": {},
   "source": [
    "Нормализуем:"
   ]
  },
  {
   "cell_type": "code",
   "execution_count": 58,
   "id": "d94127cd",
   "metadata": {},
   "outputs": [
    {
     "data": {
      "text/plain": [
       "purpose_category\n",
       "операции с автомобилем      128.846304\n",
       "операции с недвижимостью    100.000000\n",
       "получение образования       127.533852\n",
       "проведение свадьбы          109.051016\n",
       "Name: norm, dtype: float64"
      ]
     },
     "execution_count": 58,
     "metadata": {},
     "output_type": "execute_result"
    }
   ],
   "source": [
    "data_normal = data.groupby('purpose_category')['debt'].agg(['count','mean'])\n",
    "data_normal['norm'] = data_normal['mean']/data_normal['mean'].min()*100\n",
    "data_normal['norm']"
   ]
  },
  {
   "cell_type": "code",
   "execution_count": 59,
   "id": "e10ae560",
   "metadata": {},
   "outputs": [
    {
     "data": {
      "text/plain": [
       "<AxesSubplot:xlabel='Цели кредита (категории)'>"
      ]
     },
     "execution_count": 59,
     "metadata": {},
     "output_type": "execute_result"
    },
    {
     "data": {
      "image/png": "[encoded data removed]",
      "text/plain": [
       "<Figure size 432x288 with 1 Axes>"
      ]
     },
     "metadata": {
      "needs_background": "light"
     },
     "output_type": "display_data"
    }
   ],
   "source": [
    "data_normal['norm'].plot(kind='bar',xlabel='Цели кредита (категории)', rot=45)"
   ]
  },
  {
   "cell_type": "markdown",
   "id": "35f36862",
   "metadata": {},
   "source": [
    "В связи с хаотическими названиями целей кредита, входящих в категории, более глубокий анализ данных внутри категорий бессмысленен."
   ]
  },
  {
   "cell_type": "markdown",
   "id": "2722b9ee",
   "metadata": {
    "deletable": false,
    "id": "b4bb2ce6"
   },
   "source": [
    "**Вывод:** Заёмщики, берущие кредит на операции с недвижимостью - наиболее надежны. Чуть менее надежны  - берущие кредит на свадьбу.\n",
    "Вероятность нарушения срока возврата кредита наиболее высока при операциях с автомобилями и получением образования (риск больше чем на 30%). "
   ]
  },
  {
   "cell_type": "markdown",
   "id": "813ad90d",
   "metadata": {
    "deletable": false,
    "editable": false,
    "id": "09c3ac4c"
   },
   "source": [
    "#### 3.5 Приведите возможные причины появления пропусков в исходных данных."
   ]
  },
  {
   "cell_type": "markdown",
   "id": "c76a387a",
   "metadata": {
    "deletable": false,
    "id": "9da2ceda"
   },
   "source": [
    "*Ответ:* Человеческий фактор или технический сбой. В первом случае это опечатки, ошибки, невведенные данные, неточные данные, дублирование. Во втором: разрушение или несохранение данных и тоже - дублирование."
   ]
  },
  {
   "cell_type": "markdown",
   "id": "8e98ca88",
   "metadata": {
    "deletable": false,
    "editable": false,
    "id": "7b0487d6"
   },
   "source": [
    "#### 3.6 Объясните, почему заполнить пропуски медианным значением — лучшее решение для количественных переменных."
   ]
  },
  {
   "cell_type": "markdown",
   "id": "e6729104",
   "metadata": {
    "deletable": false,
    "id": "7ecf2b8e"
   },
   "source": [
    "*Ответ:* Медиана более устойчива в случае, если в выборке присутствуют аномальные данные."
   ]
  },
  {
   "cell_type": "markdown",
   "id": "b3ed0551",
   "metadata": {
    "deletable": false,
    "editable": false,
    "id": "6db5255a"
   },
   "source": [
    "### Шаг 4: общий вывод."
   ]
  },
  {
   "cell_type": "markdown",
   "id": "94322423",
   "metadata": {
    "deletable": false,
    "id": "bad65432"
   },
   "source": [
    "**Данные, влияющие на надежность заёмщика:**"
   ]
  },
  {
   "cell_type": "markdown",
   "id": "55b90fdb",
   "metadata": {},
   "source": [
    "**1. Наличие детей:** Наиболее надежные заёмщики не имеют детей, следующие по надежности многодетные родители (имеющие 3 и более детей). Наиболее \"опасны\" заёмщики с 1 или 2 детьми"
   ]
  },
  {
   "cell_type": "markdown",
   "id": "fecc1f68",
   "metadata": {},
   "source": [
    "**2. Семейное положение:**\n",
    "Наиболее надежны заёмщики - вдовцы/вдовы,а также - находящиеся в разводе. Чуть менее надежны заёмщики в браке. Те кто не разу не был в официальном браке, не возвращают кредит значительно чаще."
   ]
  },
  {
   "cell_type": "markdown",
   "id": "6e4b1bb3",
   "metadata": {},
   "source": [
    "**3. Уровень доходов:** Наиболее надежны заёмщики, имеющие доход до 50 и свыше 400000 рублей,а также в \"узких\" диапазонах доходов:от 95000 до 105000 и от 125000 до 130000 рублей. Наиболее ненадежные заёмщики имеют доход от 75000 до 200000 рублей и от 300000 до 400000 рублей (за исключением вышеуказанных \"узких\" значений)\n",
    "\n"
   ]
  },
  {
   "cell_type": "markdown",
   "id": "1cc446f9",
   "metadata": {},
   "source": [
    "**4. Цели кредита:** Наиболее надежные заёмщики, берущие кредит на операции с недвижимостью. На втором месте - на проведение свадьбы. Вероятность нарушения срока возврата кредита наиболее высока у заёмщиков, берущих кредиты на операции с автомобилями и получением образования. "
   ]
  },
  {
   "cell_type": "code",
   "execution_count": null,
   "id": "eb700038",
   "metadata": {},
   "outputs": [],
   "source": []
  }
 ],
 "metadata": {
  "ExecuteTimeLog": [
   {
    "duration": 418,
    "start_time": "2022-10-22T20:34:28.333Z"
   },
   {
    "duration": 21,
    "start_time": "2022-10-22T20:34:28.753Z"
   },
   {
    "duration": 13,
    "start_time": "2022-10-22T20:34:28.775Z"
   },
   {
    "duration": 17,
    "start_time": "2022-10-22T20:34:28.789Z"
   },
   {
    "duration": 28,
    "start_time": "2022-10-22T20:34:28.807Z"
   },
   {
    "duration": 3,
    "start_time": "2022-10-22T20:34:28.836Z"
   },
   {
    "duration": 9,
    "start_time": "2022-10-22T20:34:28.840Z"
   },
   {
    "duration": 3,
    "start_time": "2022-10-22T20:34:28.851Z"
   },
   {
    "duration": 10,
    "start_time": "2022-10-22T20:34:28.856Z"
   },
   {
    "duration": 4,
    "start_time": "2022-10-22T20:34:28.868Z"
   },
   {
    "duration": 55,
    "start_time": "2022-10-22T20:34:28.873Z"
   },
   {
    "duration": 8,
    "start_time": "2022-10-22T20:34:28.930Z"
   },
   {
    "duration": 6,
    "start_time": "2022-10-22T20:34:28.940Z"
   },
   {
    "duration": 12,
    "start_time": "2022-10-22T20:34:28.947Z"
   },
   {
    "duration": 20,
    "start_time": "2022-10-22T20:34:28.961Z"
   },
   {
    "duration": 32,
    "start_time": "2022-10-22T20:34:28.982Z"
   },
   {
    "duration": 4,
    "start_time": "2022-10-22T20:34:29.015Z"
   },
   {
    "duration": 14,
    "start_time": "2022-10-22T20:34:29.021Z"
   },
   {
    "duration": 7,
    "start_time": "2022-10-22T20:34:29.037Z"
   },
   {
    "duration": 4,
    "start_time": "2022-10-22T20:34:29.045Z"
   },
   {
    "duration": 11,
    "start_time": "2022-10-22T20:34:29.050Z"
   },
   {
    "duration": 2,
    "start_time": "2022-10-22T20:34:29.062Z"
   },
   {
    "duration": 5,
    "start_time": "2022-10-22T20:34:29.065Z"
   },
   {
    "duration": 6,
    "start_time": "2022-10-22T20:34:29.071Z"
   },
   {
    "duration": 34,
    "start_time": "2022-10-22T20:34:29.078Z"
   },
   {
    "duration": 56,
    "start_time": "2022-10-23T12:43:42.587Z"
   },
   {
    "duration": 715,
    "start_time": "2022-10-23T12:43:58.245Z"
   },
   {
    "duration": 31,
    "start_time": "2022-10-23T12:43:58.963Z"
   },
   {
    "duration": 16,
    "start_time": "2022-10-23T12:43:58.996Z"
   },
   {
    "duration": 49,
    "start_time": "2022-10-23T12:43:59.015Z"
   },
   {
    "duration": 33,
    "start_time": "2022-10-23T12:43:59.066Z"
   },
   {
    "duration": 4,
    "start_time": "2022-10-23T12:43:59.101Z"
   },
   {
    "duration": 42,
    "start_time": "2022-10-23T12:43:59.106Z"
   },
   {
    "duration": 16,
    "start_time": "2022-10-23T12:43:59.150Z"
   },
   {
    "duration": 21,
    "start_time": "2022-10-23T12:43:59.168Z"
   },
   {
    "duration": 5,
    "start_time": "2022-10-23T12:43:59.193Z"
   },
   {
    "duration": 57,
    "start_time": "2022-10-23T12:43:59.200Z"
   },
   {
    "duration": 12,
    "start_time": "2022-10-23T12:43:59.259Z"
   },
   {
    "duration": 29,
    "start_time": "2022-10-23T12:43:59.273Z"
   },
   {
    "duration": 20,
    "start_time": "2022-10-23T12:43:59.304Z"
   },
   {
    "duration": 37,
    "start_time": "2022-10-23T12:43:59.327Z"
   },
   {
    "duration": 18,
    "start_time": "2022-10-23T12:43:59.366Z"
   },
   {
    "duration": 10,
    "start_time": "2022-10-23T12:43:59.385Z"
   },
   {
    "duration": 19,
    "start_time": "2022-10-23T12:43:59.396Z"
   },
   {
    "duration": 31,
    "start_time": "2022-10-23T12:43:59.417Z"
   },
   {
    "duration": 16,
    "start_time": "2022-10-23T12:43:59.449Z"
   },
   {
    "duration": 46,
    "start_time": "2022-10-23T12:43:59.467Z"
   },
   {
    "duration": 36,
    "start_time": "2022-10-23T12:43:59.515Z"
   },
   {
    "duration": 17,
    "start_time": "2022-10-23T12:43:59.553Z"
   },
   {
    "duration": 26,
    "start_time": "2022-10-23T12:43:59.573Z"
   },
   {
    "duration": 9,
    "start_time": "2022-10-23T12:43:59.601Z"
   },
   {
    "duration": 26,
    "start_time": "2022-10-23T12:47:05.636Z"
   },
   {
    "duration": 9,
    "start_time": "2022-10-23T12:47:17.437Z"
   },
   {
    "duration": 502,
    "start_time": "2022-10-23T12:51:36.439Z"
   },
   {
    "duration": 98,
    "start_time": "2022-10-23T13:01:45.949Z"
   },
   {
    "duration": 3,
    "start_time": "2022-10-23T14:49:05.946Z"
   },
   {
    "duration": 3,
    "start_time": "2022-10-23T14:50:12.891Z"
   },
   {
    "duration": 17,
    "start_time": "2022-10-23T14:50:50.056Z"
   },
   {
    "duration": 2,
    "start_time": "2022-10-23T14:50:52.638Z"
   },
   {
    "duration": 4,
    "start_time": "2022-10-23T14:51:08.369Z"
   },
   {
    "duration": 8,
    "start_time": "2022-10-23T14:51:10.841Z"
   },
   {
    "duration": 2,
    "start_time": "2022-10-23T14:52:46.946Z"
   },
   {
    "duration": 4,
    "start_time": "2022-10-23T14:52:49.874Z"
   },
   {
    "duration": 34,
    "start_time": "2022-10-23T14:54:27.316Z"
   },
   {
    "duration": 11,
    "start_time": "2022-10-23T14:55:41.974Z"
   },
   {
    "duration": 20,
    "start_time": "2022-10-23T14:55:57.816Z"
   },
   {
    "duration": 10,
    "start_time": "2022-10-23T14:56:07.746Z"
   },
   {
    "duration": 104,
    "start_time": "2022-10-23T14:56:53.140Z"
   },
   {
    "duration": 99,
    "start_time": "2022-10-23T14:57:00.211Z"
   },
   {
    "duration": 164,
    "start_time": "2022-10-23T14:57:41.273Z"
   },
   {
    "duration": 147,
    "start_time": "2022-10-23T14:58:17.421Z"
   },
   {
    "duration": 156,
    "start_time": "2022-10-23T14:59:33.876Z"
   },
   {
    "duration": 101,
    "start_time": "2022-10-23T15:03:53.348Z"
   },
   {
    "duration": 105,
    "start_time": "2022-10-23T15:03:58.985Z"
   },
   {
    "duration": 93,
    "start_time": "2022-10-23T15:04:08.563Z"
   },
   {
    "duration": 109,
    "start_time": "2022-10-23T15:04:16.466Z"
   },
   {
    "duration": 91,
    "start_time": "2022-10-23T15:04:21.510Z"
   },
   {
    "duration": 97,
    "start_time": "2022-10-23T15:04:29.210Z"
   },
   {
    "duration": 119,
    "start_time": "2022-10-23T15:04:38.668Z"
   },
   {
    "duration": 93,
    "start_time": "2022-10-23T15:04:44.813Z"
   },
   {
    "duration": 6,
    "start_time": "2022-10-23T15:06:44.452Z"
   },
   {
    "duration": 9,
    "start_time": "2022-10-23T15:06:56.931Z"
   },
   {
    "duration": 10,
    "start_time": "2022-10-23T15:07:23.548Z"
   },
   {
    "duration": 11,
    "start_time": "2022-10-23T15:07:41.844Z"
   },
   {
    "duration": 1176,
    "start_time": "2022-10-23T15:07:56.665Z"
   },
   {
    "duration": 9,
    "start_time": "2022-10-23T15:08:20.796Z"
   },
   {
    "duration": 9,
    "start_time": "2022-10-23T15:08:28.418Z"
   },
   {
    "duration": 9,
    "start_time": "2022-10-23T15:08:33.562Z"
   },
   {
    "duration": 12,
    "start_time": "2022-10-23T15:08:50.480Z"
   },
   {
    "duration": 8,
    "start_time": "2022-10-23T15:09:12.377Z"
   },
   {
    "duration": 116,
    "start_time": "2022-10-23T15:10:21.051Z"
   },
   {
    "duration": 147,
    "start_time": "2022-10-23T15:10:57.407Z"
   },
   {
    "duration": 9,
    "start_time": "2022-10-23T15:11:31.649Z"
   },
   {
    "duration": 9,
    "start_time": "2022-10-23T15:11:40.217Z"
   },
   {
    "duration": 8,
    "start_time": "2022-10-23T15:12:41.275Z"
   },
   {
    "duration": 11,
    "start_time": "2022-10-23T15:12:50.006Z"
   },
   {
    "duration": 106,
    "start_time": "2022-10-23T15:14:20.146Z"
   },
   {
    "duration": 71,
    "start_time": "2022-10-23T15:17:11.261Z"
   },
   {
    "duration": 104,
    "start_time": "2022-10-23T15:18:08.630Z"
   },
   {
    "duration": 105,
    "start_time": "2022-10-23T15:20:30.920Z"
   },
   {
    "duration": 4,
    "start_time": "2022-10-23T15:30:05.336Z"
   },
   {
    "duration": 67,
    "start_time": "2022-10-23T15:30:09.902Z"
   },
   {
    "duration": 6,
    "start_time": "2022-10-23T15:30:26.440Z"
   },
   {
    "duration": 9,
    "start_time": "2022-10-23T15:32:09.279Z"
   },
   {
    "duration": 9,
    "start_time": "2022-10-23T15:33:19.783Z"
   },
   {
    "duration": 125,
    "start_time": "2022-10-23T15:35:24.982Z"
   },
   {
    "duration": 111,
    "start_time": "2022-10-23T15:36:09.033Z"
   },
   {
    "duration": 124,
    "start_time": "2022-10-23T15:36:15.460Z"
   },
   {
    "duration": 12,
    "start_time": "2022-10-23T15:40:05.160Z"
   },
   {
    "duration": 14,
    "start_time": "2022-10-23T15:40:29.212Z"
   },
   {
    "duration": 9,
    "start_time": "2022-10-23T15:40:41.997Z"
   },
   {
    "duration": 118,
    "start_time": "2022-10-23T15:41:22.180Z"
   },
   {
    "duration": 11,
    "start_time": "2022-10-23T15:41:39.556Z"
   },
   {
    "duration": 108,
    "start_time": "2022-10-23T15:42:59.620Z"
   },
   {
    "duration": 12,
    "start_time": "2022-10-23T15:43:43.754Z"
   },
   {
    "duration": 114,
    "start_time": "2022-10-23T15:43:49.585Z"
   },
   {
    "duration": 12,
    "start_time": "2022-10-23T15:43:59.085Z"
   },
   {
    "duration": 120,
    "start_time": "2022-10-23T15:44:03.380Z"
   },
   {
    "duration": 8,
    "start_time": "2022-10-23T15:51:27.776Z"
   },
   {
    "duration": 7,
    "start_time": "2022-10-23T15:51:36.863Z"
   },
   {
    "duration": 3,
    "start_time": "2022-10-23T15:51:43.653Z"
   },
   {
    "duration": 4,
    "start_time": "2022-10-23T15:51:46.048Z"
   },
   {
    "duration": 10,
    "start_time": "2022-10-23T15:52:48.446Z"
   },
   {
    "duration": 25,
    "start_time": "2022-10-23T15:52:54.719Z"
   },
   {
    "duration": 26,
    "start_time": "2022-10-23T15:53:16.333Z"
   },
   {
    "duration": 7,
    "start_time": "2022-10-23T15:53:37.273Z"
   },
   {
    "duration": 17,
    "start_time": "2022-10-23T15:54:25.966Z"
   },
   {
    "duration": 13,
    "start_time": "2022-10-23T15:55:15.773Z"
   },
   {
    "duration": 11,
    "start_time": "2022-10-23T15:56:46.688Z"
   },
   {
    "duration": 106,
    "start_time": "2022-10-23T15:57:16.798Z"
   },
   {
    "duration": 113,
    "start_time": "2022-10-23T15:57:41.310Z"
   },
   {
    "duration": 20,
    "start_time": "2022-10-23T16:10:47.564Z"
   },
   {
    "duration": 6,
    "start_time": "2022-10-23T16:11:08.147Z"
   },
   {
    "duration": 6,
    "start_time": "2022-10-23T16:11:21.945Z"
   },
   {
    "duration": 6,
    "start_time": "2022-10-23T16:11:30.163Z"
   },
   {
    "duration": 10,
    "start_time": "2022-10-23T16:13:13.573Z"
   },
   {
    "duration": 92,
    "start_time": "2022-10-23T16:17:34.703Z"
   },
   {
    "duration": 3,
    "start_time": "2022-10-23T16:20:59.605Z"
   },
   {
    "duration": 4,
    "start_time": "2022-10-23T16:21:01.751Z"
   },
   {
    "duration": 5,
    "start_time": "2022-10-23T16:21:07.647Z"
   },
   {
    "duration": 3,
    "start_time": "2022-10-23T16:21:12.038Z"
   },
   {
    "duration": 13,
    "start_time": "2022-10-23T16:22:35.485Z"
   },
   {
    "duration": 13,
    "start_time": "2022-10-23T16:22:57.310Z"
   },
   {
    "duration": 13,
    "start_time": "2022-10-23T16:24:30.141Z"
   },
   {
    "duration": 164,
    "start_time": "2022-10-23T16:25:10.259Z"
   },
   {
    "duration": 106,
    "start_time": "2022-10-23T16:25:16.963Z"
   },
   {
    "duration": 4,
    "start_time": "2022-10-23T16:27:03.901Z"
   },
   {
    "duration": 10,
    "start_time": "2022-10-23T16:27:08.032Z"
   },
   {
    "duration": 68,
    "start_time": "2022-10-23T16:27:18.149Z"
   },
   {
    "duration": 13,
    "start_time": "2022-10-23T16:27:18.219Z"
   },
   {
    "duration": 14,
    "start_time": "2022-10-23T16:27:18.234Z"
   },
   {
    "duration": 7,
    "start_time": "2022-10-23T16:27:18.250Z"
   },
   {
    "duration": 35,
    "start_time": "2022-10-23T16:27:18.259Z"
   },
   {
    "duration": 3,
    "start_time": "2022-10-23T16:27:18.295Z"
   },
   {
    "duration": 27,
    "start_time": "2022-10-23T16:27:18.299Z"
   },
   {
    "duration": 4,
    "start_time": "2022-10-23T16:27:18.327Z"
   },
   {
    "duration": 8,
    "start_time": "2022-10-23T16:27:18.333Z"
   },
   {
    "duration": 4,
    "start_time": "2022-10-23T16:27:18.342Z"
   },
   {
    "duration": 35,
    "start_time": "2022-10-23T16:27:18.348Z"
   },
   {
    "duration": 8,
    "start_time": "2022-10-23T16:27:18.384Z"
   },
   {
    "duration": 4,
    "start_time": "2022-10-23T16:27:18.393Z"
   },
   {
    "duration": 9,
    "start_time": "2022-10-23T16:27:18.422Z"
   },
   {
    "duration": 23,
    "start_time": "2022-10-23T16:27:18.433Z"
   },
   {
    "duration": 15,
    "start_time": "2022-10-23T16:27:18.457Z"
   },
   {
    "duration": 3,
    "start_time": "2022-10-23T16:27:18.474Z"
   },
   {
    "duration": 25,
    "start_time": "2022-10-23T16:27:18.478Z"
   },
   {
    "duration": 10,
    "start_time": "2022-10-23T16:27:18.504Z"
   },
   {
    "duration": 15,
    "start_time": "2022-10-23T16:27:18.515Z"
   },
   {
    "duration": 15,
    "start_time": "2022-10-23T16:27:18.532Z"
   },
   {
    "duration": 4,
    "start_time": "2022-10-23T16:27:18.548Z"
   },
   {
    "duration": 12,
    "start_time": "2022-10-23T16:27:18.553Z"
   },
   {
    "duration": 100,
    "start_time": "2022-10-23T16:27:18.566Z"
   },
   {
    "duration": 3,
    "start_time": "2022-10-23T16:27:18.667Z"
   },
   {
    "duration": 19,
    "start_time": "2022-10-23T16:27:18.671Z"
   },
   {
    "duration": 9,
    "start_time": "2022-10-23T16:27:18.691Z"
   },
   {
    "duration": 104,
    "start_time": "2022-10-23T16:27:18.702Z"
   },
   {
    "duration": 15,
    "start_time": "2022-10-23T16:27:18.808Z"
   },
   {
    "duration": 110,
    "start_time": "2022-10-23T16:27:18.825Z"
   },
   {
    "duration": 5,
    "start_time": "2022-10-23T16:27:18.936Z"
   },
   {
    "duration": 14,
    "start_time": "2022-10-23T16:27:18.942Z"
   },
   {
    "duration": 129,
    "start_time": "2022-10-23T16:27:18.958Z"
   },
   {
    "duration": 9,
    "start_time": "2022-10-23T16:27:19.089Z"
   },
   {
    "duration": 133,
    "start_time": "2022-10-23T16:27:19.099Z"
   },
   {
    "duration": 3,
    "start_time": "2022-10-23T16:27:19.234Z"
   },
   {
    "duration": 20,
    "start_time": "2022-10-23T16:27:19.238Z"
   },
   {
    "duration": 9,
    "start_time": "2022-10-23T16:27:19.259Z"
   },
   {
    "duration": 124,
    "start_time": "2022-10-23T16:27:19.269Z"
   },
   {
    "duration": 10,
    "start_time": "2022-10-23T16:27:19.395Z"
   },
   {
    "duration": 3,
    "start_time": "2022-10-23T16:27:19.421Z"
   },
   {
    "duration": 24,
    "start_time": "2022-10-23T16:27:19.425Z"
   },
   {
    "duration": 9,
    "start_time": "2022-10-23T16:27:19.451Z"
   },
   {
    "duration": 114,
    "start_time": "2022-10-23T16:27:19.462Z"
   },
   {
    "duration": 67,
    "start_time": "2022-10-23T16:27:19.578Z"
   },
   {
    "duration": 0,
    "start_time": "2022-10-23T16:27:19.647Z"
   },
   {
    "duration": 32,
    "start_time": "2022-10-23T16:28:37.792Z"
   },
   {
    "duration": 11,
    "start_time": "2022-10-23T16:29:25.693Z"
   },
   {
    "duration": 11,
    "start_time": "2022-10-23T16:30:21.839Z"
   },
   {
    "duration": 96,
    "start_time": "2022-10-23T16:33:16.805Z"
   },
   {
    "duration": 19,
    "start_time": "2022-10-23T16:33:37.517Z"
   },
   {
    "duration": 16,
    "start_time": "2022-10-23T16:34:24.807Z"
   },
   {
    "duration": 15,
    "start_time": "2022-10-23T16:36:31.773Z"
   },
   {
    "duration": 62,
    "start_time": "2022-10-23T16:36:48.500Z"
   },
   {
    "duration": 13,
    "start_time": "2022-10-23T16:36:48.564Z"
   },
   {
    "duration": 17,
    "start_time": "2022-10-23T16:36:48.578Z"
   },
   {
    "duration": 7,
    "start_time": "2022-10-23T16:36:48.597Z"
   },
   {
    "duration": 41,
    "start_time": "2022-10-23T16:36:48.606Z"
   },
   {
    "duration": 3,
    "start_time": "2022-10-23T16:36:48.649Z"
   },
   {
    "duration": 9,
    "start_time": "2022-10-23T16:36:48.653Z"
   },
   {
    "duration": 4,
    "start_time": "2022-10-23T16:36:48.663Z"
   },
   {
    "duration": 6,
    "start_time": "2022-10-23T16:36:48.668Z"
   },
   {
    "duration": 4,
    "start_time": "2022-10-23T16:36:48.676Z"
   },
   {
    "duration": 56,
    "start_time": "2022-10-23T16:36:48.681Z"
   },
   {
    "duration": 7,
    "start_time": "2022-10-23T16:36:48.739Z"
   },
   {
    "duration": 5,
    "start_time": "2022-10-23T16:36:48.747Z"
   },
   {
    "duration": 16,
    "start_time": "2022-10-23T16:36:48.754Z"
   },
   {
    "duration": 21,
    "start_time": "2022-10-23T16:36:48.772Z"
   },
   {
    "duration": 14,
    "start_time": "2022-10-23T16:36:48.795Z"
   },
   {
    "duration": 4,
    "start_time": "2022-10-23T16:36:48.821Z"
   },
   {
    "duration": 13,
    "start_time": "2022-10-23T16:36:48.826Z"
   },
   {
    "duration": 5,
    "start_time": "2022-10-23T16:36:48.840Z"
   },
   {
    "duration": 12,
    "start_time": "2022-10-23T16:36:48.847Z"
   },
   {
    "duration": 15,
    "start_time": "2022-10-23T16:36:48.861Z"
   },
   {
    "duration": 6,
    "start_time": "2022-10-23T16:36:48.877Z"
   },
   {
    "duration": 11,
    "start_time": "2022-10-23T16:36:48.884Z"
   },
   {
    "duration": 182,
    "start_time": "2022-10-23T16:36:48.897Z"
   },
   {
    "duration": 2,
    "start_time": "2022-10-23T16:36:49.081Z"
   },
   {
    "duration": 15,
    "start_time": "2022-10-23T16:36:49.084Z"
   },
   {
    "duration": 10,
    "start_time": "2022-10-23T16:36:49.100Z"
   },
   {
    "duration": 100,
    "start_time": "2022-10-23T16:36:49.124Z"
   },
   {
    "duration": 9,
    "start_time": "2022-10-23T16:36:49.225Z"
   },
   {
    "duration": 105,
    "start_time": "2022-10-23T16:36:49.235Z"
   },
   {
    "duration": 5,
    "start_time": "2022-10-23T16:36:49.342Z"
   },
   {
    "duration": 28,
    "start_time": "2022-10-23T16:36:49.348Z"
   },
   {
    "duration": 125,
    "start_time": "2022-10-23T16:36:49.378Z"
   },
   {
    "duration": 17,
    "start_time": "2022-10-23T16:36:49.505Z"
   },
   {
    "duration": 127,
    "start_time": "2022-10-23T16:36:49.523Z"
   },
   {
    "duration": 3,
    "start_time": "2022-10-23T16:36:49.652Z"
   },
   {
    "duration": 18,
    "start_time": "2022-10-23T16:36:49.657Z"
   },
   {
    "duration": 8,
    "start_time": "2022-10-23T16:36:49.676Z"
   },
   {
    "duration": 119,
    "start_time": "2022-10-23T16:36:49.685Z"
   },
   {
    "duration": 17,
    "start_time": "2022-10-23T16:36:49.805Z"
   },
   {
    "duration": 2,
    "start_time": "2022-10-23T16:36:49.823Z"
   },
   {
    "duration": 15,
    "start_time": "2022-10-23T16:36:49.827Z"
   },
   {
    "duration": 7,
    "start_time": "2022-10-23T16:36:49.843Z"
   },
   {
    "duration": 112,
    "start_time": "2022-10-23T16:36:49.852Z"
   },
   {
    "duration": 14,
    "start_time": "2022-10-23T16:36:49.966Z"
   },
   {
    "duration": 4,
    "start_time": "2022-10-23T16:36:49.981Z"
   },
   {
    "duration": 5,
    "start_time": "2022-10-23T16:37:20.895Z"
   },
   {
    "duration": 17,
    "start_time": "2022-10-23T16:37:32.906Z"
   },
   {
    "duration": 19,
    "start_time": "2022-10-23T16:38:01.085Z"
   },
   {
    "duration": 5,
    "start_time": "2022-10-23T16:38:53.642Z"
   },
   {
    "duration": 9,
    "start_time": "2022-10-23T16:39:56.547Z"
   },
   {
    "duration": 9,
    "start_time": "2022-10-23T16:39:59.207Z"
   },
   {
    "duration": 12,
    "start_time": "2022-10-23T16:40:11.493Z"
   },
   {
    "duration": 11,
    "start_time": "2022-10-23T16:40:19.365Z"
   },
   {
    "duration": 77,
    "start_time": "2022-10-23T16:40:50.519Z"
   },
   {
    "duration": 14,
    "start_time": "2022-10-23T16:40:50.598Z"
   },
   {
    "duration": 16,
    "start_time": "2022-10-23T16:40:50.613Z"
   },
   {
    "duration": 8,
    "start_time": "2022-10-23T16:40:50.631Z"
   },
   {
    "duration": 28,
    "start_time": "2022-10-23T16:40:50.640Z"
   },
   {
    "duration": 3,
    "start_time": "2022-10-23T16:40:50.670Z"
   },
   {
    "duration": 9,
    "start_time": "2022-10-23T16:40:50.675Z"
   },
   {
    "duration": 3,
    "start_time": "2022-10-23T16:40:50.686Z"
   },
   {
    "duration": 6,
    "start_time": "2022-10-23T16:40:50.722Z"
   },
   {
    "duration": 9,
    "start_time": "2022-10-23T16:40:50.730Z"
   },
   {
    "duration": 40,
    "start_time": "2022-10-23T16:40:50.740Z"
   },
   {
    "duration": 8,
    "start_time": "2022-10-23T16:40:50.782Z"
   },
   {
    "duration": 13,
    "start_time": "2022-10-23T16:40:50.791Z"
   },
   {
    "duration": 18,
    "start_time": "2022-10-23T16:40:50.806Z"
   },
   {
    "duration": 17,
    "start_time": "2022-10-23T16:40:50.825Z"
   },
   {
    "duration": 15,
    "start_time": "2022-10-23T16:40:50.843Z"
   },
   {
    "duration": 5,
    "start_time": "2022-10-23T16:40:50.860Z"
   },
   {
    "duration": 11,
    "start_time": "2022-10-23T16:40:50.866Z"
   },
   {
    "duration": 7,
    "start_time": "2022-10-23T16:40:50.879Z"
   },
   {
    "duration": 4,
    "start_time": "2022-10-23T16:40:50.888Z"
   },
   {
    "duration": 9,
    "start_time": "2022-10-23T16:40:50.922Z"
   },
   {
    "duration": 4,
    "start_time": "2022-10-23T16:40:50.932Z"
   },
   {
    "duration": 11,
    "start_time": "2022-10-23T16:40:50.938Z"
   },
   {
    "duration": 129,
    "start_time": "2022-10-23T16:40:50.950Z"
   },
   {
    "duration": 5,
    "start_time": "2022-10-23T16:40:51.080Z"
   },
   {
    "duration": 15,
    "start_time": "2022-10-23T16:40:51.087Z"
   },
   {
    "duration": 25,
    "start_time": "2022-10-23T16:40:51.104Z"
   },
   {
    "duration": 111,
    "start_time": "2022-10-23T16:40:51.132Z"
   },
   {
    "duration": 11,
    "start_time": "2022-10-23T16:40:51.245Z"
   },
   {
    "duration": 148,
    "start_time": "2022-10-23T16:40:51.257Z"
   },
   {
    "duration": 5,
    "start_time": "2022-10-23T16:40:51.407Z"
   },
   {
    "duration": 11,
    "start_time": "2022-10-23T16:40:51.422Z"
   },
   {
    "duration": 124,
    "start_time": "2022-10-23T16:40:51.434Z"
   },
   {
    "duration": 10,
    "start_time": "2022-10-23T16:40:51.559Z"
   },
   {
    "duration": 127,
    "start_time": "2022-10-23T16:40:51.570Z"
   },
   {
    "duration": 3,
    "start_time": "2022-10-23T16:40:51.698Z"
   },
   {
    "duration": 25,
    "start_time": "2022-10-23T16:40:51.702Z"
   },
   {
    "duration": 9,
    "start_time": "2022-10-23T16:40:51.728Z"
   },
   {
    "duration": 122,
    "start_time": "2022-10-23T16:40:51.739Z"
   },
   {
    "duration": 9,
    "start_time": "2022-10-23T16:40:51.863Z"
   },
   {
    "duration": 14,
    "start_time": "2022-10-23T16:40:51.873Z"
   },
   {
    "duration": 32,
    "start_time": "2022-10-23T16:40:51.888Z"
   },
   {
    "duration": 11,
    "start_time": "2022-10-23T16:40:51.922Z"
   },
   {
    "duration": 110,
    "start_time": "2022-10-23T16:40:51.935Z"
   },
   {
    "duration": 13,
    "start_time": "2022-10-23T16:40:52.047Z"
   },
   {
    "duration": 11,
    "start_time": "2022-10-23T16:40:52.061Z"
   },
   {
    "duration": 11,
    "start_time": "2022-10-23T16:41:14.982Z"
   },
   {
    "duration": 16,
    "start_time": "2022-10-23T16:41:38.166Z"
   },
   {
    "duration": 19,
    "start_time": "2022-10-23T16:43:36.174Z"
   },
   {
    "duration": 5,
    "start_time": "2022-10-23T16:44:47.068Z"
   },
   {
    "duration": 18,
    "start_time": "2022-10-23T16:44:53.747Z"
   },
   {
    "duration": 6,
    "start_time": "2022-10-23T16:45:55.194Z"
   },
   {
    "duration": 15,
    "start_time": "2022-10-23T16:46:16.082Z"
   },
   {
    "duration": 8,
    "start_time": "2022-10-23T16:46:40.107Z"
   },
   {
    "duration": 10,
    "start_time": "2022-10-23T16:46:42.761Z"
   },
   {
    "duration": 8,
    "start_time": "2022-10-23T16:47:06.308Z"
   },
   {
    "duration": 11,
    "start_time": "2022-10-23T16:47:08.743Z"
   },
   {
    "duration": 103,
    "start_time": "2022-10-23T16:48:05.389Z"
   },
   {
    "duration": 98,
    "start_time": "2022-10-23T16:48:21.691Z"
   },
   {
    "duration": 106,
    "start_time": "2022-10-23T16:48:41.444Z"
   },
   {
    "duration": 136,
    "start_time": "2022-10-23T16:51:04.117Z"
   },
   {
    "duration": 9,
    "start_time": "2022-10-23T16:53:08.914Z"
   },
   {
    "duration": 11,
    "start_time": "2022-10-23T16:53:12.324Z"
   },
   {
    "duration": 209,
    "start_time": "2022-10-23T16:53:15.426Z"
   },
   {
    "duration": 2805,
    "start_time": "2022-10-23T16:55:14.914Z"
   },
   {
    "duration": 1292,
    "start_time": "2022-10-23T16:55:37.273Z"
   },
   {
    "duration": 8,
    "start_time": "2022-10-23T16:56:10.821Z"
   },
   {
    "duration": 11,
    "start_time": "2022-10-23T16:56:10.857Z"
   },
   {
    "duration": 1232,
    "start_time": "2022-10-23T16:56:10.869Z"
   },
   {
    "duration": 2,
    "start_time": "2022-10-23T16:56:12.102Z"
   },
   {
    "duration": 137,
    "start_time": "2022-10-23T16:57:01.926Z"
   },
   {
    "duration": 11,
    "start_time": "2022-10-23T17:00:47.841Z"
   },
   {
    "duration": 132,
    "start_time": "2022-10-23T17:02:18.613Z"
   },
   {
    "duration": 155,
    "start_time": "2022-10-23T17:02:26.696Z"
   },
   {
    "duration": 68,
    "start_time": "2022-10-23T17:04:07.199Z"
   },
   {
    "duration": 3,
    "start_time": "2022-10-23T17:09:29.862Z"
   },
   {
    "duration": 9,
    "start_time": "2022-10-23T17:09:55.465Z"
   },
   {
    "duration": 8,
    "start_time": "2022-10-23T17:10:30.728Z"
   },
   {
    "duration": 29,
    "start_time": "2022-10-23T17:10:36.289Z"
   },
   {
    "duration": 17,
    "start_time": "2022-10-23T17:11:55.947Z"
   },
   {
    "duration": 46101,
    "start_time": "2022-10-23T17:13:30.239Z"
   },
   {
    "duration": 8,
    "start_time": "2022-10-23T17:14:42.204Z"
   },
   {
    "duration": 9,
    "start_time": "2022-10-23T17:15:10.691Z"
   },
   {
    "duration": 80,
    "start_time": "2022-10-23T17:15:25.156Z"
   },
   {
    "duration": 15,
    "start_time": "2022-10-23T17:15:25.238Z"
   },
   {
    "duration": 24,
    "start_time": "2022-10-23T17:15:25.254Z"
   },
   {
    "duration": 8,
    "start_time": "2022-10-23T17:15:25.280Z"
   },
   {
    "duration": 52,
    "start_time": "2022-10-23T17:15:25.290Z"
   },
   {
    "duration": 3,
    "start_time": "2022-10-23T17:15:25.344Z"
   },
   {
    "duration": 11,
    "start_time": "2022-10-23T17:15:25.349Z"
   },
   {
    "duration": 4,
    "start_time": "2022-10-23T17:15:25.362Z"
   },
   {
    "duration": 2157,
    "start_time": "2022-10-23T17:15:25.368Z"
   },
   {
    "duration": 4,
    "start_time": "2022-10-23T17:15:27.529Z"
   },
   {
    "duration": 35,
    "start_time": "2022-10-23T17:15:27.534Z"
   },
   {
    "duration": 10,
    "start_time": "2022-10-23T17:15:27.571Z"
   },
   {
    "duration": 7,
    "start_time": "2022-10-23T17:15:27.582Z"
   },
   {
    "duration": 32,
    "start_time": "2022-10-23T17:15:27.591Z"
   },
   {
    "duration": 19,
    "start_time": "2022-10-23T17:15:27.624Z"
   },
   {
    "duration": 16,
    "start_time": "2022-10-23T17:15:27.644Z"
   },
   {
    "duration": 4,
    "start_time": "2022-10-23T17:15:27.661Z"
   },
   {
    "duration": 12,
    "start_time": "2022-10-23T17:15:27.666Z"
   },
   {
    "duration": 15,
    "start_time": "2022-10-23T17:15:27.680Z"
   },
   {
    "duration": 7,
    "start_time": "2022-10-23T17:15:27.696Z"
   },
   {
    "duration": 25,
    "start_time": "2022-10-23T17:15:27.704Z"
   },
   {
    "duration": 4,
    "start_time": "2022-10-23T17:15:27.730Z"
   },
   {
    "duration": 18,
    "start_time": "2022-10-23T17:15:27.736Z"
   },
   {
    "duration": 144,
    "start_time": "2022-10-23T17:15:27.756Z"
   },
   {
    "duration": 3,
    "start_time": "2022-10-23T17:15:27.902Z"
   },
   {
    "duration": 23,
    "start_time": "2022-10-23T17:15:27.907Z"
   },
   {
    "duration": 14,
    "start_time": "2022-10-23T17:15:27.931Z"
   },
   {
    "duration": 120,
    "start_time": "2022-10-23T17:15:27.948Z"
   },
   {
    "duration": 13,
    "start_time": "2022-10-23T17:15:28.070Z"
   },
   {
    "duration": 128,
    "start_time": "2022-10-23T17:15:28.084Z"
   },
   {
    "duration": 12,
    "start_time": "2022-10-23T17:15:28.213Z"
   },
   {
    "duration": 13,
    "start_time": "2022-10-23T17:15:28.227Z"
   },
   {
    "duration": 155,
    "start_time": "2022-10-23T17:15:28.241Z"
   },
   {
    "duration": 12,
    "start_time": "2022-10-23T17:15:28.397Z"
   },
   {
    "duration": 163,
    "start_time": "2022-10-23T17:15:28.411Z"
   },
   {
    "duration": 3,
    "start_time": "2022-10-23T17:15:28.576Z"
   },
   {
    "duration": 49,
    "start_time": "2022-10-23T17:15:28.581Z"
   },
   {
    "duration": 10,
    "start_time": "2022-10-23T17:15:28.632Z"
   },
   {
    "duration": 141,
    "start_time": "2022-10-23T17:15:28.644Z"
   },
   {
    "duration": 11,
    "start_time": "2022-10-23T17:15:28.786Z"
   },
   {
    "duration": 3,
    "start_time": "2022-10-23T17:15:28.799Z"
   },
   {
    "duration": 30,
    "start_time": "2022-10-23T17:15:28.803Z"
   },
   {
    "duration": 10,
    "start_time": "2022-10-23T17:15:28.835Z"
   },
   {
    "duration": 129,
    "start_time": "2022-10-23T17:15:28.846Z"
   },
   {
    "duration": 7,
    "start_time": "2022-10-23T17:15:28.976Z"
   },
   {
    "duration": 17,
    "start_time": "2022-10-23T17:15:28.984Z"
   },
   {
    "duration": 143,
    "start_time": "2022-10-23T17:15:29.003Z"
   },
   {
    "duration": 11,
    "start_time": "2022-10-23T17:15:29.148Z"
   },
   {
    "duration": 156,
    "start_time": "2022-10-23T17:15:29.160Z"
   },
   {
    "duration": 4,
    "start_time": "2022-10-23T17:15:29.318Z"
   },
   {
    "duration": 16,
    "start_time": "2022-10-23T17:15:29.324Z"
   },
   {
    "duration": 0,
    "start_time": "2022-10-23T17:15:29.350Z"
   },
   {
    "duration": 0,
    "start_time": "2022-10-23T17:15:29.351Z"
   },
   {
    "duration": 7,
    "start_time": "2022-10-23T17:15:36.833Z"
   },
   {
    "duration": 104,
    "start_time": "2022-10-23T17:16:46.580Z"
   },
   {
    "duration": 16,
    "start_time": "2022-10-23T17:18:08.824Z"
   },
   {
    "duration": 4,
    "start_time": "2022-10-23T17:18:28.239Z"
   },
   {
    "duration": 17,
    "start_time": "2022-10-23T17:18:30.586Z"
   },
   {
    "duration": 91,
    "start_time": "2022-10-23T17:18:33.936Z"
   },
   {
    "duration": 3,
    "start_time": "2022-10-23T17:19:54.537Z"
   },
   {
    "duration": 16,
    "start_time": "2022-10-23T17:19:57.568Z"
   },
   {
    "duration": 71,
    "start_time": "2022-10-23T17:20:06.827Z"
   },
   {
    "duration": 15,
    "start_time": "2022-10-23T17:20:06.900Z"
   },
   {
    "duration": 14,
    "start_time": "2022-10-23T17:20:06.917Z"
   },
   {
    "duration": 8,
    "start_time": "2022-10-23T17:20:06.933Z"
   },
   {
    "duration": 28,
    "start_time": "2022-10-23T17:20:06.943Z"
   },
   {
    "duration": 3,
    "start_time": "2022-10-23T17:20:06.973Z"
   },
   {
    "duration": 15,
    "start_time": "2022-10-23T17:20:06.978Z"
   },
   {
    "duration": 29,
    "start_time": "2022-10-23T17:20:06.994Z"
   },
   {
    "duration": 8,
    "start_time": "2022-10-23T17:20:07.025Z"
   },
   {
    "duration": 11,
    "start_time": "2022-10-23T17:20:07.035Z"
   },
   {
    "duration": 35,
    "start_time": "2022-10-23T17:20:07.047Z"
   },
   {
    "duration": 7,
    "start_time": "2022-10-23T17:20:07.084Z"
   },
   {
    "duration": 3,
    "start_time": "2022-10-23T17:20:07.092Z"
   },
   {
    "duration": 11,
    "start_time": "2022-10-23T17:20:07.097Z"
   },
   {
    "duration": 22,
    "start_time": "2022-10-23T17:20:07.109Z"
   },
   {
    "duration": 15,
    "start_time": "2022-10-23T17:20:07.133Z"
   },
   {
    "duration": 3,
    "start_time": "2022-10-23T17:20:07.149Z"
   },
   {
    "duration": 15,
    "start_time": "2022-10-23T17:20:07.153Z"
   },
   {
    "duration": 5,
    "start_time": "2022-10-23T17:20:07.169Z"
   },
   {
    "duration": 6,
    "start_time": "2022-10-23T17:20:07.175Z"
   },
   {
    "duration": 10,
    "start_time": "2022-10-23T17:20:07.182Z"
   },
   {
    "duration": 7,
    "start_time": "2022-10-23T17:20:07.193Z"
   },
   {
    "duration": 28,
    "start_time": "2022-10-23T17:20:07.202Z"
   },
   {
    "duration": 119,
    "start_time": "2022-10-23T17:20:07.232Z"
   },
   {
    "duration": 3,
    "start_time": "2022-10-23T17:20:07.353Z"
   },
   {
    "duration": 19,
    "start_time": "2022-10-23T17:20:07.358Z"
   },
   {
    "duration": 16,
    "start_time": "2022-10-23T17:20:07.378Z"
   },
   {
    "duration": 108,
    "start_time": "2022-10-23T17:20:07.397Z"
   },
   {
    "duration": 19,
    "start_time": "2022-10-23T17:20:07.506Z"
   },
   {
    "duration": 116,
    "start_time": "2022-10-23T17:20:07.526Z"
   },
   {
    "duration": 5,
    "start_time": "2022-10-23T17:20:07.643Z"
   },
   {
    "duration": 12,
    "start_time": "2022-10-23T17:20:07.649Z"
   },
   {
    "duration": 133,
    "start_time": "2022-10-23T17:20:07.662Z"
   },
   {
    "duration": 11,
    "start_time": "2022-10-23T17:20:07.796Z"
   },
   {
    "duration": 138,
    "start_time": "2022-10-23T17:20:07.809Z"
   },
   {
    "duration": 3,
    "start_time": "2022-10-23T17:20:07.948Z"
   },
   {
    "duration": 16,
    "start_time": "2022-10-23T17:20:07.952Z"
   },
   {
    "duration": 10,
    "start_time": "2022-10-23T17:20:07.969Z"
   },
   {
    "duration": 123,
    "start_time": "2022-10-23T17:20:07.980Z"
   },
   {
    "duration": 19,
    "start_time": "2022-10-23T17:20:08.105Z"
   },
   {
    "duration": 2,
    "start_time": "2022-10-23T17:20:08.126Z"
   },
   {
    "duration": 16,
    "start_time": "2022-10-23T17:20:08.130Z"
   },
   {
    "duration": 9,
    "start_time": "2022-10-23T17:20:08.147Z"
   },
   {
    "duration": 111,
    "start_time": "2022-10-23T17:20:08.157Z"
   },
   {
    "duration": 8,
    "start_time": "2022-10-23T17:20:08.270Z"
   },
   {
    "duration": 11,
    "start_time": "2022-10-23T17:20:08.280Z"
   },
   {
    "duration": 156,
    "start_time": "2022-10-23T17:20:08.293Z"
   },
   {
    "duration": 11,
    "start_time": "2022-10-23T17:20:08.451Z"
   },
   {
    "duration": 159,
    "start_time": "2022-10-23T17:20:08.463Z"
   },
   {
    "duration": 3,
    "start_time": "2022-10-23T17:20:08.623Z"
   },
   {
    "duration": 17,
    "start_time": "2022-10-23T17:20:08.628Z"
   },
   {
    "duration": 98,
    "start_time": "2022-10-23T17:20:08.646Z"
   },
   {
    "duration": 2,
    "start_time": "2022-10-23T17:20:08.745Z"
   },
   {
    "duration": 69,
    "start_time": "2022-10-23T17:22:04.205Z"
   },
   {
    "duration": 13,
    "start_time": "2022-10-23T17:22:04.276Z"
   },
   {
    "duration": 26,
    "start_time": "2022-10-23T17:22:04.291Z"
   },
   {
    "duration": 8,
    "start_time": "2022-10-23T17:22:04.321Z"
   },
   {
    "duration": 38,
    "start_time": "2022-10-23T17:22:04.330Z"
   },
   {
    "duration": 3,
    "start_time": "2022-10-23T17:22:04.369Z"
   },
   {
    "duration": 25,
    "start_time": "2022-10-23T17:22:04.374Z"
   },
   {
    "duration": 7,
    "start_time": "2022-10-23T17:22:04.400Z"
   },
   {
    "duration": 16,
    "start_time": "2022-10-23T17:22:04.408Z"
   },
   {
    "duration": 7,
    "start_time": "2022-10-23T17:22:04.426Z"
   },
   {
    "duration": 29,
    "start_time": "2022-10-23T17:22:04.435Z"
   },
   {
    "duration": 8,
    "start_time": "2022-10-23T17:22:04.465Z"
   },
   {
    "duration": 7,
    "start_time": "2022-10-23T17:22:04.475Z"
   },
   {
    "duration": 14,
    "start_time": "2022-10-23T17:22:04.483Z"
   },
   {
    "duration": 29,
    "start_time": "2022-10-23T17:22:04.499Z"
   },
   {
    "duration": 15,
    "start_time": "2022-10-23T17:22:04.530Z"
   },
   {
    "duration": 4,
    "start_time": "2022-10-23T17:22:04.546Z"
   },
   {
    "duration": 21,
    "start_time": "2022-10-23T17:22:04.552Z"
   },
   {
    "duration": 7,
    "start_time": "2022-10-23T17:22:04.574Z"
   },
   {
    "duration": 11,
    "start_time": "2022-10-23T17:22:04.583Z"
   },
   {
    "duration": 16,
    "start_time": "2022-10-23T17:22:04.595Z"
   },
   {
    "duration": 7,
    "start_time": "2022-10-23T17:22:04.613Z"
   },
   {
    "duration": 16,
    "start_time": "2022-10-23T17:22:04.622Z"
   },
   {
    "duration": 103,
    "start_time": "2022-10-23T17:22:04.639Z"
   },
   {
    "duration": 3,
    "start_time": "2022-10-23T17:22:04.744Z"
   },
   {
    "duration": 16,
    "start_time": "2022-10-23T17:22:04.748Z"
   },
   {
    "duration": 11,
    "start_time": "2022-10-23T17:22:04.765Z"
   },
   {
    "duration": 103,
    "start_time": "2022-10-23T17:22:04.779Z"
   },
   {
    "duration": 12,
    "start_time": "2022-10-23T17:22:04.884Z"
   },
   {
    "duration": 104,
    "start_time": "2022-10-23T17:22:04.898Z"
   },
   {
    "duration": 4,
    "start_time": "2022-10-23T17:22:05.004Z"
   },
   {
    "duration": 10,
    "start_time": "2022-10-23T17:22:05.021Z"
   },
   {
    "duration": 119,
    "start_time": "2022-10-23T17:22:05.032Z"
   },
   {
    "duration": 9,
    "start_time": "2022-10-23T17:22:05.153Z"
   },
   {
    "duration": 125,
    "start_time": "2022-10-23T17:22:05.164Z"
   },
   {
    "duration": 3,
    "start_time": "2022-10-23T17:22:05.291Z"
   },
   {
    "duration": 17,
    "start_time": "2022-10-23T17:22:05.295Z"
   },
   {
    "duration": 9,
    "start_time": "2022-10-23T17:22:05.321Z"
   },
   {
    "duration": 123,
    "start_time": "2022-10-23T17:22:05.331Z"
   },
   {
    "duration": 10,
    "start_time": "2022-10-23T17:22:05.455Z"
   },
   {
    "duration": 2,
    "start_time": "2022-10-23T17:22:05.467Z"
   },
   {
    "duration": 18,
    "start_time": "2022-10-23T17:22:05.470Z"
   },
   {
    "duration": 12,
    "start_time": "2022-10-23T17:22:05.489Z"
   },
   {
    "duration": 120,
    "start_time": "2022-10-23T17:22:05.502Z"
   },
   {
    "duration": 8,
    "start_time": "2022-10-23T17:22:05.624Z"
   },
   {
    "duration": 15,
    "start_time": "2022-10-23T17:22:05.633Z"
   },
   {
    "duration": 168,
    "start_time": "2022-10-23T17:22:05.649Z"
   },
   {
    "duration": 11,
    "start_time": "2022-10-23T17:22:05.818Z"
   },
   {
    "duration": 144,
    "start_time": "2022-10-23T17:22:05.830Z"
   },
   {
    "duration": 3,
    "start_time": "2022-10-23T17:22:05.975Z"
   },
   {
    "duration": 30,
    "start_time": "2022-10-23T17:22:05.980Z"
   },
   {
    "duration": 131,
    "start_time": "2022-10-23T17:22:06.012Z"
   },
   {
    "duration": 4,
    "start_time": "2022-10-23T17:22:06.144Z"
   },
   {
    "duration": 7,
    "start_time": "2022-10-23T17:24:58.248Z"
   },
   {
    "duration": 13,
    "start_time": "2022-10-23T17:25:01.095Z"
   },
   {
    "duration": 198,
    "start_time": "2022-10-23T17:25:04.475Z"
   },
   {
    "duration": 71,
    "start_time": "2022-10-23T17:25:34.881Z"
   },
   {
    "duration": 14,
    "start_time": "2022-10-23T17:25:34.955Z"
   },
   {
    "duration": 33,
    "start_time": "2022-10-23T17:25:34.970Z"
   },
   {
    "duration": 16,
    "start_time": "2022-10-23T17:25:35.005Z"
   },
   {
    "duration": 34,
    "start_time": "2022-10-23T17:25:35.023Z"
   },
   {
    "duration": 3,
    "start_time": "2022-10-23T17:25:35.058Z"
   },
   {
    "duration": 20,
    "start_time": "2022-10-23T17:25:35.063Z"
   },
   {
    "duration": 20,
    "start_time": "2022-10-23T17:25:35.084Z"
   },
   {
    "duration": 18,
    "start_time": "2022-10-23T17:25:35.106Z"
   },
   {
    "duration": 33,
    "start_time": "2022-10-23T17:25:35.127Z"
   },
   {
    "duration": 41,
    "start_time": "2022-10-23T17:25:35.162Z"
   },
   {
    "duration": 19,
    "start_time": "2022-10-23T17:25:35.204Z"
   },
   {
    "duration": 24,
    "start_time": "2022-10-23T17:25:35.224Z"
   },
   {
    "duration": 30,
    "start_time": "2022-10-23T17:25:35.249Z"
   },
   {
    "duration": 19,
    "start_time": "2022-10-23T17:25:35.281Z"
   },
   {
    "duration": 21,
    "start_time": "2022-10-23T17:25:35.301Z"
   },
   {
    "duration": 3,
    "start_time": "2022-10-23T17:25:35.324Z"
   },
   {
    "duration": 28,
    "start_time": "2022-10-23T17:25:35.328Z"
   },
   {
    "duration": 50,
    "start_time": "2022-10-23T17:25:35.358Z"
   },
   {
    "duration": 34,
    "start_time": "2022-10-23T17:25:35.409Z"
   },
   {
    "duration": 31,
    "start_time": "2022-10-23T17:25:35.444Z"
   },
   {
    "duration": 25,
    "start_time": "2022-10-23T17:25:35.477Z"
   },
   {
    "duration": 42,
    "start_time": "2022-10-23T17:25:35.503Z"
   },
   {
    "duration": 112,
    "start_time": "2022-10-23T17:25:35.546Z"
   },
   {
    "duration": 3,
    "start_time": "2022-10-23T17:25:35.659Z"
   },
   {
    "duration": 39,
    "start_time": "2022-10-23T17:25:35.663Z"
   },
   {
    "duration": 20,
    "start_time": "2022-10-23T17:25:35.704Z"
   },
   {
    "duration": 96,
    "start_time": "2022-10-23T17:25:35.727Z"
   },
   {
    "duration": 13,
    "start_time": "2022-10-23T17:25:35.825Z"
   },
   {
    "duration": 122,
    "start_time": "2022-10-23T17:25:35.840Z"
   },
   {
    "duration": 5,
    "start_time": "2022-10-23T17:25:35.963Z"
   },
   {
    "duration": 17,
    "start_time": "2022-10-23T17:25:35.970Z"
   },
   {
    "duration": 157,
    "start_time": "2022-10-23T17:25:35.989Z"
   },
   {
    "duration": 13,
    "start_time": "2022-10-23T17:25:36.148Z"
   },
   {
    "duration": 138,
    "start_time": "2022-10-23T17:25:36.163Z"
   },
   {
    "duration": 3,
    "start_time": "2022-10-23T17:25:36.302Z"
   },
   {
    "duration": 30,
    "start_time": "2022-10-23T17:25:36.306Z"
   },
   {
    "duration": 11,
    "start_time": "2022-10-23T17:25:36.337Z"
   },
   {
    "duration": 120,
    "start_time": "2022-10-23T17:25:36.350Z"
   },
   {
    "duration": 10,
    "start_time": "2022-10-23T17:25:36.472Z"
   },
   {
    "duration": 3,
    "start_time": "2022-10-23T17:25:36.484Z"
   },
   {
    "duration": 32,
    "start_time": "2022-10-23T17:25:36.489Z"
   },
   {
    "duration": 10,
    "start_time": "2022-10-23T17:25:36.522Z"
   },
   {
    "duration": 113,
    "start_time": "2022-10-23T17:25:36.533Z"
   },
   {
    "duration": 11,
    "start_time": "2022-10-23T17:25:36.647Z"
   },
   {
    "duration": 0,
    "start_time": "2022-10-23T17:25:36.660Z"
   },
   {
    "duration": 0,
    "start_time": "2022-10-23T17:25:36.661Z"
   },
   {
    "duration": 0,
    "start_time": "2022-10-23T17:25:36.662Z"
   },
   {
    "duration": 0,
    "start_time": "2022-10-23T17:25:36.663Z"
   },
   {
    "duration": 0,
    "start_time": "2022-10-23T17:25:36.664Z"
   },
   {
    "duration": 0,
    "start_time": "2022-10-23T17:25:36.665Z"
   },
   {
    "duration": 0,
    "start_time": "2022-10-23T17:25:36.666Z"
   },
   {
    "duration": 0,
    "start_time": "2022-10-23T17:25:36.668Z"
   },
   {
    "duration": 0,
    "start_time": "2022-10-23T17:25:36.669Z"
   },
   {
    "duration": 11,
    "start_time": "2022-10-23T17:26:01.081Z"
   },
   {
    "duration": 8,
    "start_time": "2022-10-23T17:26:05.478Z"
   },
   {
    "duration": 8,
    "start_time": "2022-10-23T17:26:08.948Z"
   },
   {
    "duration": 10,
    "start_time": "2022-10-23T17:26:12.460Z"
   },
   {
    "duration": 8,
    "start_time": "2022-10-23T17:26:18.682Z"
   },
   {
    "duration": 12,
    "start_time": "2022-10-23T17:26:20.664Z"
   },
   {
    "duration": 200,
    "start_time": "2022-10-23T17:26:23.848Z"
   },
   {
    "duration": 126,
    "start_time": "2022-10-23T17:27:58.148Z"
   },
   {
    "duration": 196,
    "start_time": "2022-10-23T17:28:15.308Z"
   },
   {
    "duration": 15,
    "start_time": "2022-10-23T17:30:42.893Z"
   },
   {
    "duration": 14,
    "start_time": "2022-10-23T17:30:46.486Z"
   },
   {
    "duration": 65,
    "start_time": "2022-10-23T17:30:50.768Z"
   },
   {
    "duration": 13,
    "start_time": "2022-10-23T17:30:50.835Z"
   },
   {
    "duration": 22,
    "start_time": "2022-10-23T17:30:50.850Z"
   },
   {
    "duration": 14,
    "start_time": "2022-10-23T17:30:50.875Z"
   },
   {
    "duration": 52,
    "start_time": "2022-10-23T17:30:50.890Z"
   },
   {
    "duration": 3,
    "start_time": "2022-10-23T17:30:50.943Z"
   },
   {
    "duration": 13,
    "start_time": "2022-10-23T17:30:50.948Z"
   },
   {
    "duration": 5,
    "start_time": "2022-10-23T17:30:50.963Z"
   },
   {
    "duration": 9,
    "start_time": "2022-10-23T17:30:50.969Z"
   },
   {
    "duration": 9,
    "start_time": "2022-10-23T17:30:50.980Z"
   },
   {
    "duration": 43,
    "start_time": "2022-10-23T17:30:50.990Z"
   },
   {
    "duration": 9,
    "start_time": "2022-10-23T17:30:51.034Z"
   },
   {
    "duration": 5,
    "start_time": "2022-10-23T17:30:51.044Z"
   },
   {
    "duration": 12,
    "start_time": "2022-10-23T17:30:51.050Z"
   },
   {
    "duration": 21,
    "start_time": "2022-10-23T17:30:51.064Z"
   },
   {
    "duration": 36,
    "start_time": "2022-10-23T17:30:51.087Z"
   },
   {
    "duration": 4,
    "start_time": "2022-10-23T17:30:51.124Z"
   },
   {
    "duration": 12,
    "start_time": "2022-10-23T17:30:51.129Z"
   },
   {
    "duration": 17,
    "start_time": "2022-10-23T17:30:51.143Z"
   },
   {
    "duration": 7,
    "start_time": "2022-10-23T17:30:51.161Z"
   },
   {
    "duration": 12,
    "start_time": "2022-10-23T17:30:51.169Z"
   },
   {
    "duration": 18,
    "start_time": "2022-10-23T17:30:51.182Z"
   },
   {
    "duration": 32,
    "start_time": "2022-10-23T17:30:51.202Z"
   },
   {
    "duration": 115,
    "start_time": "2022-10-23T17:30:51.236Z"
   },
   {
    "duration": 3,
    "start_time": "2022-10-23T17:30:51.352Z"
   },
   {
    "duration": 44,
    "start_time": "2022-10-23T17:30:51.357Z"
   },
   {
    "duration": 31,
    "start_time": "2022-10-23T17:30:51.403Z"
   },
   {
    "duration": 96,
    "start_time": "2022-10-23T17:30:51.438Z"
   },
   {
    "duration": 11,
    "start_time": "2022-10-23T17:30:51.535Z"
   },
   {
    "duration": 114,
    "start_time": "2022-10-23T17:30:51.547Z"
   },
   {
    "duration": 4,
    "start_time": "2022-10-23T17:30:51.663Z"
   },
   {
    "duration": 13,
    "start_time": "2022-10-23T17:30:51.668Z"
   },
   {
    "duration": 123,
    "start_time": "2022-10-23T17:30:51.682Z"
   },
   {
    "duration": 16,
    "start_time": "2022-10-23T17:30:51.807Z"
   },
   {
    "duration": 134,
    "start_time": "2022-10-23T17:30:51.825Z"
   },
   {
    "duration": 2,
    "start_time": "2022-10-23T17:30:51.961Z"
   },
   {
    "duration": 17,
    "start_time": "2022-10-23T17:30:51.964Z"
   },
   {
    "duration": 8,
    "start_time": "2022-10-23T17:30:51.983Z"
   },
   {
    "duration": 137,
    "start_time": "2022-10-23T17:30:51.992Z"
   },
   {
    "duration": 10,
    "start_time": "2022-10-23T17:30:52.130Z"
   },
   {
    "duration": 3,
    "start_time": "2022-10-23T17:30:52.141Z"
   },
   {
    "duration": 15,
    "start_time": "2022-10-23T17:30:52.146Z"
   },
   {
    "duration": 8,
    "start_time": "2022-10-23T17:30:52.163Z"
   },
   {
    "duration": 142,
    "start_time": "2022-10-23T17:30:52.173Z"
   },
   {
    "duration": 13,
    "start_time": "2022-10-23T17:30:52.316Z"
   },
   {
    "duration": 0,
    "start_time": "2022-10-23T17:30:52.330Z"
   },
   {
    "duration": 0,
    "start_time": "2022-10-23T17:30:52.332Z"
   },
   {
    "duration": 0,
    "start_time": "2022-10-23T17:30:52.333Z"
   },
   {
    "duration": 0,
    "start_time": "2022-10-23T17:30:52.334Z"
   },
   {
    "duration": 0,
    "start_time": "2022-10-23T17:30:52.335Z"
   },
   {
    "duration": 0,
    "start_time": "2022-10-23T17:30:52.335Z"
   },
   {
    "duration": 0,
    "start_time": "2022-10-23T17:30:52.336Z"
   },
   {
    "duration": 0,
    "start_time": "2022-10-23T17:30:52.337Z"
   },
   {
    "duration": 0,
    "start_time": "2022-10-23T17:30:52.338Z"
   },
   {
    "duration": 12,
    "start_time": "2022-10-23T17:31:10.856Z"
   },
   {
    "duration": 12,
    "start_time": "2022-10-23T17:31:14.594Z"
   },
   {
    "duration": 9,
    "start_time": "2022-10-23T17:31:39.600Z"
   },
   {
    "duration": 12,
    "start_time": "2022-10-23T17:31:45.344Z"
   },
   {
    "duration": 249,
    "start_time": "2022-10-23T17:31:50.361Z"
   },
   {
    "duration": 11,
    "start_time": "2022-10-23T17:33:00.632Z"
   },
   {
    "duration": 238,
    "start_time": "2022-10-23T17:33:04.988Z"
   },
   {
    "duration": 110,
    "start_time": "2022-10-23T17:34:51.836Z"
   },
   {
    "duration": 288,
    "start_time": "2022-10-23T17:42:34.776Z"
   },
   {
    "duration": 149,
    "start_time": "2022-10-23T17:42:57.897Z"
   },
   {
    "duration": 7,
    "start_time": "2022-10-23T17:44:59.287Z"
   },
   {
    "duration": 11,
    "start_time": "2022-10-23T17:45:04.230Z"
   },
   {
    "duration": 75,
    "start_time": "2022-10-23T17:45:25.227Z"
   },
   {
    "duration": 15,
    "start_time": "2022-10-23T17:45:25.304Z"
   },
   {
    "duration": 16,
    "start_time": "2022-10-23T17:45:25.320Z"
   },
   {
    "duration": 10,
    "start_time": "2022-10-23T17:45:25.338Z"
   },
   {
    "duration": 39,
    "start_time": "2022-10-23T17:45:25.350Z"
   },
   {
    "duration": 4,
    "start_time": "2022-10-23T17:45:25.391Z"
   },
   {
    "duration": 7,
    "start_time": "2022-10-23T17:45:25.422Z"
   },
   {
    "duration": 4,
    "start_time": "2022-10-23T17:45:25.431Z"
   },
   {
    "duration": 12,
    "start_time": "2022-10-23T17:45:25.436Z"
   },
   {
    "duration": 15,
    "start_time": "2022-10-23T17:45:25.450Z"
   },
   {
    "duration": 36,
    "start_time": "2022-10-23T17:45:25.467Z"
   },
   {
    "duration": 22,
    "start_time": "2022-10-23T17:45:25.505Z"
   },
   {
    "duration": 7,
    "start_time": "2022-10-23T17:45:25.529Z"
   },
   {
    "duration": 12,
    "start_time": "2022-10-23T17:45:25.537Z"
   },
   {
    "duration": 19,
    "start_time": "2022-10-23T17:45:25.550Z"
   },
   {
    "duration": 17,
    "start_time": "2022-10-23T17:45:25.570Z"
   },
   {
    "duration": 3,
    "start_time": "2022-10-23T17:45:25.589Z"
   },
   {
    "duration": 29,
    "start_time": "2022-10-23T17:45:25.593Z"
   },
   {
    "duration": 6,
    "start_time": "2022-10-23T17:45:25.623Z"
   },
   {
    "duration": 5,
    "start_time": "2022-10-23T17:45:25.630Z"
   },
   {
    "duration": 10,
    "start_time": "2022-10-23T17:45:25.637Z"
   },
   {
    "duration": 7,
    "start_time": "2022-10-23T17:45:25.649Z"
   },
   {
    "duration": 14,
    "start_time": "2022-10-23T17:45:25.657Z"
   },
   {
    "duration": 131,
    "start_time": "2022-10-23T17:45:25.673Z"
   },
   {
    "duration": 3,
    "start_time": "2022-10-23T17:45:25.806Z"
   },
   {
    "duration": 12,
    "start_time": "2022-10-23T17:45:25.821Z"
   },
   {
    "duration": 14,
    "start_time": "2022-10-23T17:45:25.834Z"
   },
   {
    "duration": 121,
    "start_time": "2022-10-23T17:45:25.852Z"
   },
   {
    "duration": 12,
    "start_time": "2022-10-23T17:45:25.975Z"
   },
   {
    "duration": 161,
    "start_time": "2022-10-23T17:45:25.989Z"
   },
   {
    "duration": 7,
    "start_time": "2022-10-23T17:45:26.152Z"
   },
   {
    "duration": 20,
    "start_time": "2022-10-23T17:45:26.160Z"
   },
   {
    "duration": 147,
    "start_time": "2022-10-23T17:45:26.182Z"
   },
   {
    "duration": 10,
    "start_time": "2022-10-23T17:45:26.331Z"
   },
   {
    "duration": 158,
    "start_time": "2022-10-23T17:45:26.342Z"
   },
   {
    "duration": 3,
    "start_time": "2022-10-23T17:45:26.502Z"
   },
   {
    "duration": 25,
    "start_time": "2022-10-23T17:45:26.506Z"
   },
   {
    "duration": 10,
    "start_time": "2022-10-23T17:45:26.532Z"
   },
   {
    "duration": 141,
    "start_time": "2022-10-23T17:45:26.544Z"
   },
   {
    "duration": 15,
    "start_time": "2022-10-23T17:45:26.687Z"
   },
   {
    "duration": 3,
    "start_time": "2022-10-23T17:45:26.704Z"
   },
   {
    "duration": 26,
    "start_time": "2022-10-23T17:45:26.723Z"
   },
   {
    "duration": 13,
    "start_time": "2022-10-23T17:45:26.751Z"
   },
   {
    "duration": 134,
    "start_time": "2022-10-23T17:45:26.765Z"
   },
   {
    "duration": 22,
    "start_time": "2022-10-23T17:45:26.900Z"
   },
   {
    "duration": 13,
    "start_time": "2022-10-23T17:45:26.924Z"
   },
   {
    "duration": 298,
    "start_time": "2022-10-23T17:45:26.939Z"
   },
   {
    "duration": 12,
    "start_time": "2022-10-23T17:45:27.239Z"
   },
   {
    "duration": 323,
    "start_time": "2022-10-23T17:45:27.253Z"
   },
   {
    "duration": 4,
    "start_time": "2022-10-23T17:45:27.578Z"
   },
   {
    "duration": 27,
    "start_time": "2022-10-23T17:45:27.583Z"
   },
   {
    "duration": 130,
    "start_time": "2022-10-23T17:45:27.612Z"
   },
   {
    "duration": 70,
    "start_time": "2022-10-23T17:45:27.744Z"
   },
   {
    "duration": 0,
    "start_time": "2022-10-23T17:45:27.816Z"
   },
   {
    "duration": 8,
    "start_time": "2022-10-23T17:50:12.524Z"
   },
   {
    "duration": 11,
    "start_time": "2022-10-23T17:50:15.702Z"
   },
   {
    "duration": 5,
    "start_time": "2022-10-23T17:55:03.364Z"
   },
   {
    "duration": 73,
    "start_time": "2022-10-23T17:55:12.431Z"
   },
   {
    "duration": 14,
    "start_time": "2022-10-23T17:55:12.506Z"
   },
   {
    "duration": 16,
    "start_time": "2022-10-23T17:55:12.521Z"
   },
   {
    "duration": 8,
    "start_time": "2022-10-23T17:55:12.539Z"
   },
   {
    "duration": 31,
    "start_time": "2022-10-23T17:55:12.548Z"
   },
   {
    "duration": 3,
    "start_time": "2022-10-23T17:55:12.580Z"
   },
   {
    "duration": 12,
    "start_time": "2022-10-23T17:55:12.584Z"
   },
   {
    "duration": 26,
    "start_time": "2022-10-23T17:55:12.597Z"
   },
   {
    "duration": 8,
    "start_time": "2022-10-23T17:55:12.625Z"
   },
   {
    "duration": 4,
    "start_time": "2022-10-23T17:55:12.635Z"
   },
   {
    "duration": 29,
    "start_time": "2022-10-23T17:55:12.641Z"
   },
   {
    "duration": 8,
    "start_time": "2022-10-23T17:55:12.671Z"
   },
   {
    "duration": 4,
    "start_time": "2022-10-23T17:55:12.680Z"
   },
   {
    "duration": 20,
    "start_time": "2022-10-23T17:55:12.685Z"
   },
   {
    "duration": 30,
    "start_time": "2022-10-23T17:55:12.706Z"
   },
   {
    "duration": 14,
    "start_time": "2022-10-23T17:55:12.737Z"
   },
   {
    "duration": 3,
    "start_time": "2022-10-23T17:55:12.752Z"
   },
   {
    "duration": 11,
    "start_time": "2022-10-23T17:55:12.757Z"
   },
   {
    "duration": 5,
    "start_time": "2022-10-23T17:55:12.770Z"
   },
   {
    "duration": 4,
    "start_time": "2022-10-23T17:55:12.776Z"
   },
   {
    "duration": 14,
    "start_time": "2022-10-23T17:55:12.782Z"
   },
   {
    "duration": 25,
    "start_time": "2022-10-23T17:55:12.797Z"
   },
   {
    "duration": 8,
    "start_time": "2022-10-23T17:55:12.824Z"
   },
   {
    "duration": 114,
    "start_time": "2022-10-23T17:55:12.833Z"
   },
   {
    "duration": 3,
    "start_time": "2022-10-23T17:55:12.948Z"
   },
   {
    "duration": 14,
    "start_time": "2022-10-23T17:55:12.952Z"
   },
   {
    "duration": 9,
    "start_time": "2022-10-23T17:55:12.967Z"
   },
   {
    "duration": 102,
    "start_time": "2022-10-23T17:55:12.979Z"
   },
   {
    "duration": 10,
    "start_time": "2022-10-23T17:55:13.083Z"
   },
   {
    "duration": 109,
    "start_time": "2022-10-23T17:55:13.094Z"
   },
   {
    "duration": 4,
    "start_time": "2022-10-23T17:55:13.205Z"
   },
   {
    "duration": 20,
    "start_time": "2022-10-23T17:55:13.210Z"
   },
   {
    "duration": 116,
    "start_time": "2022-10-23T17:55:13.231Z"
   },
   {
    "duration": 11,
    "start_time": "2022-10-23T17:55:13.349Z"
   },
   {
    "duration": 144,
    "start_time": "2022-10-23T17:55:13.362Z"
   },
   {
    "duration": 3,
    "start_time": "2022-10-23T17:55:13.508Z"
   },
   {
    "duration": 24,
    "start_time": "2022-10-23T17:55:13.512Z"
   },
   {
    "duration": 9,
    "start_time": "2022-10-23T17:55:13.537Z"
   },
   {
    "duration": 119,
    "start_time": "2022-10-23T17:55:13.547Z"
   },
   {
    "duration": 10,
    "start_time": "2022-10-23T17:55:13.667Z"
   },
   {
    "duration": 3,
    "start_time": "2022-10-23T17:55:13.678Z"
   },
   {
    "duration": 15,
    "start_time": "2022-10-23T17:55:13.682Z"
   },
   {
    "duration": 27,
    "start_time": "2022-10-23T17:55:13.698Z"
   },
   {
    "duration": 108,
    "start_time": "2022-10-23T17:55:13.726Z"
   },
   {
    "duration": 9,
    "start_time": "2022-10-23T17:55:13.835Z"
   },
   {
    "duration": 11,
    "start_time": "2022-10-23T17:55:13.845Z"
   },
   {
    "duration": 248,
    "start_time": "2022-10-23T17:55:13.858Z"
   },
   {
    "duration": 14,
    "start_time": "2022-10-23T17:55:14.108Z"
   },
   {
    "duration": 269,
    "start_time": "2022-10-23T17:55:14.124Z"
   },
   {
    "duration": 3,
    "start_time": "2022-10-23T17:55:14.395Z"
   },
   {
    "duration": 27,
    "start_time": "2022-10-23T17:55:14.400Z"
   },
   {
    "duration": 124,
    "start_time": "2022-10-23T17:55:14.428Z"
   },
   {
    "duration": 68,
    "start_time": "2022-10-23T17:55:14.554Z"
   },
   {
    "duration": 0,
    "start_time": "2022-10-23T17:55:14.623Z"
   },
   {
    "duration": 237,
    "start_time": "2022-10-23T17:56:16.271Z"
   },
   {
    "duration": 310,
    "start_time": "2022-10-23T17:56:40.601Z"
   },
   {
    "duration": 273,
    "start_time": "2022-10-23T17:56:50.941Z"
   },
   {
    "duration": 281,
    "start_time": "2022-10-23T17:58:41.377Z"
   },
   {
    "duration": 21,
    "start_time": "2022-10-23T18:00:37.202Z"
   },
   {
    "duration": 18,
    "start_time": "2022-10-23T18:00:50.584Z"
   },
   {
    "duration": 19,
    "start_time": "2022-10-23T18:00:57.946Z"
   },
   {
    "duration": 18,
    "start_time": "2022-10-23T18:02:16.925Z"
   },
   {
    "duration": 138,
    "start_time": "2022-10-23T18:03:11.315Z"
   },
   {
    "duration": 68,
    "start_time": "2022-10-23T18:03:54.376Z"
   },
   {
    "duration": 11,
    "start_time": "2022-10-23T18:03:59.644Z"
   },
   {
    "duration": 14,
    "start_time": "2022-10-23T18:04:56.794Z"
   },
   {
    "duration": 73,
    "start_time": "2022-10-23T18:05:02.547Z"
   },
   {
    "duration": 15,
    "start_time": "2022-10-23T18:05:02.622Z"
   },
   {
    "duration": 172,
    "start_time": "2022-10-23T18:05:02.638Z"
   },
   {
    "duration": 21,
    "start_time": "2022-10-23T18:05:02.812Z"
   },
   {
    "duration": 44,
    "start_time": "2022-10-23T18:05:02.834Z"
   },
   {
    "duration": 3,
    "start_time": "2022-10-23T18:05:02.880Z"
   },
   {
    "duration": 18,
    "start_time": "2022-10-23T18:05:02.886Z"
   },
   {
    "duration": 6,
    "start_time": "2022-10-23T18:05:02.905Z"
   },
   {
    "duration": 28,
    "start_time": "2022-10-23T18:05:02.913Z"
   },
   {
    "duration": 7,
    "start_time": "2022-10-23T18:05:02.944Z"
   },
   {
    "duration": 71,
    "start_time": "2022-10-23T18:05:02.952Z"
   },
   {
    "duration": 11,
    "start_time": "2022-10-23T18:05:03.025Z"
   },
   {
    "duration": 10,
    "start_time": "2022-10-23T18:05:03.038Z"
   },
   {
    "duration": 14,
    "start_time": "2022-10-23T18:05:03.050Z"
   },
   {
    "duration": 20,
    "start_time": "2022-10-23T18:05:03.066Z"
   },
   {
    "duration": 33,
    "start_time": "2022-10-23T18:05:03.088Z"
   },
   {
    "duration": 4,
    "start_time": "2022-10-23T18:05:03.123Z"
   },
   {
    "duration": 45,
    "start_time": "2022-10-23T18:05:03.129Z"
   },
   {
    "duration": 33,
    "start_time": "2022-10-23T18:05:03.175Z"
   },
   {
    "duration": 12,
    "start_time": "2022-10-23T18:05:03.209Z"
   },
   {
    "duration": 16,
    "start_time": "2022-10-23T18:05:03.223Z"
   },
   {
    "duration": 12,
    "start_time": "2022-10-23T18:05:03.240Z"
   },
   {
    "duration": 19,
    "start_time": "2022-10-23T18:05:03.253Z"
   },
   {
    "duration": 138,
    "start_time": "2022-10-23T18:05:03.273Z"
   },
   {
    "duration": 3,
    "start_time": "2022-10-23T18:05:03.412Z"
   },
   {
    "duration": 39,
    "start_time": "2022-10-23T18:05:03.416Z"
   },
   {
    "duration": 17,
    "start_time": "2022-10-23T18:05:03.457Z"
   },
   {
    "duration": 121,
    "start_time": "2022-10-23T18:05:03.477Z"
   },
   {
    "duration": 12,
    "start_time": "2022-10-23T18:05:03.600Z"
   },
   {
    "duration": 121,
    "start_time": "2022-10-23T18:05:03.621Z"
   },
   {
    "duration": 5,
    "start_time": "2022-10-23T18:05:03.743Z"
   },
   {
    "duration": 15,
    "start_time": "2022-10-23T18:05:03.750Z"
   },
   {
    "duration": 130,
    "start_time": "2022-10-23T18:05:03.767Z"
   },
   {
    "duration": 9,
    "start_time": "2022-10-23T18:05:03.899Z"
   },
   {
    "duration": 133,
    "start_time": "2022-10-23T18:05:03.909Z"
   },
   {
    "duration": 3,
    "start_time": "2022-10-23T18:05:04.043Z"
   },
   {
    "duration": 21,
    "start_time": "2022-10-23T18:05:04.048Z"
   },
   {
    "duration": 9,
    "start_time": "2022-10-23T18:05:04.071Z"
   },
   {
    "duration": 123,
    "start_time": "2022-10-23T18:05:04.082Z"
   },
   {
    "duration": 18,
    "start_time": "2022-10-23T18:05:04.207Z"
   },
   {
    "duration": 3,
    "start_time": "2022-10-23T18:05:04.227Z"
   },
   {
    "duration": 20,
    "start_time": "2022-10-23T18:05:04.231Z"
   },
   {
    "duration": 9,
    "start_time": "2022-10-23T18:05:04.252Z"
   },
   {
    "duration": 141,
    "start_time": "2022-10-23T18:05:04.263Z"
   },
   {
    "duration": 20,
    "start_time": "2022-10-23T18:05:04.407Z"
   },
   {
    "duration": 14,
    "start_time": "2022-10-23T18:05:04.429Z"
   },
   {
    "duration": 269,
    "start_time": "2022-10-23T18:05:04.444Z"
   },
   {
    "duration": 19,
    "start_time": "2022-10-23T18:05:04.715Z"
   },
   {
    "duration": 281,
    "start_time": "2022-10-23T18:05:04.735Z"
   },
   {
    "duration": 6,
    "start_time": "2022-10-23T18:05:05.018Z"
   },
   {
    "duration": 20,
    "start_time": "2022-10-23T18:05:05.025Z"
   },
   {
    "duration": 10,
    "start_time": "2022-10-23T18:05:05.047Z"
   },
   {
    "duration": 0,
    "start_time": "2022-10-23T18:05:05.058Z"
   },
   {
    "duration": 0,
    "start_time": "2022-10-23T18:05:05.059Z"
   },
   {
    "duration": 2,
    "start_time": "2022-10-23T18:05:17.580Z"
   },
   {
    "duration": 18,
    "start_time": "2022-10-23T18:05:26.603Z"
   },
   {
    "duration": 16,
    "start_time": "2022-10-23T18:05:50.363Z"
   },
   {
    "duration": 5,
    "start_time": "2022-10-23T18:06:27.163Z"
   },
   {
    "duration": 20,
    "start_time": "2022-10-23T18:06:31.063Z"
   },
   {
    "duration": 126,
    "start_time": "2022-10-23T18:07:12.362Z"
   },
   {
    "duration": 6,
    "start_time": "2022-10-23T18:09:13.200Z"
   },
   {
    "duration": 133,
    "start_time": "2022-10-23T18:09:37.544Z"
   },
   {
    "duration": 4,
    "start_time": "2022-10-23T18:10:03.903Z"
   },
   {
    "duration": 22,
    "start_time": "2022-10-23T18:10:06.110Z"
   },
   {
    "duration": 123,
    "start_time": "2022-10-23T18:10:09.153Z"
   },
   {
    "duration": 6,
    "start_time": "2022-10-23T18:10:17.328Z"
   },
   {
    "duration": 146,
    "start_time": "2022-10-23T18:10:20.196Z"
   },
   {
    "duration": 135,
    "start_time": "2022-10-23T18:10:23.099Z"
   },
   {
    "duration": 11,
    "start_time": "2022-10-23T18:13:18.285Z"
   },
   {
    "duration": 14,
    "start_time": "2022-10-23T18:15:46.784Z"
   },
   {
    "duration": 4,
    "start_time": "2022-10-23T18:18:44.965Z"
   },
   {
    "duration": 20,
    "start_time": "2022-10-23T18:18:47.363Z"
   },
   {
    "duration": 4,
    "start_time": "2022-10-23T18:19:48.186Z"
   },
   {
    "duration": 18,
    "start_time": "2022-10-23T18:19:50.861Z"
   },
   {
    "duration": 4,
    "start_time": "2022-10-23T18:30:27.432Z"
   },
   {
    "duration": 5,
    "start_time": "2022-10-23T18:35:15.427Z"
   },
   {
    "duration": 32,
    "start_time": "2022-10-23T18:35:18.968Z"
   },
   {
    "duration": 141,
    "start_time": "2022-10-23T18:35:22.103Z"
   },
   {
    "duration": 6,
    "start_time": "2022-10-23T18:35:55.978Z"
   },
   {
    "duration": 18,
    "start_time": "2022-10-23T18:35:58.971Z"
   },
   {
    "duration": 140,
    "start_time": "2022-10-23T18:36:04.069Z"
   },
   {
    "duration": 242,
    "start_time": "2022-10-23T18:36:48.830Z"
   },
   {
    "duration": 4,
    "start_time": "2022-10-23T18:37:57.612Z"
   },
   {
    "duration": 19,
    "start_time": "2022-10-23T18:38:01.668Z"
   },
   {
    "duration": 19,
    "start_time": "2022-10-23T18:38:12.223Z"
   },
   {
    "duration": 143,
    "start_time": "2022-10-23T18:38:14.938Z"
   },
   {
    "duration": 5,
    "start_time": "2022-10-23T18:39:04.779Z"
   },
   {
    "duration": 5,
    "start_time": "2022-10-23T18:39:12.047Z"
   },
   {
    "duration": 19,
    "start_time": "2022-10-23T18:39:13.964Z"
   },
   {
    "duration": 142,
    "start_time": "2022-10-23T18:39:24.162Z"
   },
   {
    "duration": 14,
    "start_time": "2022-10-23T18:41:12.187Z"
   },
   {
    "duration": 9,
    "start_time": "2022-10-23T18:41:23.727Z"
   },
   {
    "duration": 27,
    "start_time": "2022-10-23T18:42:01.104Z"
   },
   {
    "duration": 31,
    "start_time": "2022-10-23T18:42:41.317Z"
   },
   {
    "duration": 18,
    "start_time": "2022-10-23T18:43:06.524Z"
   },
   {
    "duration": 5,
    "start_time": "2022-10-23T18:43:23.242Z"
   },
   {
    "duration": 6,
    "start_time": "2022-10-23T18:43:35.267Z"
   },
   {
    "duration": 5,
    "start_time": "2022-10-23T18:43:51.212Z"
   },
   {
    "duration": 76,
    "start_time": "2022-10-23T18:44:16.261Z"
   },
   {
    "duration": 13,
    "start_time": "2022-10-23T18:44:16.339Z"
   },
   {
    "duration": 14,
    "start_time": "2022-10-23T18:44:16.354Z"
   },
   {
    "duration": 8,
    "start_time": "2022-10-23T18:44:16.369Z"
   },
   {
    "duration": 46,
    "start_time": "2022-10-23T18:44:16.379Z"
   },
   {
    "duration": 2,
    "start_time": "2022-10-23T18:44:16.427Z"
   },
   {
    "duration": 9,
    "start_time": "2022-10-23T18:44:16.431Z"
   },
   {
    "duration": 4,
    "start_time": "2022-10-23T18:44:16.441Z"
   },
   {
    "duration": 7,
    "start_time": "2022-10-23T18:44:16.447Z"
   },
   {
    "duration": 3,
    "start_time": "2022-10-23T18:44:16.456Z"
   },
   {
    "duration": 35,
    "start_time": "2022-10-23T18:44:16.460Z"
   },
   {
    "duration": 33,
    "start_time": "2022-10-23T18:44:16.497Z"
   },
   {
    "duration": 8,
    "start_time": "2022-10-23T18:44:16.531Z"
   },
   {
    "duration": 12,
    "start_time": "2022-10-23T18:44:16.540Z"
   },
   {
    "duration": 18,
    "start_time": "2022-10-23T18:44:16.553Z"
   },
   {
    "duration": 14,
    "start_time": "2022-10-23T18:44:16.572Z"
   },
   {
    "duration": 3,
    "start_time": "2022-10-23T18:44:16.588Z"
   },
   {
    "duration": 30,
    "start_time": "2022-10-23T18:44:16.592Z"
   },
   {
    "duration": 5,
    "start_time": "2022-10-23T18:44:16.623Z"
   },
   {
    "duration": 3,
    "start_time": "2022-10-23T18:44:16.630Z"
   },
   {
    "duration": 13,
    "start_time": "2022-10-23T18:44:16.635Z"
   },
   {
    "duration": 4,
    "start_time": "2022-10-23T18:44:16.649Z"
   },
   {
    "duration": 10,
    "start_time": "2022-10-23T18:44:16.654Z"
   },
   {
    "duration": 110,
    "start_time": "2022-10-23T18:44:16.666Z"
   },
   {
    "duration": 2,
    "start_time": "2022-10-23T18:44:16.777Z"
   },
   {
    "duration": 15,
    "start_time": "2022-10-23T18:44:16.781Z"
   },
   {
    "duration": 20,
    "start_time": "2022-10-23T18:44:16.797Z"
   },
   {
    "duration": 99,
    "start_time": "2022-10-23T18:44:16.823Z"
   },
   {
    "duration": 11,
    "start_time": "2022-10-23T18:44:16.923Z"
   },
   {
    "duration": 112,
    "start_time": "2022-10-23T18:44:16.936Z"
   },
   {
    "duration": 5,
    "start_time": "2022-10-23T18:44:17.049Z"
   },
   {
    "duration": 20,
    "start_time": "2022-10-23T18:44:17.055Z"
   },
   {
    "duration": 123,
    "start_time": "2022-10-23T18:44:17.076Z"
   },
   {
    "duration": 9,
    "start_time": "2022-10-23T18:44:17.200Z"
   },
   {
    "duration": 129,
    "start_time": "2022-10-23T18:44:17.210Z"
   },
   {
    "duration": 3,
    "start_time": "2022-10-23T18:44:17.341Z"
   },
   {
    "duration": 22,
    "start_time": "2022-10-23T18:44:17.346Z"
   },
   {
    "duration": 9,
    "start_time": "2022-10-23T18:44:17.370Z"
   },
   {
    "duration": 129,
    "start_time": "2022-10-23T18:44:17.381Z"
   },
   {
    "duration": 18,
    "start_time": "2022-10-23T18:44:17.511Z"
   },
   {
    "duration": 3,
    "start_time": "2022-10-23T18:44:17.530Z"
   },
   {
    "duration": 26,
    "start_time": "2022-10-23T18:44:17.535Z"
   },
   {
    "duration": 8,
    "start_time": "2022-10-23T18:44:17.562Z"
   },
   {
    "duration": 103,
    "start_time": "2022-10-23T18:44:17.572Z"
   },
   {
    "duration": 8,
    "start_time": "2022-10-23T18:44:17.677Z"
   },
   {
    "duration": 17,
    "start_time": "2022-10-23T18:44:17.686Z"
   },
   {
    "duration": 293,
    "start_time": "2022-10-23T18:44:17.704Z"
   },
   {
    "duration": 13,
    "start_time": "2022-10-23T18:44:17.998Z"
   },
   {
    "duration": 256,
    "start_time": "2022-10-23T18:44:18.022Z"
   },
   {
    "duration": 4,
    "start_time": "2022-10-23T18:44:18.280Z"
   },
   {
    "duration": 24,
    "start_time": "2022-10-23T18:44:18.286Z"
   },
   {
    "duration": 159,
    "start_time": "2022-10-23T18:44:18.312Z"
   },
   {
    "duration": 66,
    "start_time": "2022-10-23T18:44:18.473Z"
   },
   {
    "duration": 0,
    "start_time": "2022-10-23T18:44:18.540Z"
   },
   {
    "duration": 0,
    "start_time": "2022-10-23T18:44:18.542Z"
   },
   {
    "duration": 0,
    "start_time": "2022-10-23T18:44:18.543Z"
   },
   {
    "duration": 6,
    "start_time": "2022-10-23T18:45:31.046Z"
   },
   {
    "duration": 78,
    "start_time": "2022-10-23T18:45:31.057Z"
   },
   {
    "duration": 186,
    "start_time": "2022-10-23T18:45:31.137Z"
   },
   {
    "duration": 68,
    "start_time": "2022-10-23T18:45:31.325Z"
   },
   {
    "duration": 0,
    "start_time": "2022-10-23T18:45:31.394Z"
   },
   {
    "duration": 0,
    "start_time": "2022-10-23T18:45:31.396Z"
   },
   {
    "duration": 0,
    "start_time": "2022-10-23T18:45:31.396Z"
   },
   {
    "duration": 12,
    "start_time": "2022-10-23T18:46:22.292Z"
   },
   {
    "duration": 164,
    "start_time": "2022-10-23T18:46:24.883Z"
   },
   {
    "duration": 5,
    "start_time": "2022-10-23T18:48:05.590Z"
   },
   {
    "duration": 22,
    "start_time": "2022-10-23T18:48:05.601Z"
   },
   {
    "duration": 145,
    "start_time": "2022-10-23T18:48:05.624Z"
   },
   {
    "duration": 9,
    "start_time": "2022-10-23T18:48:05.771Z"
   },
   {
    "duration": 168,
    "start_time": "2022-10-23T18:48:05.781Z"
   },
   {
    "duration": 2,
    "start_time": "2022-10-23T18:48:05.951Z"
   },
   {
    "duration": 87,
    "start_time": "2022-10-23T18:53:59.317Z"
   },
   {
    "duration": 15,
    "start_time": "2022-10-23T18:53:59.407Z"
   },
   {
    "duration": 16,
    "start_time": "2022-10-23T18:53:59.423Z"
   },
   {
    "duration": 9,
    "start_time": "2022-10-23T18:53:59.441Z"
   },
   {
    "duration": 32,
    "start_time": "2022-10-23T18:53:59.452Z"
   },
   {
    "duration": 3,
    "start_time": "2022-10-23T18:53:59.486Z"
   },
   {
    "duration": 38,
    "start_time": "2022-10-23T18:53:59.491Z"
   },
   {
    "duration": 14,
    "start_time": "2022-10-23T18:53:59.530Z"
   },
   {
    "duration": 9,
    "start_time": "2022-10-23T18:53:59.546Z"
   },
   {
    "duration": 9,
    "start_time": "2022-10-23T18:53:59.557Z"
   },
   {
    "duration": 36,
    "start_time": "2022-10-23T18:53:59.567Z"
   },
   {
    "duration": 10,
    "start_time": "2022-10-23T18:53:59.622Z"
   },
   {
    "duration": 4,
    "start_time": "2022-10-23T18:53:59.633Z"
   },
   {
    "duration": 39,
    "start_time": "2022-10-23T18:53:59.639Z"
   },
   {
    "duration": 21,
    "start_time": "2022-10-23T18:53:59.680Z"
   },
   {
    "duration": 19,
    "start_time": "2022-10-23T18:53:59.703Z"
   },
   {
    "duration": 5,
    "start_time": "2022-10-23T18:53:59.724Z"
   },
   {
    "duration": 10,
    "start_time": "2022-10-23T18:53:59.730Z"
   },
   {
    "duration": 7,
    "start_time": "2022-10-23T18:53:59.742Z"
   },
   {
    "duration": 10,
    "start_time": "2022-10-23T18:53:59.751Z"
   },
   {
    "duration": 11,
    "start_time": "2022-10-23T18:53:59.762Z"
   },
   {
    "duration": 5,
    "start_time": "2022-10-23T18:53:59.775Z"
   },
   {
    "duration": 14,
    "start_time": "2022-10-23T18:53:59.782Z"
   },
   {
    "duration": 147,
    "start_time": "2022-10-23T18:53:59.798Z"
   },
   {
    "duration": 3,
    "start_time": "2022-10-23T18:53:59.946Z"
   },
   {
    "duration": 12,
    "start_time": "2022-10-23T18:53:59.951Z"
   },
   {
    "duration": 12,
    "start_time": "2022-10-23T18:53:59.965Z"
   },
   {
    "duration": 116,
    "start_time": "2022-10-23T18:53:59.980Z"
   },
   {
    "duration": 11,
    "start_time": "2022-10-23T18:54:00.097Z"
   },
   {
    "duration": 128,
    "start_time": "2022-10-23T18:54:00.121Z"
   },
   {
    "duration": 6,
    "start_time": "2022-10-23T18:54:00.250Z"
   },
   {
    "duration": 12,
    "start_time": "2022-10-23T18:54:00.257Z"
   },
   {
    "duration": 132,
    "start_time": "2022-10-23T18:54:00.270Z"
   },
   {
    "duration": 10,
    "start_time": "2022-10-23T18:54:00.403Z"
   },
   {
    "duration": 126,
    "start_time": "2022-10-23T18:54:00.422Z"
   },
   {
    "duration": 4,
    "start_time": "2022-10-23T18:54:00.549Z"
   },
   {
    "duration": 37,
    "start_time": "2022-10-23T18:54:00.555Z"
   },
   {
    "duration": 29,
    "start_time": "2022-10-23T18:54:00.594Z"
   },
   {
    "duration": 142,
    "start_time": "2022-10-23T18:54:00.624Z"
   },
   {
    "duration": 10,
    "start_time": "2022-10-23T18:54:00.767Z"
   },
   {
    "duration": 35,
    "start_time": "2022-10-23T18:54:00.778Z"
   },
   {
    "duration": 33,
    "start_time": "2022-10-23T18:54:00.815Z"
   },
   {
    "duration": 39,
    "start_time": "2022-10-23T18:54:00.850Z"
   },
   {
    "duration": 151,
    "start_time": "2022-10-23T18:54:00.891Z"
   },
   {
    "duration": 10,
    "start_time": "2022-10-23T18:54:01.043Z"
   },
   {
    "duration": 32,
    "start_time": "2022-10-23T18:54:01.054Z"
   },
   {
    "duration": 256,
    "start_time": "2022-10-23T18:54:01.089Z"
   },
   {
    "duration": 15,
    "start_time": "2022-10-23T18:54:01.347Z"
   },
   {
    "duration": 285,
    "start_time": "2022-10-23T18:54:01.364Z"
   },
   {
    "duration": 5,
    "start_time": "2022-10-23T18:54:01.650Z"
   },
   {
    "duration": 57,
    "start_time": "2022-10-23T18:54:01.656Z"
   },
   {
    "duration": 156,
    "start_time": "2022-10-23T18:54:01.714Z"
   },
   {
    "duration": 25,
    "start_time": "2022-10-23T18:54:01.871Z"
   },
   {
    "duration": 331,
    "start_time": "2022-10-23T18:54:01.897Z"
   },
   {
    "duration": 2,
    "start_time": "2022-10-23T18:54:02.230Z"
   },
   {
    "duration": 27,
    "start_time": "2022-10-23T19:03:58.201Z"
   },
   {
    "duration": 6,
    "start_time": "2022-10-23T19:04:24.914Z"
   },
   {
    "duration": 5,
    "start_time": "2022-10-23T19:04:33.539Z"
   },
   {
    "duration": 73,
    "start_time": "2022-10-23T19:05:31.306Z"
   },
   {
    "duration": 11,
    "start_time": "2022-10-23T19:05:38.980Z"
   },
   {
    "duration": 64,
    "start_time": "2022-10-23T19:09:48.872Z"
   },
   {
    "duration": 14,
    "start_time": "2022-10-23T19:09:48.973Z"
   },
   {
    "duration": 30,
    "start_time": "2022-10-23T19:09:48.994Z"
   },
   {
    "duration": 9,
    "start_time": "2022-10-23T19:09:49.033Z"
   },
   {
    "duration": 29,
    "start_time": "2022-10-23T19:09:49.048Z"
   },
   {
    "duration": 8,
    "start_time": "2022-10-23T19:09:49.084Z"
   },
   {
    "duration": 7,
    "start_time": "2022-10-23T19:09:49.123Z"
   },
   {
    "duration": 4,
    "start_time": "2022-10-23T19:09:49.161Z"
   },
   {
    "duration": 5,
    "start_time": "2022-10-23T19:09:49.176Z"
   },
   {
    "duration": 32,
    "start_time": "2022-10-23T19:09:49.189Z"
   },
   {
    "duration": 32,
    "start_time": "2022-10-23T19:09:49.235Z"
   },
   {
    "duration": 9,
    "start_time": "2022-10-23T19:09:49.287Z"
   },
   {
    "duration": 3,
    "start_time": "2022-10-23T19:09:49.337Z"
   },
   {
    "duration": 15,
    "start_time": "2022-10-23T19:09:49.349Z"
   },
   {
    "duration": 20,
    "start_time": "2022-10-23T19:09:49.378Z"
   },
   {
    "duration": 19,
    "start_time": "2022-10-23T19:09:49.421Z"
   },
   {
    "duration": 5,
    "start_time": "2022-10-23T19:09:49.445Z"
   },
   {
    "duration": 8,
    "start_time": "2022-10-23T19:09:49.464Z"
   },
   {
    "duration": 7,
    "start_time": "2022-10-23T19:09:49.481Z"
   },
   {
    "duration": 4,
    "start_time": "2022-10-23T19:09:49.521Z"
   },
   {
    "duration": 7,
    "start_time": "2022-10-23T19:09:49.643Z"
   },
   {
    "duration": 7,
    "start_time": "2022-10-23T19:09:49.658Z"
   },
   {
    "duration": 9,
    "start_time": "2022-10-23T19:09:49.682Z"
   },
   {
    "duration": 106,
    "start_time": "2022-10-23T19:09:49.721Z"
   },
   {
    "duration": 2,
    "start_time": "2022-10-23T19:09:49.938Z"
   },
   {
    "duration": 12,
    "start_time": "2022-10-23T19:09:49.957Z"
   },
   {
    "duration": 11,
    "start_time": "2022-10-23T19:09:50.083Z"
   },
   {
    "duration": 107,
    "start_time": "2022-10-23T19:09:50.101Z"
   },
   {
    "duration": 11,
    "start_time": "2022-10-23T19:09:50.227Z"
   },
   {
    "duration": 105,
    "start_time": "2022-10-23T19:09:50.365Z"
   },
   {
    "duration": 4,
    "start_time": "2022-10-23T19:09:50.483Z"
   },
   {
    "duration": 11,
    "start_time": "2022-10-23T19:09:50.625Z"
   },
   {
    "duration": 127,
    "start_time": "2022-10-23T19:09:50.641Z"
   },
   {
    "duration": 18,
    "start_time": "2022-10-23T19:09:50.786Z"
   },
   {
    "duration": 130,
    "start_time": "2022-10-23T19:09:50.829Z"
   },
   {
    "duration": 4,
    "start_time": "2022-10-23T19:09:51.087Z"
   },
   {
    "duration": 22,
    "start_time": "2022-10-23T19:09:51.110Z"
   },
   {
    "duration": 13,
    "start_time": "2022-10-23T19:09:51.146Z"
   },
   {
    "duration": 129,
    "start_time": "2022-10-23T19:09:51.174Z"
   },
   {
    "duration": 13,
    "start_time": "2022-10-23T19:09:51.332Z"
   },
   {
    "duration": 3,
    "start_time": "2022-10-23T19:09:51.461Z"
   },
   {
    "duration": 16,
    "start_time": "2022-10-23T19:09:51.484Z"
   },
   {
    "duration": 17,
    "start_time": "2022-10-23T19:09:51.512Z"
   },
   {
    "duration": 102,
    "start_time": "2022-10-23T19:09:51.783Z"
   },
   {
    "duration": 22,
    "start_time": "2022-10-23T19:09:51.900Z"
   },
   {
    "duration": 12,
    "start_time": "2022-10-23T19:09:52.192Z"
   },
   {
    "duration": 244,
    "start_time": "2022-10-23T19:09:52.221Z"
   },
   {
    "duration": 17,
    "start_time": "2022-10-23T19:09:52.488Z"
   },
   {
    "duration": 294,
    "start_time": "2022-10-23T19:09:52.667Z"
   },
   {
    "duration": 5,
    "start_time": "2022-10-23T19:09:52.973Z"
   },
   {
    "duration": 20,
    "start_time": "2022-10-23T19:09:53.146Z"
   },
   {
    "duration": 171,
    "start_time": "2022-10-23T19:09:53.175Z"
   },
   {
    "duration": 12,
    "start_time": "2022-10-23T19:09:53.360Z"
   },
   {
    "duration": 5,
    "start_time": "2022-10-23T19:10:55.002Z"
   },
   {
    "duration": 9,
    "start_time": "2022-10-23T19:10:55.156Z"
   },
   {
    "duration": 156,
    "start_time": "2022-10-23T19:10:55.178Z"
   },
   {
    "duration": 171,
    "start_time": "2022-10-23T19:11:00.827Z"
   },
   {
    "duration": 147,
    "start_time": "2022-10-23T19:11:19.784Z"
   },
   {
    "duration": 41,
    "start_time": "2022-10-23T19:13:46.766Z"
   },
   {
    "duration": 709,
    "start_time": "2022-10-23T19:13:50.837Z"
   },
   {
    "duration": 23,
    "start_time": "2022-10-23T19:13:51.548Z"
   },
   {
    "duration": 18,
    "start_time": "2022-10-23T19:13:51.572Z"
   },
   {
    "duration": 12,
    "start_time": "2022-10-23T19:13:51.593Z"
   },
   {
    "duration": 40,
    "start_time": "2022-10-23T19:13:51.606Z"
   },
   {
    "duration": 3,
    "start_time": "2022-10-23T19:13:51.648Z"
   },
   {
    "duration": 13,
    "start_time": "2022-10-23T19:13:51.653Z"
   },
   {
    "duration": 5,
    "start_time": "2022-10-23T19:13:51.668Z"
   },
   {
    "duration": 14,
    "start_time": "2022-10-23T19:13:51.674Z"
   },
   {
    "duration": 6,
    "start_time": "2022-10-23T19:13:51.690Z"
   },
   {
    "duration": 48,
    "start_time": "2022-10-23T19:13:51.698Z"
   },
   {
    "duration": 10,
    "start_time": "2022-10-23T19:13:51.748Z"
   },
   {
    "duration": 9,
    "start_time": "2022-10-23T19:13:51.759Z"
   },
   {
    "duration": 16,
    "start_time": "2022-10-23T19:13:51.770Z"
   },
   {
    "duration": 22,
    "start_time": "2022-10-23T19:13:51.788Z"
   },
   {
    "duration": 20,
    "start_time": "2022-10-23T19:13:51.812Z"
   },
   {
    "duration": 3,
    "start_time": "2022-10-23T19:13:51.834Z"
   },
   {
    "duration": 14,
    "start_time": "2022-10-23T19:13:51.838Z"
   },
   {
    "duration": 5,
    "start_time": "2022-10-23T19:13:51.853Z"
   },
   {
    "duration": 4,
    "start_time": "2022-10-23T19:13:51.859Z"
   },
   {
    "duration": 12,
    "start_time": "2022-10-23T19:13:51.864Z"
   },
   {
    "duration": 5,
    "start_time": "2022-10-23T19:13:51.877Z"
   },
   {
    "duration": 14,
    "start_time": "2022-10-23T19:13:51.883Z"
   },
   {
    "duration": 377,
    "start_time": "2022-10-23T19:13:51.898Z"
   },
   {
    "duration": 3,
    "start_time": "2022-10-23T19:13:52.277Z"
   },
   {
    "duration": 14,
    "start_time": "2022-10-23T19:13:52.282Z"
   },
   {
    "duration": 19,
    "start_time": "2022-10-23T19:13:52.298Z"
   },
   {
    "duration": 103,
    "start_time": "2022-10-23T19:13:52.321Z"
   },
   {
    "duration": 10,
    "start_time": "2022-10-23T19:13:52.425Z"
   },
   {
    "duration": 116,
    "start_time": "2022-10-23T19:13:52.436Z"
   },
   {
    "duration": 5,
    "start_time": "2022-10-23T19:13:52.553Z"
   },
   {
    "duration": 15,
    "start_time": "2022-10-23T19:13:52.559Z"
   },
   {
    "duration": 128,
    "start_time": "2022-10-23T19:13:52.576Z"
   },
   {
    "duration": 17,
    "start_time": "2022-10-23T19:13:52.705Z"
   },
   {
    "duration": 141,
    "start_time": "2022-10-23T19:13:52.724Z"
   },
   {
    "duration": 3,
    "start_time": "2022-10-23T19:13:52.867Z"
   },
   {
    "duration": 20,
    "start_time": "2022-10-23T19:13:52.871Z"
   },
   {
    "duration": 11,
    "start_time": "2022-10-23T19:13:52.892Z"
   },
   {
    "duration": 171,
    "start_time": "2022-10-23T19:13:52.921Z"
   },
   {
    "duration": 9,
    "start_time": "2022-10-23T19:13:53.093Z"
   },
   {
    "duration": 2,
    "start_time": "2022-10-23T19:13:53.104Z"
   },
   {
    "duration": 24,
    "start_time": "2022-10-23T19:13:53.108Z"
   },
   {
    "duration": 9,
    "start_time": "2022-10-23T19:13:53.133Z"
   },
   {
    "duration": 117,
    "start_time": "2022-10-23T19:13:53.144Z"
   },
   {
    "duration": 9,
    "start_time": "2022-10-23T19:13:53.263Z"
   },
   {
    "duration": 12,
    "start_time": "2022-10-23T19:13:53.274Z"
   },
   {
    "duration": 257,
    "start_time": "2022-10-23T19:13:53.288Z"
   },
   {
    "duration": 14,
    "start_time": "2022-10-23T19:13:53.547Z"
   },
   {
    "duration": 265,
    "start_time": "2022-10-23T19:13:53.563Z"
   },
   {
    "duration": 4,
    "start_time": "2022-10-23T19:13:53.831Z"
   },
   {
    "duration": 28,
    "start_time": "2022-10-23T19:13:53.837Z"
   },
   {
    "duration": 142,
    "start_time": "2022-10-23T19:13:53.867Z"
   },
   {
    "duration": 15,
    "start_time": "2022-10-23T19:13:54.010Z"
   },
   {
    "duration": 161,
    "start_time": "2022-10-23T19:13:54.027Z"
   },
   {
    "duration": 5,
    "start_time": "2022-10-23T19:13:54.190Z"
   },
   {
    "duration": 11,
    "start_time": "2022-10-23T19:13:54.197Z"
   },
   {
    "duration": 61188,
    "start_time": "2022-10-23T19:13:54.222Z"
   },
   {
    "duration": 109,
    "start_time": "2022-10-23T19:15:14.912Z"
   },
   {
    "duration": 12,
    "start_time": "2022-10-23T19:16:54.563Z"
   },
   {
    "duration": 121,
    "start_time": "2022-10-23T19:17:31.602Z"
   },
   {
    "duration": 120,
    "start_time": "2022-10-23T19:17:46.512Z"
   },
   {
    "duration": 78,
    "start_time": "2022-10-23T19:23:16.023Z"
   },
   {
    "duration": 13,
    "start_time": "2022-10-23T19:23:33.845Z"
   },
   {
    "duration": 40,
    "start_time": "2022-10-23T19:23:41.342Z"
   },
   {
    "duration": 10,
    "start_time": "2022-10-23T19:24:06.136Z"
   },
   {
    "duration": 10,
    "start_time": "2022-10-23T19:25:14.062Z"
   },
   {
    "duration": 142,
    "start_time": "2022-10-23T19:26:05.412Z"
   },
   {
    "duration": 11,
    "start_time": "2022-10-23T19:29:20.650Z"
   },
   {
    "duration": 11,
    "start_time": "2022-10-23T19:30:27.644Z"
   },
   {
    "duration": 8,
    "start_time": "2022-10-23T19:31:03.169Z"
   },
   {
    "duration": 4,
    "start_time": "2022-10-23T20:01:02.360Z"
   },
   {
    "duration": 19,
    "start_time": "2022-10-23T20:01:04.585Z"
   },
   {
    "duration": 127,
    "start_time": "2022-10-23T20:01:10.073Z"
   },
   {
    "duration": 9,
    "start_time": "2022-10-23T20:01:21.881Z"
   },
   {
    "duration": 171,
    "start_time": "2022-10-23T20:01:27.648Z"
   },
   {
    "duration": 69,
    "start_time": "2022-10-23T20:08:24.502Z"
   },
   {
    "duration": 14,
    "start_time": "2022-10-23T20:08:24.573Z"
   },
   {
    "duration": 15,
    "start_time": "2022-10-23T20:08:24.588Z"
   },
   {
    "duration": 20,
    "start_time": "2022-10-23T20:08:24.605Z"
   },
   {
    "duration": 30,
    "start_time": "2022-10-23T20:08:24.626Z"
   },
   {
    "duration": 3,
    "start_time": "2022-10-23T20:08:24.657Z"
   },
   {
    "duration": 10,
    "start_time": "2022-10-23T20:08:24.661Z"
   },
   {
    "duration": 3,
    "start_time": "2022-10-23T20:08:24.673Z"
   },
   {
    "duration": 5,
    "start_time": "2022-10-23T20:08:24.678Z"
   },
   {
    "duration": 6,
    "start_time": "2022-10-23T20:08:24.685Z"
   },
   {
    "duration": 55,
    "start_time": "2022-10-23T20:08:24.692Z"
   },
   {
    "duration": 7,
    "start_time": "2022-10-23T20:08:24.749Z"
   },
   {
    "duration": 5,
    "start_time": "2022-10-23T20:08:24.757Z"
   },
   {
    "duration": 10,
    "start_time": "2022-10-23T20:08:24.764Z"
   },
   {
    "duration": 18,
    "start_time": "2022-10-23T20:08:24.775Z"
   },
   {
    "duration": 42,
    "start_time": "2022-10-23T20:08:24.794Z"
   },
   {
    "duration": 3,
    "start_time": "2022-10-23T20:08:24.837Z"
   },
   {
    "duration": 11,
    "start_time": "2022-10-23T20:08:24.842Z"
   },
   {
    "duration": 7,
    "start_time": "2022-10-23T20:08:24.854Z"
   },
   {
    "duration": 4,
    "start_time": "2022-10-23T20:08:24.862Z"
   },
   {
    "duration": 11,
    "start_time": "2022-10-23T20:08:24.867Z"
   },
   {
    "duration": 3,
    "start_time": "2022-10-23T20:08:24.880Z"
   },
   {
    "duration": 12,
    "start_time": "2022-10-23T20:08:24.885Z"
   },
   {
    "duration": 125,
    "start_time": "2022-10-23T20:08:24.898Z"
   },
   {
    "duration": 3,
    "start_time": "2022-10-23T20:08:25.024Z"
   },
   {
    "duration": 44,
    "start_time": "2022-10-23T20:08:25.028Z"
   },
   {
    "duration": 28,
    "start_time": "2022-10-23T20:08:25.074Z"
   },
   {
    "duration": 99,
    "start_time": "2022-10-23T20:08:25.105Z"
   },
   {
    "duration": 16,
    "start_time": "2022-10-23T20:08:25.206Z"
   },
   {
    "duration": 122,
    "start_time": "2022-10-23T20:08:25.224Z"
   },
   {
    "duration": 6,
    "start_time": "2022-10-23T20:08:25.348Z"
   },
   {
    "duration": 18,
    "start_time": "2022-10-23T20:08:25.356Z"
   },
   {
    "duration": 139,
    "start_time": "2022-10-23T20:08:25.376Z"
   },
   {
    "duration": 10,
    "start_time": "2022-10-23T20:08:25.521Z"
   },
   {
    "duration": 142,
    "start_time": "2022-10-23T20:08:25.533Z"
   },
   {
    "duration": 3,
    "start_time": "2022-10-23T20:08:25.677Z"
   },
   {
    "duration": 22,
    "start_time": "2022-10-23T20:08:25.681Z"
   },
   {
    "duration": 21,
    "start_time": "2022-10-23T20:08:25.704Z"
   },
   {
    "duration": 125,
    "start_time": "2022-10-23T20:08:25.727Z"
   },
   {
    "duration": 11,
    "start_time": "2022-10-23T20:08:25.854Z"
   },
   {
    "duration": 3,
    "start_time": "2022-10-23T20:08:25.866Z"
   },
   {
    "duration": 15,
    "start_time": "2022-10-23T20:08:25.871Z"
   },
   {
    "duration": 8,
    "start_time": "2022-10-23T20:08:25.888Z"
   },
   {
    "duration": 145,
    "start_time": "2022-10-23T20:08:25.897Z"
   },
   {
    "duration": 10,
    "start_time": "2022-10-23T20:08:26.044Z"
   },
   {
    "duration": 17,
    "start_time": "2022-10-23T20:08:26.056Z"
   },
   {
    "duration": 321,
    "start_time": "2022-10-23T20:08:26.075Z"
   },
   {
    "duration": 14,
    "start_time": "2022-10-23T20:08:26.398Z"
   },
   {
    "duration": 285,
    "start_time": "2022-10-23T20:08:26.421Z"
   },
   {
    "duration": 5,
    "start_time": "2022-10-23T20:08:26.707Z"
   },
   {
    "duration": 32,
    "start_time": "2022-10-23T20:08:26.714Z"
   },
   {
    "duration": 155,
    "start_time": "2022-10-23T20:08:26.748Z"
   },
   {
    "duration": 17,
    "start_time": "2022-10-23T20:08:26.905Z"
   },
   {
    "duration": 171,
    "start_time": "2022-10-23T20:08:26.924Z"
   },
   {
    "duration": 5,
    "start_time": "2022-10-23T20:08:27.096Z"
   },
   {
    "duration": 23,
    "start_time": "2022-10-23T20:08:27.103Z"
   },
   {
    "duration": 138,
    "start_time": "2022-10-23T20:08:27.128Z"
   },
   {
    "duration": 10,
    "start_time": "2022-10-23T20:08:27.268Z"
   },
   {
    "duration": 143,
    "start_time": "2022-10-23T20:08:27.280Z"
   },
   {
    "duration": 110,
    "start_time": "2022-10-23T20:17:48.929Z"
   },
   {
    "duration": 114,
    "start_time": "2022-10-23T20:18:06.953Z"
   },
   {
    "duration": 114,
    "start_time": "2022-10-23T20:20:06.433Z"
   },
   {
    "duration": 122,
    "start_time": "2022-10-23T20:20:39.387Z"
   },
   {
    "duration": 588,
    "start_time": "2022-10-27T13:44:35.438Z"
   },
   {
    "duration": 24,
    "start_time": "2022-10-27T13:44:36.028Z"
   },
   {
    "duration": 24,
    "start_time": "2022-10-27T13:44:36.054Z"
   },
   {
    "duration": 18,
    "start_time": "2022-10-27T13:44:36.081Z"
   },
   {
    "duration": 44,
    "start_time": "2022-10-27T13:44:36.101Z"
   },
   {
    "duration": 3,
    "start_time": "2022-10-27T13:44:36.147Z"
   },
   {
    "duration": 26,
    "start_time": "2022-10-27T13:44:36.152Z"
   },
   {
    "duration": 17,
    "start_time": "2022-10-27T13:44:36.180Z"
   },
   {
    "duration": 41,
    "start_time": "2022-10-27T13:44:36.198Z"
   },
   {
    "duration": 13,
    "start_time": "2022-10-27T13:44:36.242Z"
   },
   {
    "duration": 55,
    "start_time": "2022-10-27T13:44:36.257Z"
   },
   {
    "duration": 13,
    "start_time": "2022-10-27T13:44:36.313Z"
   },
   {
    "duration": 12,
    "start_time": "2022-10-27T13:44:36.328Z"
   },
   {
    "duration": 20,
    "start_time": "2022-10-27T13:44:36.342Z"
   },
   {
    "duration": 27,
    "start_time": "2022-10-27T13:44:36.364Z"
   },
   {
    "duration": 20,
    "start_time": "2022-10-27T13:44:36.393Z"
   },
   {
    "duration": 5,
    "start_time": "2022-10-27T13:44:36.414Z"
   },
   {
    "duration": 27,
    "start_time": "2022-10-27T13:44:36.421Z"
   },
   {
    "duration": 13,
    "start_time": "2022-10-27T13:44:36.449Z"
   },
   {
    "duration": 9,
    "start_time": "2022-10-27T13:44:36.464Z"
   },
   {
    "duration": 28,
    "start_time": "2022-10-27T13:44:36.475Z"
   },
   {
    "duration": 12,
    "start_time": "2022-10-27T13:44:36.504Z"
   },
   {
    "duration": 38,
    "start_time": "2022-10-27T13:44:36.519Z"
   },
   {
    "duration": 566,
    "start_time": "2022-10-27T13:44:36.559Z"
   },
   {
    "duration": 3,
    "start_time": "2022-10-27T13:44:37.127Z"
   },
   {
    "duration": 26,
    "start_time": "2022-10-27T13:44:37.131Z"
   },
   {
    "duration": 22,
    "start_time": "2022-10-27T13:44:37.159Z"
   },
   {
    "duration": 116,
    "start_time": "2022-10-27T13:44:37.185Z"
   },
   {
    "duration": 10,
    "start_time": "2022-10-27T13:44:37.303Z"
   },
   {
    "duration": 145,
    "start_time": "2022-10-27T13:44:37.323Z"
   },
   {
    "duration": 7,
    "start_time": "2022-10-27T13:44:37.470Z"
   },
   {
    "duration": 20,
    "start_time": "2022-10-27T13:44:37.479Z"
   },
   {
    "duration": 179,
    "start_time": "2022-10-27T13:44:37.500Z"
   },
   {
    "duration": 16,
    "start_time": "2022-10-27T13:44:37.681Z"
   },
   {
    "duration": 216,
    "start_time": "2022-10-27T13:44:37.700Z"
   },
   {
    "duration": 5,
    "start_time": "2022-10-27T13:44:37.918Z"
   },
   {
    "duration": 56,
    "start_time": "2022-10-27T13:44:37.926Z"
   },
   {
    "duration": 29,
    "start_time": "2022-10-27T13:44:37.984Z"
   },
   {
    "duration": 153,
    "start_time": "2022-10-27T13:44:38.015Z"
   },
   {
    "duration": 11,
    "start_time": "2022-10-27T13:44:38.170Z"
   },
   {
    "duration": 17,
    "start_time": "2022-10-27T13:44:38.183Z"
   },
   {
    "duration": 32,
    "start_time": "2022-10-27T13:44:38.202Z"
   },
   {
    "duration": 20,
    "start_time": "2022-10-27T13:44:38.236Z"
   },
   {
    "duration": 147,
    "start_time": "2022-10-27T13:44:38.257Z"
   },
   {
    "duration": 9,
    "start_time": "2022-10-27T13:44:38.405Z"
   },
   {
    "duration": 23,
    "start_time": "2022-10-27T13:44:38.416Z"
   },
   {
    "duration": 325,
    "start_time": "2022-10-27T13:44:38.441Z"
   },
   {
    "duration": 14,
    "start_time": "2022-10-27T13:44:38.768Z"
   },
   {
    "duration": 318,
    "start_time": "2022-10-27T13:44:38.783Z"
   },
   {
    "duration": 5,
    "start_time": "2022-10-27T13:44:39.103Z"
   },
   {
    "duration": 44,
    "start_time": "2022-10-27T13:44:39.109Z"
   },
   {
    "duration": 174,
    "start_time": "2022-10-27T13:44:39.154Z"
   },
   {
    "duration": 11,
    "start_time": "2022-10-27T13:44:39.331Z"
   },
   {
    "duration": 193,
    "start_time": "2022-10-27T13:44:39.344Z"
   },
   {
    "duration": 6,
    "start_time": "2022-10-27T13:44:39.538Z"
   },
   {
    "duration": 13,
    "start_time": "2022-10-27T13:44:39.546Z"
   },
   {
    "duration": 164,
    "start_time": "2022-10-27T13:44:39.561Z"
   },
   {
    "duration": 11,
    "start_time": "2022-10-27T13:44:39.728Z"
   },
   {
    "duration": 162,
    "start_time": "2022-10-27T13:44:39.741Z"
   },
   {
    "duration": 22,
    "start_time": "2022-10-27T13:52:58.832Z"
   },
   {
    "duration": 85,
    "start_time": "2022-10-27T13:55:33.548Z"
   },
   {
    "duration": 45,
    "start_time": "2022-10-27T13:55:52.903Z"
   },
   {
    "duration": 17,
    "start_time": "2022-10-27T13:56:33.402Z"
   },
   {
    "duration": 71,
    "start_time": "2022-10-27T13:57:05.844Z"
   },
   {
    "duration": 27,
    "start_time": "2022-10-27T13:57:13.994Z"
   },
   {
    "duration": 25,
    "start_time": "2022-10-27T13:57:29.345Z"
   },
   {
    "duration": 43,
    "start_time": "2022-10-27T13:59:52.532Z"
   },
   {
    "duration": 52,
    "start_time": "2022-10-27T14:04:39.032Z"
   },
   {
    "duration": 24,
    "start_time": "2022-10-27T14:04:55.992Z"
   },
   {
    "duration": 25,
    "start_time": "2022-10-27T14:05:27.595Z"
   },
   {
    "duration": 27,
    "start_time": "2022-10-27T14:15:07.246Z"
   },
   {
    "duration": 25,
    "start_time": "2022-10-27T14:15:12.553Z"
   },
   {
    "duration": 31,
    "start_time": "2022-10-27T14:16:21.375Z"
   },
   {
    "duration": 28,
    "start_time": "2022-10-27T14:17:25.679Z"
   },
   {
    "duration": 27,
    "start_time": "2022-10-27T14:17:47.360Z"
   },
   {
    "duration": 130,
    "start_time": "2022-10-27T14:18:05.345Z"
   },
   {
    "duration": 28,
    "start_time": "2022-10-27T14:20:53.491Z"
   },
   {
    "duration": 25,
    "start_time": "2022-10-27T14:21:16.083Z"
   },
   {
    "duration": 73,
    "start_time": "2022-10-27T14:22:20.333Z"
   },
   {
    "duration": 73,
    "start_time": "2022-10-27T14:23:14.499Z"
   },
   {
    "duration": 92,
    "start_time": "2022-10-27T14:23:31.752Z"
   },
   {
    "duration": 84,
    "start_time": "2022-10-27T14:23:39.001Z"
   },
   {
    "duration": 30,
    "start_time": "2022-10-27T14:24:24.290Z"
   },
   {
    "duration": 48,
    "start_time": "2022-11-04T21:49:39.722Z"
   },
   {
    "duration": 479,
    "start_time": "2022-11-04T21:49:47.612Z"
   },
   {
    "duration": 19,
    "start_time": "2022-11-04T21:49:48.093Z"
   },
   {
    "duration": 15,
    "start_time": "2022-11-04T21:49:48.113Z"
   },
   {
    "duration": 8,
    "start_time": "2022-11-04T21:49:48.130Z"
   },
   {
    "duration": 32,
    "start_time": "2022-11-04T21:49:48.139Z"
   },
   {
    "duration": 3,
    "start_time": "2022-11-04T21:49:48.172Z"
   },
   {
    "duration": 11,
    "start_time": "2022-11-04T21:49:48.176Z"
   },
   {
    "duration": 7,
    "start_time": "2022-11-04T21:49:48.188Z"
   },
   {
    "duration": 14,
    "start_time": "2022-11-04T21:49:48.196Z"
   },
   {
    "duration": 3,
    "start_time": "2022-11-04T21:49:48.221Z"
   },
   {
    "duration": 32,
    "start_time": "2022-11-04T21:49:51.851Z"
   }
  ],
  "colab": {
   "name": "dpp_template_part2.ipynb",
   "provenance": []
  },
  "kernelspec": {
   "display_name": "Python 3 (ipykernel)",
   "language": "python",
   "name": "python3"
  },
  "language_info": {
   "codemirror_mode": {
    "name": "ipython",
    "version": 3
   },
   "file_extension": ".py",
   "mimetype": "text/x-python",
   "name": "python",
   "nbconvert_exporter": "python",
   "pygments_lexer": "ipython3",
   "version": "3.9.12"
  },
  "toc": {
   "base_numbering": 1,
   "nav_menu": {},
   "number_sections": true,
   "sideBar": true,
   "skip_h1_title": true,
   "title_cell": "Table of Contents",
   "title_sidebar": "Contents",
   "toc_cell": false,
   "toc_position": {},
   "toc_section_display": true,
   "toc_window_display": false
  }
 },
 "nbformat": 4,
 "nbformat_minor": 5
}
